{
  "nbformat": 4,
  "nbformat_minor": 0,
  "metadata": {
    "colab": {
      "name": "NN-NLP_Twitter_Kaggle_Challenge.ipynb",
      "provenance": []
    },
    "kernelspec": {
      "name": "python3",
      "display_name": "Python 3"
    },
    "accelerator": "GPU"
  },
  "cells": [
    {
      "cell_type": "code",
      "metadata": {
        "id": "EZl151iReYc9",
        "colab_type": "code",
        "colab": {}
      },
      "source": [
        "import tensorflow as tf \n",
        "import pandas as pd\n",
        "import numpy as np\n",
        "import matplotlib.pyplot as plt\n",
        "\n",
        "from tensorflow.keras.preprocessing.text import Tokenizer\n",
        "from tensorflow.keras.preprocessing.sequence import pad_sequences\n"
      ],
      "execution_count": 0,
      "outputs": []
    },
    {
      "cell_type": "code",
      "metadata": {
        "id": "VX7e9zfsfkyc",
        "colab_type": "code",
        "colab": {
          "resources": {
            "http://localhost:8080/nbextensions/google.colab/files.js": {
              "data": "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",
              "ok": true,
              "headers": [
                [
                  "content-type",
                  "application/javascript"
                ]
              ],
              "status": 200,
              "status_text": ""
            }
          },
          "base_uri": "https://localhost:8080/",
          "height": 74
        },
        "outputId": "525d9e57-5a2c-4b12-ca0d-ea11276d2d12"
      },
      "source": [
        "from google.colab import files\n",
        "uploaded = files.upload()"
      ],
      "execution_count": 3,
      "outputs": [
        {
          "output_type": "display_data",
          "data": {
            "text/html": [
              "\n",
              "     <input type=\"file\" id=\"files-0a14f14a-9b84-4819-a6de-6794d48f0651\" name=\"files[]\" multiple disabled />\n",
              "     <output id=\"result-0a14f14a-9b84-4819-a6de-6794d48f0651\">\n",
              "      Upload widget is only available when the cell has been executed in the\n",
              "      current browser session. Please rerun this cell to enable.\n",
              "      </output>\n",
              "      <script src=\"/nbextensions/google.colab/files.js\"></script> "
            ],
            "text/plain": [
              "<IPython.core.display.HTML object>"
            ]
          },
          "metadata": {
            "tags": []
          }
        },
        {
          "output_type": "stream",
          "text": [
            "Saving train.csv to train.csv\n"
          ],
          "name": "stdout"
        }
      ]
    },
    {
      "cell_type": "code",
      "metadata": {
        "id": "vvitxrJwfwX2",
        "colab_type": "code",
        "colab": {}
      },
      "source": [
        "import io\n",
        "data = pd.read_csv(io.BytesIO(uploaded['train.csv']))"
      ],
      "execution_count": 0,
      "outputs": []
    },
    {
      "cell_type": "code",
      "metadata": {
        "id": "045u0i89f4TW",
        "colab_type": "code",
        "colab": {
          "base_uri": "https://localhost:8080/",
          "height": 204
        },
        "outputId": "693789d4-a73b-436a-bca3-64bfcb0bb51b"
      },
      "source": [
        "data.head()"
      ],
      "execution_count": 5,
      "outputs": [
        {
          "output_type": "execute_result",
          "data": {
            "text/html": [
              "<div>\n",
              "<style scoped>\n",
              "    .dataframe tbody tr th:only-of-type {\n",
              "        vertical-align: middle;\n",
              "    }\n",
              "\n",
              "    .dataframe tbody tr th {\n",
              "        vertical-align: top;\n",
              "    }\n",
              "\n",
              "    .dataframe thead th {\n",
              "        text-align: right;\n",
              "    }\n",
              "</style>\n",
              "<table border=\"1\" class=\"dataframe\">\n",
              "  <thead>\n",
              "    <tr style=\"text-align: right;\">\n",
              "      <th></th>\n",
              "      <th>id</th>\n",
              "      <th>keyword</th>\n",
              "      <th>location</th>\n",
              "      <th>text</th>\n",
              "      <th>target</th>\n",
              "    </tr>\n",
              "  </thead>\n",
              "  <tbody>\n",
              "    <tr>\n",
              "      <th>0</th>\n",
              "      <td>1</td>\n",
              "      <td>NaN</td>\n",
              "      <td>NaN</td>\n",
              "      <td>Our Deeds are the Reason of this #earthquake M...</td>\n",
              "      <td>1</td>\n",
              "    </tr>\n",
              "    <tr>\n",
              "      <th>1</th>\n",
              "      <td>4</td>\n",
              "      <td>NaN</td>\n",
              "      <td>NaN</td>\n",
              "      <td>Forest fire near La Ronge Sask. Canada</td>\n",
              "      <td>1</td>\n",
              "    </tr>\n",
              "    <tr>\n",
              "      <th>2</th>\n",
              "      <td>5</td>\n",
              "      <td>NaN</td>\n",
              "      <td>NaN</td>\n",
              "      <td>All residents asked to 'shelter in place' are ...</td>\n",
              "      <td>1</td>\n",
              "    </tr>\n",
              "    <tr>\n",
              "      <th>3</th>\n",
              "      <td>6</td>\n",
              "      <td>NaN</td>\n",
              "      <td>NaN</td>\n",
              "      <td>13,000 people receive #wildfires evacuation or...</td>\n",
              "      <td>1</td>\n",
              "    </tr>\n",
              "    <tr>\n",
              "      <th>4</th>\n",
              "      <td>7</td>\n",
              "      <td>NaN</td>\n",
              "      <td>NaN</td>\n",
              "      <td>Just got sent this photo from Ruby #Alaska as ...</td>\n",
              "      <td>1</td>\n",
              "    </tr>\n",
              "  </tbody>\n",
              "</table>\n",
              "</div>"
            ],
            "text/plain": [
              "   id keyword  ...                                               text target\n",
              "0   1     NaN  ...  Our Deeds are the Reason of this #earthquake M...      1\n",
              "1   4     NaN  ...             Forest fire near La Ronge Sask. Canada      1\n",
              "2   5     NaN  ...  All residents asked to 'shelter in place' are ...      1\n",
              "3   6     NaN  ...  13,000 people receive #wildfires evacuation or...      1\n",
              "4   7     NaN  ...  Just got sent this photo from Ruby #Alaska as ...      1\n",
              "\n",
              "[5 rows x 5 columns]"
            ]
          },
          "metadata": {
            "tags": []
          },
          "execution_count": 5
        }
      ]
    },
    {
      "cell_type": "code",
      "metadata": {
        "id": "jZl-VS_IgCQO",
        "colab_type": "code",
        "colab": {}
      },
      "source": [
        "data.drop(columns=['keyword', 'location', 'id'], inplace=True)"
      ],
      "execution_count": 0,
      "outputs": []
    },
    {
      "cell_type": "code",
      "metadata": {
        "id": "L4Z1957SgNtx",
        "colab_type": "code",
        "colab": {
          "base_uri": "https://localhost:8080/",
          "height": 204
        },
        "outputId": "77370801-eb88-424e-8afc-7622e7032a7f"
      },
      "source": [
        "data.head()"
      ],
      "execution_count": 7,
      "outputs": [
        {
          "output_type": "execute_result",
          "data": {
            "text/html": [
              "<div>\n",
              "<style scoped>\n",
              "    .dataframe tbody tr th:only-of-type {\n",
              "        vertical-align: middle;\n",
              "    }\n",
              "\n",
              "    .dataframe tbody tr th {\n",
              "        vertical-align: top;\n",
              "    }\n",
              "\n",
              "    .dataframe thead th {\n",
              "        text-align: right;\n",
              "    }\n",
              "</style>\n",
              "<table border=\"1\" class=\"dataframe\">\n",
              "  <thead>\n",
              "    <tr style=\"text-align: right;\">\n",
              "      <th></th>\n",
              "      <th>text</th>\n",
              "      <th>target</th>\n",
              "    </tr>\n",
              "  </thead>\n",
              "  <tbody>\n",
              "    <tr>\n",
              "      <th>0</th>\n",
              "      <td>Our Deeds are the Reason of this #earthquake M...</td>\n",
              "      <td>1</td>\n",
              "    </tr>\n",
              "    <tr>\n",
              "      <th>1</th>\n",
              "      <td>Forest fire near La Ronge Sask. Canada</td>\n",
              "      <td>1</td>\n",
              "    </tr>\n",
              "    <tr>\n",
              "      <th>2</th>\n",
              "      <td>All residents asked to 'shelter in place' are ...</td>\n",
              "      <td>1</td>\n",
              "    </tr>\n",
              "    <tr>\n",
              "      <th>3</th>\n",
              "      <td>13,000 people receive #wildfires evacuation or...</td>\n",
              "      <td>1</td>\n",
              "    </tr>\n",
              "    <tr>\n",
              "      <th>4</th>\n",
              "      <td>Just got sent this photo from Ruby #Alaska as ...</td>\n",
              "      <td>1</td>\n",
              "    </tr>\n",
              "  </tbody>\n",
              "</table>\n",
              "</div>"
            ],
            "text/plain": [
              "                                                text  target\n",
              "0  Our Deeds are the Reason of this #earthquake M...       1\n",
              "1             Forest fire near La Ronge Sask. Canada       1\n",
              "2  All residents asked to 'shelter in place' are ...       1\n",
              "3  13,000 people receive #wildfires evacuation or...       1\n",
              "4  Just got sent this photo from Ruby #Alaska as ...       1"
            ]
          },
          "metadata": {
            "tags": []
          },
          "execution_count": 7
        }
      ]
    },
    {
      "cell_type": "code",
      "metadata": {
        "id": "42HHNcaPg5U-",
        "colab_type": "code",
        "colab": {}
      },
      "source": [
        "from sklearn.model_selection import train_test_split\n",
        "\n",
        "X = data['text']\n",
        "y = data['target']\n",
        "\n",
        "X_train, X_test, y_train, y_test = train_test_split(X, y, test_size=0.3)"
      ],
      "execution_count": 0,
      "outputs": []
    },
    {
      "cell_type": "code",
      "metadata": {
        "id": "z7LB8FFihs6c",
        "colab_type": "code",
        "colab": {}
      },
      "source": [
        "vocab_size = 1000\n",
        "embedding_dim = 16\n",
        "max_length = 100\n",
        "trunc_type = 'post'\n",
        "padding_type = 'post'\n",
        "oov_tok = '<OOV>'"
      ],
      "execution_count": 0,
      "outputs": []
    },
    {
      "cell_type": "code",
      "metadata": {
        "id": "defch0J1gXaJ",
        "colab_type": "code",
        "colab": {}
      },
      "source": [
        "tokenizer = Tokenizer(num_words=vocab_size, oov_token=oov_tok)\n",
        "tokenizer.fit_on_texts(X_train)\n",
        "word_index = tokenizer.word_index\n",
        "\n",
        "training_sequences = tokenizer.texts_to_sequences(X_train)\n",
        "training_padded = pad_sequences(training_sequences, maxlen=max_length, padding=padding_type, truncating=trunc_type)\n",
        "\n",
        "testing_sequences = tokenizer.texts_to_sequences(X_test)\n",
        "testing_padded = pad_sequences(testing_sequences, maxlen=max_length, padding=padding_type, truncating=trunc_type)"
      ],
      "execution_count": 0,
      "outputs": []
    },
    {
      "cell_type": "code",
      "metadata": {
        "id": "p1d9PQpMhMWY",
        "colab_type": "code",
        "colab": {
          "base_uri": "https://localhost:8080/",
          "height": 323
        },
        "outputId": "3679fe54-2b72-4487-b145-4946719a8e94"
      },
      "source": [
        "model = tf.keras.models.Sequential()\n",
        "\n",
        "model.add(tf.keras.layers.Embedding(vocab_size, embedding_dim, input_length=max_length))\n",
        "model.add(tf.keras.layers.GlobalAveragePooling1D())\n",
        "model.add(tf.keras.layers.Dense(12, activation='relu'))\n",
        "model.add(tf.keras.layers.Dense(6, activation='relu'))\n",
        "model.add(tf.keras.layers.Dense(1, activation='sigmoid'))\n",
        "\n",
        "model.summary()"
      ],
      "execution_count": 11,
      "outputs": [
        {
          "output_type": "stream",
          "text": [
            "Model: \"sequential\"\n",
            "_________________________________________________________________\n",
            "Layer (type)                 Output Shape              Param #   \n",
            "=================================================================\n",
            "embedding (Embedding)        (None, 100, 16)           16000     \n",
            "_________________________________________________________________\n",
            "global_average_pooling1d (Gl (None, 16)                0         \n",
            "_________________________________________________________________\n",
            "dense (Dense)                (None, 12)                204       \n",
            "_________________________________________________________________\n",
            "dense_1 (Dense)              (None, 6)                 78        \n",
            "_________________________________________________________________\n",
            "dense_2 (Dense)              (None, 1)                 7         \n",
            "=================================================================\n",
            "Total params: 16,289\n",
            "Trainable params: 16,289\n",
            "Non-trainable params: 0\n",
            "_________________________________________________________________\n"
          ],
          "name": "stdout"
        }
      ]
    },
    {
      "cell_type": "code",
      "metadata": {
        "id": "JGzf5yRQjE7z",
        "colab_type": "code",
        "colab": {}
      },
      "source": [
        "model.compile(loss=tf.keras.losses.BinaryCrossentropy(),\n",
        "              optimizer='adam',\n",
        "              metrics=['accuracy'])"
      ],
      "execution_count": 0,
      "outputs": []
    },
    {
      "cell_type": "code",
      "metadata": {
        "id": "Vu_F1pPhjVTc",
        "colab_type": "code",
        "colab": {
          "base_uri": "https://localhost:8080/",
          "height": 1000
        },
        "outputId": "82e287a8-249b-4b3e-d79a-125ff3bc838e"
      },
      "source": [
        "modelo = model.fit(training_padded, y_train, epochs=200, batch_size=64)"
      ],
      "execution_count": 17,
      "outputs": [
        {
          "output_type": "stream",
          "text": [
            "Epoch 1/200\n",
            "84/84 [==============================] - 0s 4ms/step - loss: 0.2134 - accuracy: 0.9199\n",
            "Epoch 2/200\n",
            "84/84 [==============================] - 0s 4ms/step - loss: 0.2133 - accuracy: 0.9174\n",
            "Epoch 3/200\n",
            "84/84 [==============================] - 0s 4ms/step - loss: 0.2159 - accuracy: 0.9189\n",
            "Epoch 4/200\n",
            "84/84 [==============================] - 0s 4ms/step - loss: 0.2132 - accuracy: 0.9182\n",
            "Epoch 5/200\n",
            "84/84 [==============================] - 0s 4ms/step - loss: 0.2119 - accuracy: 0.9204\n",
            "Epoch 6/200\n",
            "84/84 [==============================] - 0s 4ms/step - loss: 0.2107 - accuracy: 0.9208\n",
            "Epoch 7/200\n",
            "84/84 [==============================] - 0s 4ms/step - loss: 0.2104 - accuracy: 0.9206\n",
            "Epoch 8/200\n",
            "84/84 [==============================] - 0s 4ms/step - loss: 0.2084 - accuracy: 0.9193\n",
            "Epoch 9/200\n",
            "84/84 [==============================] - 0s 4ms/step - loss: 0.2091 - accuracy: 0.9219\n",
            "Epoch 10/200\n",
            "84/84 [==============================] - 0s 4ms/step - loss: 0.2127 - accuracy: 0.9186\n",
            "Epoch 11/200\n",
            "84/84 [==============================] - 0s 4ms/step - loss: 0.2124 - accuracy: 0.9165\n",
            "Epoch 12/200\n",
            "84/84 [==============================] - 0s 4ms/step - loss: 0.2099 - accuracy: 0.9189\n",
            "Epoch 13/200\n",
            "84/84 [==============================] - 0s 4ms/step - loss: 0.2137 - accuracy: 0.9159\n",
            "Epoch 14/200\n",
            "84/84 [==============================] - 0s 3ms/step - loss: 0.2056 - accuracy: 0.9217\n",
            "Epoch 15/200\n",
            "84/84 [==============================] - 0s 3ms/step - loss: 0.2049 - accuracy: 0.9204\n",
            "Epoch 16/200\n",
            "84/84 [==============================] - 0s 4ms/step - loss: 0.2079 - accuracy: 0.9199\n",
            "Epoch 17/200\n",
            "84/84 [==============================] - 0s 3ms/step - loss: 0.2036 - accuracy: 0.9225\n",
            "Epoch 18/200\n",
            "84/84 [==============================] - 0s 3ms/step - loss: 0.2056 - accuracy: 0.9217\n",
            "Epoch 19/200\n",
            "84/84 [==============================] - 0s 4ms/step - loss: 0.2063 - accuracy: 0.9206\n",
            "Epoch 20/200\n",
            "84/84 [==============================] - 0s 4ms/step - loss: 0.2045 - accuracy: 0.9225\n",
            "Epoch 21/200\n",
            "84/84 [==============================] - 0s 4ms/step - loss: 0.2030 - accuracy: 0.9234\n",
            "Epoch 22/200\n",
            "84/84 [==============================] - 0s 4ms/step - loss: 0.1993 - accuracy: 0.9253\n",
            "Epoch 23/200\n",
            "84/84 [==============================] - 0s 3ms/step - loss: 0.2032 - accuracy: 0.9248\n",
            "Epoch 24/200\n",
            "84/84 [==============================] - 0s 4ms/step - loss: 0.2005 - accuracy: 0.9248\n",
            "Epoch 25/200\n",
            "84/84 [==============================] - 0s 4ms/step - loss: 0.2019 - accuracy: 0.9238\n",
            "Epoch 26/200\n",
            "84/84 [==============================] - 0s 3ms/step - loss: 0.2055 - accuracy: 0.9193\n",
            "Epoch 27/200\n",
            "84/84 [==============================] - 0s 4ms/step - loss: 0.1998 - accuracy: 0.9251\n",
            "Epoch 28/200\n",
            "84/84 [==============================] - 0s 3ms/step - loss: 0.1976 - accuracy: 0.9255\n",
            "Epoch 29/200\n",
            "84/84 [==============================] - 0s 4ms/step - loss: 0.1997 - accuracy: 0.9229\n",
            "Epoch 30/200\n",
            "84/84 [==============================] - 0s 3ms/step - loss: 0.1975 - accuracy: 0.9246\n",
            "Epoch 31/200\n",
            "84/84 [==============================] - 0s 4ms/step - loss: 0.1978 - accuracy: 0.9268\n",
            "Epoch 32/200\n",
            "84/84 [==============================] - 0s 4ms/step - loss: 0.1952 - accuracy: 0.9296\n",
            "Epoch 33/200\n",
            "84/84 [==============================] - 0s 3ms/step - loss: 0.1949 - accuracy: 0.9279\n",
            "Epoch 34/200\n",
            "84/84 [==============================] - 0s 4ms/step - loss: 0.1978 - accuracy: 0.9257\n",
            "Epoch 35/200\n",
            "84/84 [==============================] - 0s 4ms/step - loss: 0.1986 - accuracy: 0.9246\n",
            "Epoch 36/200\n",
            "84/84 [==============================] - 0s 4ms/step - loss: 0.1959 - accuracy: 0.9248\n",
            "Epoch 37/200\n",
            "84/84 [==============================] - 0s 4ms/step - loss: 0.1917 - accuracy: 0.9289\n",
            "Epoch 38/200\n",
            "84/84 [==============================] - 0s 3ms/step - loss: 0.1951 - accuracy: 0.9253\n",
            "Epoch 39/200\n",
            "84/84 [==============================] - 0s 4ms/step - loss: 0.1934 - accuracy: 0.9294\n",
            "Epoch 40/200\n",
            "84/84 [==============================] - 0s 4ms/step - loss: 0.1897 - accuracy: 0.9324\n",
            "Epoch 41/200\n",
            "84/84 [==============================] - 0s 4ms/step - loss: 0.1917 - accuracy: 0.9278\n",
            "Epoch 42/200\n",
            "84/84 [==============================] - 0s 3ms/step - loss: 0.1877 - accuracy: 0.9319\n",
            "Epoch 43/200\n",
            "84/84 [==============================] - 0s 4ms/step - loss: 0.1877 - accuracy: 0.9309\n",
            "Epoch 44/200\n",
            "84/84 [==============================] - 0s 3ms/step - loss: 0.1901 - accuracy: 0.9293\n",
            "Epoch 45/200\n",
            "84/84 [==============================] - 0s 4ms/step - loss: 0.1865 - accuracy: 0.9336\n",
            "Epoch 46/200\n",
            "84/84 [==============================] - 0s 4ms/step - loss: 0.1873 - accuracy: 0.9328\n",
            "Epoch 47/200\n",
            "84/84 [==============================] - 0s 4ms/step - loss: 0.1856 - accuracy: 0.9309\n",
            "Epoch 48/200\n",
            "84/84 [==============================] - 0s 4ms/step - loss: 0.1885 - accuracy: 0.9304\n",
            "Epoch 49/200\n",
            "84/84 [==============================] - 0s 4ms/step - loss: 0.1857 - accuracy: 0.9330\n",
            "Epoch 50/200\n",
            "84/84 [==============================] - 0s 4ms/step - loss: 0.1854 - accuracy: 0.9315\n",
            "Epoch 51/200\n",
            "84/84 [==============================] - 0s 4ms/step - loss: 0.1844 - accuracy: 0.9334\n",
            "Epoch 52/200\n",
            "84/84 [==============================] - 0s 3ms/step - loss: 0.1835 - accuracy: 0.9326\n",
            "Epoch 53/200\n",
            "84/84 [==============================] - 0s 4ms/step - loss: 0.1855 - accuracy: 0.9339\n",
            "Epoch 54/200\n",
            "84/84 [==============================] - 0s 4ms/step - loss: 0.1849 - accuracy: 0.9323\n",
            "Epoch 55/200\n",
            "84/84 [==============================] - 0s 3ms/step - loss: 0.1802 - accuracy: 0.9358\n",
            "Epoch 56/200\n",
            "84/84 [==============================] - 0s 4ms/step - loss: 0.1815 - accuracy: 0.9332\n",
            "Epoch 57/200\n",
            "84/84 [==============================] - 0s 3ms/step - loss: 0.1790 - accuracy: 0.9362\n",
            "Epoch 58/200\n",
            "84/84 [==============================] - 0s 3ms/step - loss: 0.1811 - accuracy: 0.9345\n",
            "Epoch 59/200\n",
            "84/84 [==============================] - 0s 4ms/step - loss: 0.1786 - accuracy: 0.9351\n",
            "Epoch 60/200\n",
            "84/84 [==============================] - 0s 3ms/step - loss: 0.1793 - accuracy: 0.9351\n",
            "Epoch 61/200\n",
            "84/84 [==============================] - 0s 3ms/step - loss: 0.1770 - accuracy: 0.9360\n",
            "Epoch 62/200\n",
            "84/84 [==============================] - 0s 3ms/step - loss: 0.1768 - accuracy: 0.9354\n",
            "Epoch 63/200\n",
            "84/84 [==============================] - 0s 4ms/step - loss: 0.1750 - accuracy: 0.9364\n",
            "Epoch 64/200\n",
            "84/84 [==============================] - 0s 4ms/step - loss: 0.1791 - accuracy: 0.9336\n",
            "Epoch 65/200\n",
            "84/84 [==============================] - 0s 4ms/step - loss: 0.1748 - accuracy: 0.9379\n",
            "Epoch 66/200\n",
            "84/84 [==============================] - 0s 4ms/step - loss: 0.1784 - accuracy: 0.9332\n",
            "Epoch 67/200\n",
            "84/84 [==============================] - 0s 4ms/step - loss: 0.1790 - accuracy: 0.9334\n",
            "Epoch 68/200\n",
            "84/84 [==============================] - 0s 4ms/step - loss: 0.1765 - accuracy: 0.9369\n",
            "Epoch 69/200\n",
            "84/84 [==============================] - 0s 4ms/step - loss: 0.1741 - accuracy: 0.9362\n",
            "Epoch 70/200\n",
            "84/84 [==============================] - 0s 3ms/step - loss: 0.1720 - accuracy: 0.9377\n",
            "Epoch 71/200\n",
            "84/84 [==============================] - 0s 4ms/step - loss: 0.1701 - accuracy: 0.9403\n",
            "Epoch 72/200\n",
            "84/84 [==============================] - 0s 4ms/step - loss: 0.1717 - accuracy: 0.9403\n",
            "Epoch 73/200\n",
            "84/84 [==============================] - 0s 3ms/step - loss: 0.1709 - accuracy: 0.9369\n",
            "Epoch 74/200\n",
            "84/84 [==============================] - 0s 4ms/step - loss: 0.1739 - accuracy: 0.9371\n",
            "Epoch 75/200\n",
            "84/84 [==============================] - 0s 3ms/step - loss: 0.1784 - accuracy: 0.9339\n",
            "Epoch 76/200\n",
            "84/84 [==============================] - 0s 4ms/step - loss: 0.1683 - accuracy: 0.9426\n",
            "Epoch 77/200\n",
            "84/84 [==============================] - 0s 4ms/step - loss: 0.1684 - accuracy: 0.9411\n",
            "Epoch 78/200\n",
            "84/84 [==============================] - 0s 4ms/step - loss: 0.1731 - accuracy: 0.9356\n",
            "Epoch 79/200\n",
            "84/84 [==============================] - 0s 4ms/step - loss: 0.1799 - accuracy: 0.9321\n",
            "Epoch 80/200\n",
            "84/84 [==============================] - 0s 3ms/step - loss: 0.1692 - accuracy: 0.9390\n",
            "Epoch 81/200\n",
            "84/84 [==============================] - 0s 3ms/step - loss: 0.1657 - accuracy: 0.9430\n",
            "Epoch 82/200\n",
            "84/84 [==============================] - 0s 3ms/step - loss: 0.1684 - accuracy: 0.9396\n",
            "Epoch 83/200\n",
            "84/84 [==============================] - 0s 3ms/step - loss: 0.1670 - accuracy: 0.9398\n",
            "Epoch 84/200\n",
            "84/84 [==============================] - 0s 4ms/step - loss: 0.1626 - accuracy: 0.9416\n",
            "Epoch 85/200\n",
            "84/84 [==============================] - 0s 3ms/step - loss: 0.1665 - accuracy: 0.9401\n",
            "Epoch 86/200\n",
            "84/84 [==============================] - 0s 4ms/step - loss: 0.1654 - accuracy: 0.9418\n",
            "Epoch 87/200\n",
            "84/84 [==============================] - 0s 3ms/step - loss: 0.1634 - accuracy: 0.9435\n",
            "Epoch 88/200\n",
            "84/84 [==============================] - 0s 4ms/step - loss: 0.1645 - accuracy: 0.9413\n",
            "Epoch 89/200\n",
            "84/84 [==============================] - 0s 4ms/step - loss: 0.1631 - accuracy: 0.9407\n",
            "Epoch 90/200\n",
            "84/84 [==============================] - 0s 3ms/step - loss: 0.1633 - accuracy: 0.9428\n",
            "Epoch 91/200\n",
            "84/84 [==============================] - 0s 3ms/step - loss: 0.1581 - accuracy: 0.9446\n",
            "Epoch 92/200\n",
            "84/84 [==============================] - 0s 3ms/step - loss: 0.1617 - accuracy: 0.9401\n",
            "Epoch 93/200\n",
            "84/84 [==============================] - 0s 4ms/step - loss: 0.1586 - accuracy: 0.9443\n",
            "Epoch 94/200\n",
            "84/84 [==============================] - 0s 4ms/step - loss: 0.1577 - accuracy: 0.9431\n",
            "Epoch 95/200\n",
            "84/84 [==============================] - 0s 3ms/step - loss: 0.1598 - accuracy: 0.9433\n",
            "Epoch 96/200\n",
            "84/84 [==============================] - 0s 4ms/step - loss: 0.1611 - accuracy: 0.9411\n",
            "Epoch 97/200\n",
            "84/84 [==============================] - 0s 3ms/step - loss: 0.1592 - accuracy: 0.9431\n",
            "Epoch 98/200\n",
            "84/84 [==============================] - 0s 3ms/step - loss: 0.1594 - accuracy: 0.9407\n",
            "Epoch 99/200\n",
            "84/84 [==============================] - 0s 4ms/step - loss: 0.1578 - accuracy: 0.9424\n",
            "Epoch 100/200\n",
            "84/84 [==============================] - 0s 3ms/step - loss: 0.1574 - accuracy: 0.9458\n",
            "Epoch 101/200\n",
            "84/84 [==============================] - 0s 3ms/step - loss: 0.1596 - accuracy: 0.9418\n",
            "Epoch 102/200\n",
            "84/84 [==============================] - 0s 3ms/step - loss: 0.1568 - accuracy: 0.9431\n",
            "Epoch 103/200\n",
            "84/84 [==============================] - 0s 4ms/step - loss: 0.1543 - accuracy: 0.9450\n",
            "Epoch 104/200\n",
            "84/84 [==============================] - 0s 3ms/step - loss: 0.1580 - accuracy: 0.9433\n",
            "Epoch 105/200\n",
            "84/84 [==============================] - 0s 4ms/step - loss: 0.1576 - accuracy: 0.9431\n",
            "Epoch 106/200\n",
            "84/84 [==============================] - 0s 4ms/step - loss: 0.1534 - accuracy: 0.9476\n",
            "Epoch 107/200\n",
            "84/84 [==============================] - 0s 3ms/step - loss: 0.1575 - accuracy: 0.9452\n",
            "Epoch 108/200\n",
            "84/84 [==============================] - 0s 3ms/step - loss: 0.1533 - accuracy: 0.9454\n",
            "Epoch 109/200\n",
            "84/84 [==============================] - 0s 4ms/step - loss: 0.1519 - accuracy: 0.9473\n",
            "Epoch 110/200\n",
            "84/84 [==============================] - 0s 3ms/step - loss: 0.1527 - accuracy: 0.9465\n",
            "Epoch 111/200\n",
            "84/84 [==============================] - 0s 4ms/step - loss: 0.1568 - accuracy: 0.9415\n",
            "Epoch 112/200\n",
            "84/84 [==============================] - 0s 3ms/step - loss: 0.1481 - accuracy: 0.9505\n",
            "Epoch 113/200\n",
            "84/84 [==============================] - 0s 3ms/step - loss: 0.1553 - accuracy: 0.9443\n",
            "Epoch 114/200\n",
            "84/84 [==============================] - 0s 3ms/step - loss: 0.1484 - accuracy: 0.9512\n",
            "Epoch 115/200\n",
            "84/84 [==============================] - 0s 4ms/step - loss: 0.1483 - accuracy: 0.9495\n",
            "Epoch 116/200\n",
            "84/84 [==============================] - 0s 4ms/step - loss: 0.1569 - accuracy: 0.9458\n",
            "Epoch 117/200\n",
            "84/84 [==============================] - 0s 3ms/step - loss: 0.1561 - accuracy: 0.9430\n",
            "Epoch 118/200\n",
            "84/84 [==============================] - 0s 3ms/step - loss: 0.1540 - accuracy: 0.9448\n",
            "Epoch 119/200\n",
            "84/84 [==============================] - 0s 3ms/step - loss: 0.1469 - accuracy: 0.9476\n",
            "Epoch 120/200\n",
            "84/84 [==============================] - 0s 3ms/step - loss: 0.1533 - accuracy: 0.9463\n",
            "Epoch 121/200\n",
            "84/84 [==============================] - 0s 3ms/step - loss: 0.1526 - accuracy: 0.9469\n",
            "Epoch 122/200\n",
            "84/84 [==============================] - 0s 3ms/step - loss: 0.1718 - accuracy: 0.9339\n",
            "Epoch 123/200\n",
            "84/84 [==============================] - 0s 4ms/step - loss: 0.1578 - accuracy: 0.9405\n",
            "Epoch 124/200\n",
            "84/84 [==============================] - 0s 3ms/step - loss: 0.1512 - accuracy: 0.9448\n",
            "Epoch 125/200\n",
            "84/84 [==============================] - 0s 4ms/step - loss: 0.1480 - accuracy: 0.9467\n",
            "Epoch 126/200\n",
            "84/84 [==============================] - 0s 4ms/step - loss: 0.1436 - accuracy: 0.9505\n",
            "Epoch 127/200\n",
            "84/84 [==============================] - 0s 4ms/step - loss: 0.1430 - accuracy: 0.9506\n",
            "Epoch 128/200\n",
            "84/84 [==============================] - 0s 4ms/step - loss: 0.1431 - accuracy: 0.9563\n",
            "Epoch 129/200\n",
            "84/84 [==============================] - 0s 4ms/step - loss: 0.1487 - accuracy: 0.9463\n",
            "Epoch 130/200\n",
            "84/84 [==============================] - 0s 3ms/step - loss: 0.1436 - accuracy: 0.9503\n",
            "Epoch 131/200\n",
            "84/84 [==============================] - 0s 4ms/step - loss: 0.1475 - accuracy: 0.9497\n",
            "Epoch 132/200\n",
            "84/84 [==============================] - 0s 3ms/step - loss: 0.1407 - accuracy: 0.9531\n",
            "Epoch 133/200\n",
            "84/84 [==============================] - 0s 3ms/step - loss: 0.1451 - accuracy: 0.9497\n",
            "Epoch 134/200\n",
            "84/84 [==============================] - 0s 4ms/step - loss: 0.1491 - accuracy: 0.9458\n",
            "Epoch 135/200\n",
            "84/84 [==============================] - 0s 3ms/step - loss: 0.1429 - accuracy: 0.9525\n",
            "Epoch 136/200\n",
            "84/84 [==============================] - 0s 4ms/step - loss: 0.1413 - accuracy: 0.9506\n",
            "Epoch 137/200\n",
            "84/84 [==============================] - 0s 3ms/step - loss: 0.1512 - accuracy: 0.9460\n",
            "Epoch 138/200\n",
            "84/84 [==============================] - 0s 4ms/step - loss: 0.1493 - accuracy: 0.9454\n",
            "Epoch 139/200\n",
            "84/84 [==============================] - 0s 3ms/step - loss: 0.1432 - accuracy: 0.9475\n",
            "Epoch 140/200\n",
            "84/84 [==============================] - 0s 4ms/step - loss: 0.1445 - accuracy: 0.9495\n",
            "Epoch 141/200\n",
            "84/84 [==============================] - 0s 4ms/step - loss: 0.1369 - accuracy: 0.9536\n",
            "Epoch 142/200\n",
            "84/84 [==============================] - 0s 4ms/step - loss: 0.1368 - accuracy: 0.9555\n",
            "Epoch 143/200\n",
            "84/84 [==============================] - 0s 4ms/step - loss: 0.1358 - accuracy: 0.9565\n",
            "Epoch 144/200\n",
            "84/84 [==============================] - 0s 4ms/step - loss: 0.1356 - accuracy: 0.9552\n",
            "Epoch 145/200\n",
            "84/84 [==============================] - 0s 3ms/step - loss: 0.1354 - accuracy: 0.9557\n",
            "Epoch 146/200\n",
            "84/84 [==============================] - 0s 3ms/step - loss: 0.1345 - accuracy: 0.9544\n",
            "Epoch 147/200\n",
            "84/84 [==============================] - 0s 3ms/step - loss: 0.1431 - accuracy: 0.9491\n",
            "Epoch 148/200\n",
            "84/84 [==============================] - 0s 3ms/step - loss: 0.1425 - accuracy: 0.9495\n",
            "Epoch 149/200\n",
            "84/84 [==============================] - 0s 3ms/step - loss: 0.1390 - accuracy: 0.9525\n",
            "Epoch 150/200\n",
            "84/84 [==============================] - 0s 4ms/step - loss: 0.1343 - accuracy: 0.9557\n",
            "Epoch 151/200\n",
            "84/84 [==============================] - 0s 4ms/step - loss: 0.1350 - accuracy: 0.9540\n",
            "Epoch 152/200\n",
            "84/84 [==============================] - 0s 3ms/step - loss: 0.1385 - accuracy: 0.9525\n",
            "Epoch 153/200\n",
            "84/84 [==============================] - 0s 3ms/step - loss: 0.1383 - accuracy: 0.9506\n",
            "Epoch 154/200\n",
            "84/84 [==============================] - 0s 3ms/step - loss: 0.1352 - accuracy: 0.9533\n",
            "Epoch 155/200\n",
            "84/84 [==============================] - 0s 4ms/step - loss: 0.1357 - accuracy: 0.9531\n",
            "Epoch 156/200\n",
            "84/84 [==============================] - 0s 4ms/step - loss: 0.1374 - accuracy: 0.9533\n",
            "Epoch 157/200\n",
            "84/84 [==============================] - 0s 4ms/step - loss: 0.1432 - accuracy: 0.9471\n",
            "Epoch 158/200\n",
            "84/84 [==============================] - 0s 4ms/step - loss: 0.1368 - accuracy: 0.9518\n",
            "Epoch 159/200\n",
            "84/84 [==============================] - 0s 3ms/step - loss: 0.1411 - accuracy: 0.9476\n",
            "Epoch 160/200\n",
            "84/84 [==============================] - 0s 3ms/step - loss: 0.1372 - accuracy: 0.9536\n",
            "Epoch 161/200\n",
            "84/84 [==============================] - 0s 3ms/step - loss: 0.1317 - accuracy: 0.9565\n",
            "Epoch 162/200\n",
            "84/84 [==============================] - 0s 4ms/step - loss: 0.1360 - accuracy: 0.9521\n",
            "Epoch 163/200\n",
            "84/84 [==============================] - 0s 4ms/step - loss: 0.1384 - accuracy: 0.9510\n",
            "Epoch 164/200\n",
            "84/84 [==============================] - 0s 4ms/step - loss: 0.1323 - accuracy: 0.9553\n",
            "Epoch 165/200\n",
            "84/84 [==============================] - 0s 4ms/step - loss: 0.1392 - accuracy: 0.9510\n",
            "Epoch 166/200\n",
            "84/84 [==============================] - 0s 4ms/step - loss: 0.1318 - accuracy: 0.9544\n",
            "Epoch 167/200\n",
            "84/84 [==============================] - 0s 3ms/step - loss: 0.1304 - accuracy: 0.9563\n",
            "Epoch 168/200\n",
            "84/84 [==============================] - 0s 4ms/step - loss: 0.1263 - accuracy: 0.9610\n",
            "Epoch 169/200\n",
            "84/84 [==============================] - 0s 3ms/step - loss: 0.1325 - accuracy: 0.9525\n",
            "Epoch 170/200\n",
            "84/84 [==============================] - 0s 4ms/step - loss: 0.1257 - accuracy: 0.9591\n",
            "Epoch 171/200\n",
            "84/84 [==============================] - 0s 4ms/step - loss: 0.1247 - accuracy: 0.9600\n",
            "Epoch 172/200\n",
            "84/84 [==============================] - 0s 3ms/step - loss: 0.1404 - accuracy: 0.9488\n",
            "Epoch 173/200\n",
            "84/84 [==============================] - 0s 4ms/step - loss: 0.1244 - accuracy: 0.9582\n",
            "Epoch 174/200\n",
            "84/84 [==============================] - 0s 4ms/step - loss: 0.1283 - accuracy: 0.9555\n",
            "Epoch 175/200\n",
            "84/84 [==============================] - 0s 3ms/step - loss: 0.1284 - accuracy: 0.9572\n",
            "Epoch 176/200\n",
            "84/84 [==============================] - 0s 4ms/step - loss: 0.1329 - accuracy: 0.9548\n",
            "Epoch 177/200\n",
            "84/84 [==============================] - 0s 4ms/step - loss: 0.1249 - accuracy: 0.9572\n",
            "Epoch 178/200\n",
            "84/84 [==============================] - 0s 3ms/step - loss: 0.1265 - accuracy: 0.9578\n",
            "Epoch 179/200\n",
            "84/84 [==============================] - 0s 3ms/step - loss: 0.1290 - accuracy: 0.9531\n",
            "Epoch 180/200\n",
            "84/84 [==============================] - 0s 4ms/step - loss: 0.1258 - accuracy: 0.9589\n",
            "Epoch 181/200\n",
            "84/84 [==============================] - 0s 4ms/step - loss: 0.1273 - accuracy: 0.9561\n",
            "Epoch 182/200\n",
            "84/84 [==============================] - 0s 3ms/step - loss: 0.1269 - accuracy: 0.9582\n",
            "Epoch 183/200\n",
            "84/84 [==============================] - 0s 4ms/step - loss: 0.1245 - accuracy: 0.9582\n",
            "Epoch 184/200\n",
            "84/84 [==============================] - 0s 4ms/step - loss: 0.1320 - accuracy: 0.9525\n",
            "Epoch 185/200\n",
            "84/84 [==============================] - 0s 3ms/step - loss: 0.1294 - accuracy: 0.9553\n",
            "Epoch 186/200\n",
            "84/84 [==============================] - 0s 4ms/step - loss: 0.1240 - accuracy: 0.9582\n",
            "Epoch 187/200\n",
            "84/84 [==============================] - 0s 4ms/step - loss: 0.1237 - accuracy: 0.9578\n",
            "Epoch 188/200\n",
            "84/84 [==============================] - 0s 3ms/step - loss: 0.1259 - accuracy: 0.9557\n",
            "Epoch 189/200\n",
            "84/84 [==============================] - 0s 3ms/step - loss: 0.1286 - accuracy: 0.9546\n",
            "Epoch 190/200\n",
            "84/84 [==============================] - 0s 4ms/step - loss: 0.1231 - accuracy: 0.9587\n",
            "Epoch 191/200\n",
            "84/84 [==============================] - 0s 3ms/step - loss: 0.1230 - accuracy: 0.9570\n",
            "Epoch 192/200\n",
            "84/84 [==============================] - 0s 3ms/step - loss: 0.1369 - accuracy: 0.9493\n",
            "Epoch 193/200\n",
            "84/84 [==============================] - 0s 4ms/step - loss: 0.1219 - accuracy: 0.9578\n",
            "Epoch 194/200\n",
            "84/84 [==============================] - 0s 3ms/step - loss: 0.1194 - accuracy: 0.9591\n",
            "Epoch 195/200\n",
            "84/84 [==============================] - 0s 3ms/step - loss: 0.1208 - accuracy: 0.9582\n",
            "Epoch 196/200\n",
            "84/84 [==============================] - 0s 3ms/step - loss: 0.1199 - accuracy: 0.9585\n",
            "Epoch 197/200\n",
            "84/84 [==============================] - 0s 4ms/step - loss: 0.1206 - accuracy: 0.9585\n",
            "Epoch 198/200\n",
            "84/84 [==============================] - 0s 3ms/step - loss: 0.1169 - accuracy: 0.9610\n",
            "Epoch 199/200\n",
            "84/84 [==============================] - 0s 4ms/step - loss: 0.1217 - accuracy: 0.9570\n",
            "Epoch 200/200\n",
            "84/84 [==============================] - 0s 4ms/step - loss: 0.1168 - accuracy: 0.9598\n"
          ],
          "name": "stdout"
        }
      ]
    },
    {
      "cell_type": "code",
      "metadata": {
        "id": "tblUUemMjeGE",
        "colab_type": "code",
        "colab": {
          "base_uri": "https://localhost:8080/",
          "height": 282
        },
        "outputId": "45d3aaa4-8860-4bb7-ccf9-096a776beade"
      },
      "source": [
        "plt.plot(modelo.history['loss'])\n",
        "plt.xlabel('Epochs')\n",
        "plt.ylabel('Loss')\n",
        "plt.show()"
      ],
      "execution_count": 18,
      "outputs": [
        {
          "output_type": "display_data",
          "data": {
            "image/png": "[encoded data removed]",
            "text/plain": [
              "<Figure size 432x288 with 1 Axes>"
            ]
          },
          "metadata": {
            "tags": [],
            "needs_background": "light"
          }
        }
      ]
    },
    {
      "cell_type": "code",
      "metadata": {
        "id": "oKj-Z5n4l3bG",
        "colab_type": "code",
        "colab": {
          "base_uri": "https://localhost:8080/",
          "height": 279
        },
        "outputId": "28f50aff-249d-48ee-ee7a-807b2ed3829a"
      },
      "source": [
        "plt.plot(modelo.history['accuracy'])\n",
        "plt.xlabel('Accuracy')\n",
        "plt.ylabel('Epochs')\n",
        "plt.show()"
      ],
      "execution_count": 19,
      "outputs": [
        {
          "output_type": "display_data",
          "data": {
            "image/png": "[encoded data removed]",
            "text/plain": [
              "<Figure size 432x288 with 1 Axes>"
            ]
          },
          "metadata": {
            "tags": [],
            "needs_background": "light"
          }
        }
      ]
    },
    {
      "cell_type": "code",
      "metadata": {
        "id": "cdTyC-Zfm8EL",
        "colab_type": "code",
        "colab": {
          "base_uri": "https://localhost:8080/",
          "height": 34
        },
        "outputId": "e11ec941-7db1-49d3-ccca-d831f2ce194c"
      },
      "source": [
        "# Evaluate:\n",
        "\n",
        "test_loss, test_acc = model.evaluate(X_test, y_test)\n",
        "print('Loss Test Set: {}'.format(test_loss))\n",
        "print('Accuracy Test Set: {}'.format(test_acc))"
      ],
      "execution_count": 0,
      "outputs": [
        {
          "output_type": "stream",
          "text": [
            "WARNING:tensorflow:Model was constructed with shape (None, 100) for input Tensor(\"embedding_input:0\", shape=(None, 100), dtype=float32), but it was called on an input with incompatible shape (None, 1).\n"
          ],
          "name": "stdout"
        }
      ]
    },
    {
      "cell_type": "code",
      "metadata": {
        "id": "ja98N8RZpkbO",
        "colab_type": "code",
        "colab": {}
      },
      "source": [
        ""
      ],
      "execution_count": 0,
      "outputs": []
    }
  ]
}