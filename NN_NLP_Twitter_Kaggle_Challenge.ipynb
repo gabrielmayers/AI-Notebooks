{
  "nbformat": 4,
  "nbformat_minor": 0,
  "metadata": {
    "colab": {
      "name": "NN-NLP_Twitter_Kaggle_Challenge.ipynb",
      "provenance": []
    },
    "kernelspec": {
      "name": "python3",
      "display_name": "Python 3"
    },
    "accelerator": "GPU"
  },
  "cells": [
    {
      "cell_type": "code",
      "metadata": {
        "id": "EZl151iReYc9",
        "colab_type": "code",
        "colab": {}
      },
      "source": [
        "import tensorflow as tf \n",
        "import pandas as pd\n",
        "import numpy as np\n",
        "import matplotlib.pyplot as plt\n",
        "\n",
        "from tensorflow.keras.preprocessing.text import Tokenizer\n",
        "from tensorflow.keras.preprocessing.sequence import pad_sequences\n"
      ],
      "execution_count": 0,
      "outputs": []
    },
    {
      "cell_type": "code",
      "metadata": {
        "id": "VX7e9zfsfkyc",
        "colab_type": "code",
        "outputId": "47155de5-92e7-455a-e6a0-28c3a093814c",
        "colab": {
          "resources": {
            "http://localhost:8080/nbextensions/google.colab/files.js": {
              "data": "Ly8gQ29weXJpZ2h0IDIwMTcgR29vZ2xlIExMQwovLwovLyBMaWNlbnNlZCB1bmRlciB0aGUgQXBhY2hlIExpY2Vuc2UsIFZlcnNpb24gMi4wICh0aGUgIkxpY2Vuc2UiKTsKLy8geW91IG1heSBub3QgdXNlIHRoaXMgZmlsZSBleGNlcHQgaW4gY29tcGxpYW5jZSB3aXRoIHRoZSBMaWNlbnNlLgovLyBZb3UgbWF5IG9idGFpbiBhIGNvcHkgb2YgdGhlIExpY2Vuc2UgYXQKLy8KLy8gICAgICBodHRwOi8vd3d3LmFwYWNoZS5vcmcvbGljZW5zZXMvTElDRU5TRS0yLjAKLy8KLy8gVW5sZXNzIHJlcXVpcmVkIGJ5IGFwcGxpY2FibGUgbGF3IG9yIGFncmVlZCB0byBpbiB3cml0aW5nLCBzb2Z0d2FyZQovLyBkaXN0cmlidXRlZCB1bmRlciB0aGUgTGljZW5zZSBpcyBkaXN0cmlidXRlZCBvbiBhbiAiQVMgSVMiIEJBU0lTLAovLyBXSVRIT1VUIFdBUlJBTlRJRVMgT1IgQ09ORElUSU9OUyBPRiBBTlkgS0lORCwgZWl0aGVyIGV4cHJlc3Mgb3IgaW1wbGllZC4KLy8gU2VlIHRoZSBMaWNlbnNlIGZvciB0aGUgc3BlY2lmaWMgbGFuZ3VhZ2UgZ292ZXJuaW5nIHBlcm1pc3Npb25zIGFuZAovLyBsaW1pdGF0aW9ucyB1bmRlciB0aGUgTGljZW5zZS4KCi8qKgogKiBAZmlsZW92ZXJ2aWV3IEhlbHBlcnMgZm9yIGdvb2dsZS5jb2xhYiBQeXRob24gbW9kdWxlLgogKi8KKGZ1bmN0aW9uKHNjb3BlKSB7CmZ1bmN0aW9uIHNwYW4odGV4dCwgc3R5bGVBdHRyaWJ1dGVzID0ge30pIHsKICBjb25zdCBlbGVtZW50ID0gZG9jdW1lbnQuY3JlYXRlRWxlbWVudCgnc3BhbicpOwogIGVsZW1lbnQudGV4dENvbnRlbnQgPSB0ZXh0OwogIGZvciAoY29uc3Qga2V5IG9mIE9iamVjdC5rZXlzKHN0eWxlQXR0cmlidXRlcykpIHsKICAgIGVsZW1lbnQuc3R5bGVba2V5XSA9IHN0eWxlQXR0cmlidXRlc1trZXldOwogIH0KICByZXR1cm4gZWxlbWVudDsKfQoKLy8gTWF4IG51bWJlciBvZiBieXRlcyB3aGljaCB3aWxsIGJlIHVwbG9hZGVkIGF0IGEgdGltZS4KY29uc3QgTUFYX1BBWUxPQURfU0laRSA9IDEwMCAqIDEwMjQ7Ci8vIE1heCBhbW91bnQgb2YgdGltZSB0byBibG9jayB3YWl0aW5nIGZvciB0aGUgdXNlci4KY29uc3QgRklMRV9DSEFOR0VfVElNRU9VVF9NUyA9IDMwICogMTAwMDsKCmZ1bmN0aW9uIF91cGxvYWRGaWxlcyhpbnB1dElkLCBvdXRwdXRJZCkgewogIGNvbnN0IHN0ZXBzID0gdXBsb2FkRmlsZXNTdGVwKGlucHV0SWQsIG91dHB1dElkKTsKICBjb25zdCBvdXRwdXRFbGVtZW50ID0gZG9jdW1lbnQuZ2V0RWxlbWVudEJ5SWQob3V0cHV0SWQpOwogIC8vIENhY2hlIHN0ZXBzIG9uIHRoZSBvdXRwdXRFbGVtZW50IHRvIG1ha2UgaXQgYXZhaWxhYmxlIGZvciB0aGUgbmV4dCBjYWxsCiAgLy8gdG8gdXBsb2FkRmlsZXNDb250aW51ZSBmcm9tIFB5dGhvbi4KICBvdXRwdXRFbGVtZW50LnN0ZXBzID0gc3RlcHM7CgogIHJldHVybiBfdXBsb2FkRmlsZXNDb250aW51ZShvdXRwdXRJZCk7Cn0KCi8vIFRoaXMgaXMgcm91Z2hseSBhbiBhc3luYyBnZW5lcmF0b3IgKG5vdCBzdXBwb3J0ZWQgaW4gdGhlIGJyb3dzZXIgeWV0KSwKLy8gd2hlcmUgdGhlcmUgYXJlIG11bHRpcGxlIGFzeW5jaHJvbm91cyBzdGVwcyBhbmQgdGhlIFB5dGhvbiBzaWRlIGlzIGdvaW5nCi8vIHRvIHBvbGwgZm9yIGNvbXBsZXRpb24gb2YgZWFjaCBzdGVwLgovLyBUaGlzIHVzZXMgYSBQcm9taXNlIHRvIGJsb2NrIHRoZSBweXRob24gc2lkZSBvbiBjb21wbGV0aW9uIG9mIGVhY2ggc3RlcCwKLy8gdGhlbiBwYXNzZXMgdGhlIHJlc3VsdCBvZiB0aGUgcHJldmlvdXMgc3RlcCBhcyB0aGUgaW5wdXQgdG8gdGhlIG5leHQgc3RlcC4KZnVuY3Rpb24gX3VwbG9hZEZpbGVzQ29udGludWUob3V0cHV0SWQpIHsKICBjb25zdCBvdXRwdXRFbGVtZW50ID0gZG9jdW1lbnQuZ2V0RWxlbWVudEJ5SWQob3V0cHV0SWQpOwogIGNvbnN0IHN0ZXBzID0gb3V0cHV0RWxlbWVudC5zdGVwczsKCiAgY29uc3QgbmV4dCA9IHN0ZXBzLm5leHQob3V0cHV0RWxlbWVudC5sYXN0UHJvbWlzZVZhbHVlKTsKICByZXR1cm4gUHJvbWlzZS5yZXNvbHZlKG5leHQudmFsdWUucHJvbWlzZSkudGhlbigodmFsdWUpID0+IHsKICAgIC8vIENhY2hlIHRoZSBsYXN0IHByb21pc2UgdmFsdWUgdG8gbWFrZSBpdCBhdmFpbGFibGUgdG8gdGhlIG5leHQKICAgIC8vIHN0ZXAgb2YgdGhlIGdlbmVyYXRvci4KICAgIG91dHB1dEVsZW1lbnQubGFzdFByb21pc2VWYWx1ZSA9IHZhbHVlOwogICAgcmV0dXJuIG5leHQudmFsdWUucmVzcG9uc2U7CiAgfSk7Cn0KCi8qKgogKiBHZW5lcmF0b3IgZnVuY3Rpb24gd2hpY2ggaXMgY2FsbGVkIGJldHdlZW4gZWFjaCBhc3luYyBzdGVwIG9mIHRoZSB1cGxvYWQKICogcHJvY2Vzcy4KICogQHBhcmFtIHtzdHJpbmd9IGlucHV0SWQgRWxlbWVudCBJRCBvZiB0aGUgaW5wdXQgZmlsZSBwaWNrZXIgZWxlbWVudC4KICogQHBhcmFtIHtzdHJpbmd9IG91dHB1dElkIEVsZW1lbnQgSUQgb2YgdGhlIG91dHB1dCBkaXNwbGF5LgogKiBAcmV0dXJuIHshSXRlcmFibGU8IU9iamVjdD59IEl0ZXJhYmxlIG9mIG5leHQgc3RlcHMuCiAqLwpmdW5jdGlvbiogdXBsb2FkRmlsZXNTdGVwKGlucHV0SWQsIG91dHB1dElkKSB7CiAgY29uc3QgaW5wdXRFbGVtZW50ID0gZG9jdW1lbnQuZ2V0RWxlbWVudEJ5SWQoaW5wdXRJZCk7CiAgaW5wdXRFbGVtZW50LmRpc2FibGVkID0gZmFsc2U7CgogIGNvbnN0IG91dHB1dEVsZW1lbnQgPSBkb2N1bWVudC5nZXRFbGVtZW50QnlJZChvdXRwdXRJZCk7CiAgb3V0cHV0RWxlbWVudC5pbm5lckhUTUwgPSAnJzsKCiAgY29uc3QgcGlja2VkUHJvbWlzZSA9IG5ldyBQcm9taXNlKChyZXNvbHZlKSA9PiB7CiAgICBpbnB1dEVsZW1lbnQuYWRkRXZlbnRMaXN0ZW5lcignY2hhbmdlJywgKGUpID0+IHsKICAgICAgcmVzb2x2ZShlLnRhcmdldC5maWxlcyk7CiAgICB9KTsKICB9KTsKCiAgY29uc3QgY2FuY2VsID0gZG9jdW1lbnQuY3JlYXRlRWxlbWVudCgnYnV0dG9uJyk7CiAgaW5wdXRFbGVtZW50LnBhcmVudEVsZW1lbnQuYXBwZW5kQ2hpbGQoY2FuY2VsKTsKICBjYW5jZWwudGV4dENvbnRlbnQgPSAnQ2FuY2VsIHVwbG9hZCc7CiAgY29uc3QgY2FuY2VsUHJvbWlzZSA9IG5ldyBQcm9taXNlKChyZXNvbHZlKSA9PiB7CiAgICBjYW5jZWwub25jbGljayA9ICgpID0+IHsKICAgICAgcmVzb2x2ZShudWxsKTsKICAgIH07CiAgfSk7CgogIC8vIENhbmNlbCB1cGxvYWQgaWYgdXNlciBoYXNuJ3QgcGlja2VkIGFueXRoaW5nIGluIHRpbWVvdXQuCiAgY29uc3QgdGltZW91dFByb21pc2UgPSBuZXcgUHJvbWlzZSgocmVzb2x2ZSkgPT4gewogICAgc2V0VGltZW91dCgoKSA9PiB7CiAgICAgIHJlc29sdmUobnVsbCk7CiAgICB9LCBGSUxFX0NIQU5HRV9USU1FT1VUX01TKTsKICB9KTsKCiAgLy8gV2FpdCBmb3IgdGhlIHVzZXIgdG8gcGljayB0aGUgZmlsZXMuCiAgY29uc3QgZmlsZXMgPSB5aWVsZCB7CiAgICBwcm9taXNlOiBQcm9taXNlLnJhY2UoW3BpY2tlZFByb21pc2UsIHRpbWVvdXRQcm9taXNlLCBjYW5jZWxQcm9taXNlXSksCiAgICByZXNwb25zZTogewogICAgICBhY3Rpb246ICdzdGFydGluZycsCiAgICB9CiAgfTsKCiAgaWYgKCFmaWxlcykgewogICAgcmV0dXJuIHsKICAgICAgcmVzcG9uc2U6IHsKICAgICAgICBhY3Rpb246ICdjb21wbGV0ZScsCiAgICAgIH0KICAgIH07CiAgfQoKICBjYW5jZWwucmVtb3ZlKCk7CgogIC8vIERpc2FibGUgdGhlIGlucHV0IGVsZW1lbnQgc2luY2UgZnVydGhlciBwaWNrcyBhcmUgbm90IGFsbG93ZWQuCiAgaW5wdXRFbGVtZW50LmRpc2FibGVkID0gdHJ1ZTsKCiAgZm9yIChjb25zdCBmaWxlIG9mIGZpbGVzKSB7CiAgICBjb25zdCBsaSA9IGRvY3VtZW50LmNyZWF0ZUVsZW1lbnQoJ2xpJyk7CiAgICBsaS5hcHBlbmQoc3BhbihmaWxlLm5hbWUsIHtmb250V2VpZ2h0OiAnYm9sZCd9KSk7CiAgICBsaS5hcHBlbmQoc3BhbigKICAgICAgICBgKCR7ZmlsZS50eXBlIHx8ICduL2EnfSkgLSAke2ZpbGUuc2l6ZX0gYnl0ZXMsIGAgKwogICAgICAgIGBsYXN0IG1vZGlmaWVkOiAkewogICAgICAgICAgICBmaWxlLmxhc3RNb2RpZmllZERhdGUgPyBmaWxlLmxhc3RNb2RpZmllZERhdGUudG9Mb2NhbGVEYXRlU3RyaW5nKCkgOgogICAgICAgICAgICAgICAgICAgICAgICAgICAgICAgICAgICAnbi9hJ30gLSBgKSk7CiAgICBjb25zdCBwZXJjZW50ID0gc3BhbignMCUgZG9uZScpOwogICAgbGkuYXBwZW5kQ2hpbGQocGVyY2VudCk7CgogICAgb3V0cHV0RWxlbWVudC5hcHBlbmRDaGlsZChsaSk7CgogICAgY29uc3QgZmlsZURhdGFQcm9taXNlID0gbmV3IFByb21pc2UoKHJlc29sdmUpID0+IHsKICAgICAgY29uc3QgcmVhZGVyID0gbmV3IEZpbGVSZWFkZXIoKTsKICAgICAgcmVhZGVyLm9ubG9hZCA9IChlKSA9PiB7CiAgICAgICAgcmVzb2x2ZShlLnRhcmdldC5yZXN1bHQpOwogICAgICB9OwogICAgICByZWFkZXIucmVhZEFzQXJyYXlCdWZmZXIoZmlsZSk7CiAgICB9KTsKICAgIC8vIFdhaXQgZm9yIHRoZSBkYXRhIHRvIGJlIHJlYWR5LgogICAgbGV0IGZpbGVEYXRhID0geWllbGQgewogICAgICBwcm9taXNlOiBmaWxlRGF0YVByb21pc2UsCiAgICAgIHJlc3BvbnNlOiB7CiAgICAgICAgYWN0aW9uOiAnY29udGludWUnLAogICAgICB9CiAgICB9OwoKICAgIC8vIFVzZSBhIGNodW5rZWQgc2VuZGluZyB0byBhdm9pZCBtZXNzYWdlIHNpemUgbGltaXRzLiBTZWUgYi82MjExNTY2MC4KICAgIGxldCBwb3NpdGlvbiA9IDA7CiAgICB3aGlsZSAocG9zaXRpb24gPCBmaWxlRGF0YS5ieXRlTGVuZ3RoKSB7CiAgICAgIGNvbnN0IGxlbmd0aCA9IE1hdGgubWluKGZpbGVEYXRhLmJ5dGVMZW5ndGggLSBwb3NpdGlvbiwgTUFYX1BBWUxPQURfU0laRSk7CiAgICAgIGNvbnN0IGNodW5rID0gbmV3IFVpbnQ4QXJyYXkoZmlsZURhdGEsIHBvc2l0aW9uLCBsZW5ndGgpOwogICAgICBwb3NpdGlvbiArPSBsZW5ndGg7CgogICAgICBjb25zdCBiYXNlNjQgPSBidG9hKFN0cmluZy5mcm9tQ2hhckNvZGUuYXBwbHkobnVsbCwgY2h1bmspKTsKICAgICAgeWllbGQgewogICAgICAgIHJlc3BvbnNlOiB7CiAgICAgICAgICBhY3Rpb246ICdhcHBlbmQnLAogICAgICAgICAgZmlsZTogZmlsZS5uYW1lLAogICAgICAgICAgZGF0YTogYmFzZTY0LAogICAgICAgIH0sCiAgICAgIH07CiAgICAgIHBlcmNlbnQudGV4dENvbnRlbnQgPQogICAgICAgICAgYCR7TWF0aC5yb3VuZCgocG9zaXRpb24gLyBmaWxlRGF0YS5ieXRlTGVuZ3RoKSAqIDEwMCl9JSBkb25lYDsKICAgIH0KICB9CgogIC8vIEFsbCBkb25lLgogIHlpZWxkIHsKICAgIHJlc3BvbnNlOiB7CiAgICAgIGFjdGlvbjogJ2NvbXBsZXRlJywKICAgIH0KICB9Owp9CgpzY29wZS5nb29nbGUgPSBzY29wZS5nb29nbGUgfHwge307CnNjb3BlLmdvb2dsZS5jb2xhYiA9IHNjb3BlLmdvb2dsZS5jb2xhYiB8fCB7fTsKc2NvcGUuZ29vZ2xlLmNvbGFiLl9maWxlcyA9IHsKICBfdXBsb2FkRmlsZXMsCiAgX3VwbG9hZEZpbGVzQ29udGludWUsCn07Cn0pKHNlbGYpOwo=",
              "ok": true,
              "headers": [
                [
                  "content-type",
                  "application/javascript"
                ]
              ],
              "status": 200,
              "status_text": ""
            }
          },
          "base_uri": "https://localhost:8080/",
          "height": 74
        }
      },
      "source": [
        "from google.colab import files\n",
        "uploaded = files.upload()"
      ],
      "execution_count": 4,
      "outputs": [
        {
          "output_type": "display_data",
          "data": {
            "text/html": [
              "\n",
              "     <input type=\"file\" id=\"files-d7ff8f8a-b490-4baf-9f95-7c31cb30db61\" name=\"files[]\" multiple disabled />\n",
              "     <output id=\"result-d7ff8f8a-b490-4baf-9f95-7c31cb30db61\">\n",
              "      Upload widget is only available when the cell has been executed in the\n",
              "      current browser session. Please rerun this cell to enable.\n",
              "      </output>\n",
              "      <script src=\"/nbextensions/google.colab/files.js\"></script> "
            ],
            "text/plain": [
              "<IPython.core.display.HTML object>"
            ]
          },
          "metadata": {
            "tags": []
          }
        },
        {
          "output_type": "stream",
          "text": [
            "Saving train.csv to train.csv\n"
          ],
          "name": "stdout"
        }
      ]
    },
    {
      "cell_type": "code",
      "metadata": {
        "id": "vvitxrJwfwX2",
        "colab_type": "code",
        "colab": {}
      },
      "source": [
        "import io\n",
        "data = pd.read_csv(io.BytesIO(uploaded['train.csv']))"
      ],
      "execution_count": 0,
      "outputs": []
    },
    {
      "cell_type": "code",
      "metadata": {
        "id": "045u0i89f4TW",
        "colab_type": "code",
        "outputId": "e927fa30-471d-43e3-900d-c43704ea6f1c",
        "colab": {
          "base_uri": "https://localhost:8080/",
          "height": 204
        }
      },
      "source": [
        "data.head()"
      ],
      "execution_count": 6,
      "outputs": [
        {
          "output_type": "execute_result",
          "data": {
            "text/html": [
              "<div>\n",
              "<style scoped>\n",
              "    .dataframe tbody tr th:only-of-type {\n",
              "        vertical-align: middle;\n",
              "    }\n",
              "\n",
              "    .dataframe tbody tr th {\n",
              "        vertical-align: top;\n",
              "    }\n",
              "\n",
              "    .dataframe thead th {\n",
              "        text-align: right;\n",
              "    }\n",
              "</style>\n",
              "<table border=\"1\" class=\"dataframe\">\n",
              "  <thead>\n",
              "    <tr style=\"text-align: right;\">\n",
              "      <th></th>\n",
              "      <th>id</th>\n",
              "      <th>keyword</th>\n",
              "      <th>location</th>\n",
              "      <th>text</th>\n",
              "      <th>target</th>\n",
              "    </tr>\n",
              "  </thead>\n",
              "  <tbody>\n",
              "    <tr>\n",
              "      <th>0</th>\n",
              "      <td>1</td>\n",
              "      <td>NaN</td>\n",
              "      <td>NaN</td>\n",
              "      <td>Our Deeds are the Reason of this #earthquake M...</td>\n",
              "      <td>1</td>\n",
              "    </tr>\n",
              "    <tr>\n",
              "      <th>1</th>\n",
              "      <td>4</td>\n",
              "      <td>NaN</td>\n",
              "      <td>NaN</td>\n",
              "      <td>Forest fire near La Ronge Sask. Canada</td>\n",
              "      <td>1</td>\n",
              "    </tr>\n",
              "    <tr>\n",
              "      <th>2</th>\n",
              "      <td>5</td>\n",
              "      <td>NaN</td>\n",
              "      <td>NaN</td>\n",
              "      <td>All residents asked to 'shelter in place' are ...</td>\n",
              "      <td>1</td>\n",
              "    </tr>\n",
              "    <tr>\n",
              "      <th>3</th>\n",
              "      <td>6</td>\n",
              "      <td>NaN</td>\n",
              "      <td>NaN</td>\n",
              "      <td>13,000 people receive #wildfires evacuation or...</td>\n",
              "      <td>1</td>\n",
              "    </tr>\n",
              "    <tr>\n",
              "      <th>4</th>\n",
              "      <td>7</td>\n",
              "      <td>NaN</td>\n",
              "      <td>NaN</td>\n",
              "      <td>Just got sent this photo from Ruby #Alaska as ...</td>\n",
              "      <td>1</td>\n",
              "    </tr>\n",
              "  </tbody>\n",
              "</table>\n",
              "</div>"
            ],
            "text/plain": [
              "   id keyword  ...                                               text target\n",
              "0   1     NaN  ...  Our Deeds are the Reason of this #earthquake M...      1\n",
              "1   4     NaN  ...             Forest fire near La Ronge Sask. Canada      1\n",
              "2   5     NaN  ...  All residents asked to 'shelter in place' are ...      1\n",
              "3   6     NaN  ...  13,000 people receive #wildfires evacuation or...      1\n",
              "4   7     NaN  ...  Just got sent this photo from Ruby #Alaska as ...      1\n",
              "\n",
              "[5 rows x 5 columns]"
            ]
          },
          "metadata": {
            "tags": []
          },
          "execution_count": 6
        }
      ]
    },
    {
      "cell_type": "code",
      "metadata": {
        "id": "jZl-VS_IgCQO",
        "colab_type": "code",
        "colab": {}
      },
      "source": [
        "data.drop(columns=['keyword', 'location', 'id'], inplace=True)"
      ],
      "execution_count": 0,
      "outputs": []
    },
    {
      "cell_type": "code",
      "metadata": {
        "id": "L4Z1957SgNtx",
        "colab_type": "code",
        "outputId": "13a64212-881a-4d8e-d886-bf53592a79ff",
        "colab": {
          "base_uri": "https://localhost:8080/",
          "height": 204
        }
      },
      "source": [
        "data.head()"
      ],
      "execution_count": 8,
      "outputs": [
        {
          "output_type": "execute_result",
          "data": {
            "text/html": [
              "<div>\n",
              "<style scoped>\n",
              "    .dataframe tbody tr th:only-of-type {\n",
              "        vertical-align: middle;\n",
              "    }\n",
              "\n",
              "    .dataframe tbody tr th {\n",
              "        vertical-align: top;\n",
              "    }\n",
              "\n",
              "    .dataframe thead th {\n",
              "        text-align: right;\n",
              "    }\n",
              "</style>\n",
              "<table border=\"1\" class=\"dataframe\">\n",
              "  <thead>\n",
              "    <tr style=\"text-align: right;\">\n",
              "      <th></th>\n",
              "      <th>text</th>\n",
              "      <th>target</th>\n",
              "    </tr>\n",
              "  </thead>\n",
              "  <tbody>\n",
              "    <tr>\n",
              "      <th>0</th>\n",
              "      <td>Our Deeds are the Reason of this #earthquake M...</td>\n",
              "      <td>1</td>\n",
              "    </tr>\n",
              "    <tr>\n",
              "      <th>1</th>\n",
              "      <td>Forest fire near La Ronge Sask. Canada</td>\n",
              "      <td>1</td>\n",
              "    </tr>\n",
              "    <tr>\n",
              "      <th>2</th>\n",
              "      <td>All residents asked to 'shelter in place' are ...</td>\n",
              "      <td>1</td>\n",
              "    </tr>\n",
              "    <tr>\n",
              "      <th>3</th>\n",
              "      <td>13,000 people receive #wildfires evacuation or...</td>\n",
              "      <td>1</td>\n",
              "    </tr>\n",
              "    <tr>\n",
              "      <th>4</th>\n",
              "      <td>Just got sent this photo from Ruby #Alaska as ...</td>\n",
              "      <td>1</td>\n",
              "    </tr>\n",
              "  </tbody>\n",
              "</table>\n",
              "</div>"
            ],
            "text/plain": [
              "                                                text  target\n",
              "0  Our Deeds are the Reason of this #earthquake M...       1\n",
              "1             Forest fire near La Ronge Sask. Canada       1\n",
              "2  All residents asked to 'shelter in place' are ...       1\n",
              "3  13,000 people receive #wildfires evacuation or...       1\n",
              "4  Just got sent this photo from Ruby #Alaska as ...       1"
            ]
          },
          "metadata": {
            "tags": []
          },
          "execution_count": 8
        }
      ]
    },
    {
      "cell_type": "code",
      "metadata": {
        "id": "42HHNcaPg5U-",
        "colab_type": "code",
        "colab": {}
      },
      "source": [
        "from sklearn.model_selection import train_test_split\n",
        "\n",
        "X = data['text']\n",
        "y = data['target']\n",
        "\n",
        "X_train, X_test, y_train, y_test = train_test_split(X, y, test_size=0.3)"
      ],
      "execution_count": 0,
      "outputs": []
    },
    {
      "cell_type": "code",
      "metadata": {
        "id": "z7LB8FFihs6c",
        "colab_type": "code",
        "colab": {}
      },
      "source": [
        "vocab_size = 1000\n",
        "embedding_dim = 16\n",
        "max_length = 100\n",
        "trunc_type = 'post'\n",
        "padding_type = 'post'\n",
        "oov_tok = '<OOV>'"
      ],
      "execution_count": 0,
      "outputs": []
    },
    {
      "cell_type": "code",
      "metadata": {
        "id": "defch0J1gXaJ",
        "colab_type": "code",
        "colab": {}
      },
      "source": [
        "tokenizer = Tokenizer(num_words=vocab_size, oov_token=oov_tok)\n",
        "tokenizer.fit_on_texts(X_train)\n",
        "word_index = tokenizer.word_index\n",
        "\n",
        "training_sequences = tokenizer.texts_to_sequences(X_train)\n",
        "training_padded = pad_sequences(training_sequences, maxlen=max_length, padding=padding_type, truncating=trunc_type)\n",
        "\n",
        "testing_sequences = tokenizer.texts_to_sequences(X_test)\n",
        "testing_padded = pad_sequences(testing_sequences, maxlen=max_length, padding=padding_type, truncating=trunc_type)"
      ],
      "execution_count": 0,
      "outputs": []
    },
    {
      "cell_type": "code",
      "metadata": {
        "id": "p1d9PQpMhMWY",
        "colab_type": "code",
        "outputId": "3cafc0eb-269a-4c17-8463-eddda5eecdad",
        "colab": {
          "base_uri": "https://localhost:8080/",
          "height": 391
        }
      },
      "source": [
        "model = tf.keras.models.Sequential()\n",
        "\n",
        "model.add(tf.keras.layers.Embedding(vocab_size, embedding_dim, input_length=max_length))\n",
        "model.add(tf.keras.layers.GlobalAveragePooling1D())\n",
        "model.add(tf.keras.layers.Dense(12, activation='relu'))\n",
        "model.add(tf.keras.layers.Dropout(0.2))\n",
        "model.add(tf.keras.layers.Dense(6, activation='relu'))\n",
        "model.add(tf.keras.layers.Dropout(0.2))\n",
        "model.add(tf.keras.layers.Dense(1, activation='sigmoid'))\n",
        "\n",
        "model.summary()"
      ],
      "execution_count": 12,
      "outputs": [
        {
          "output_type": "stream",
          "text": [
            "Model: \"sequential\"\n",
            "_________________________________________________________________\n",
            "Layer (type)                 Output Shape              Param #   \n",
            "=================================================================\n",
            "embedding (Embedding)        (None, 100, 16)           16000     \n",
            "_________________________________________________________________\n",
            "global_average_pooling1d (Gl (None, 16)                0         \n",
            "_________________________________________________________________\n",
            "dense (Dense)                (None, 12)                204       \n",
            "_________________________________________________________________\n",
            "dropout (Dropout)            (None, 12)                0         \n",
            "_________________________________________________________________\n",
            "dense_1 (Dense)              (None, 6)                 78        \n",
            "_________________________________________________________________\n",
            "dropout_1 (Dropout)          (None, 6)                 0         \n",
            "_________________________________________________________________\n",
            "dense_2 (Dense)              (None, 1)                 7         \n",
            "=================================================================\n",
            "Total params: 16,289\n",
            "Trainable params: 16,289\n",
            "Non-trainable params: 0\n",
            "_________________________________________________________________\n"
          ],
          "name": "stdout"
        }
      ]
    },
    {
      "cell_type": "code",
      "metadata": {
        "id": "JGzf5yRQjE7z",
        "colab_type": "code",
        "colab": {}
      },
      "source": [
        "model.compile(loss=tf.keras.losses.BinaryCrossentropy(),\n",
        "              optimizer=tf.keras.optimizers.Adam(1e-4),\n",
        "              metrics=['accuracy'])"
      ],
      "execution_count": 0,
      "outputs": []
    },
    {
      "cell_type": "code",
      "metadata": {
        "id": "EttF9CNv2EF2",
        "colab_type": "code",
        "colab": {}
      },
      "source": [
        "cb = tf.keras.callbacks.EarlyStopping(monitor='val_loss',\n",
        "                                      patience=20)"
      ],
      "execution_count": 0,
      "outputs": []
    },
    {
      "cell_type": "code",
      "metadata": {
        "id": "Vu_F1pPhjVTc",
        "colab_type": "code",
        "outputId": "6cffbac9-cb82-44ce-c1cc-5e548b7c38a2",
        "colab": {
          "base_uri": "https://localhost:8080/",
          "height": 1000
        }
      },
      "source": [
        "modelo = model.fit(training_padded, y_train, epochs=350, batch_size=128, validation_data=(testing_padded, y_test), callbacks=cb)"
      ],
      "execution_count": 15,
      "outputs": [
        {
          "output_type": "stream",
          "text": [
            "Epoch 1/350\n",
            "42/42 [==============================] - 0s 9ms/step - loss: 0.6933 - accuracy: 0.4892 - val_loss: 0.6929 - val_accuracy: 0.5810\n",
            "Epoch 2/350\n",
            "42/42 [==============================] - 0s 5ms/step - loss: 0.6927 - accuracy: 0.5558 - val_loss: 0.6923 - val_accuracy: 0.5810\n",
            "Epoch 3/350\n",
            "42/42 [==============================] - 0s 6ms/step - loss: 0.6921 - accuracy: 0.5650 - val_loss: 0.6912 - val_accuracy: 0.5810\n",
            "Epoch 4/350\n",
            "42/42 [==============================] - 0s 6ms/step - loss: 0.6910 - accuracy: 0.5658 - val_loss: 0.6900 - val_accuracy: 0.5810\n",
            "Epoch 5/350\n",
            "42/42 [==============================] - 0s 5ms/step - loss: 0.6905 - accuracy: 0.5658 - val_loss: 0.6893 - val_accuracy: 0.5810\n",
            "Epoch 6/350\n",
            "42/42 [==============================] - 0s 5ms/step - loss: 0.6896 - accuracy: 0.5658 - val_loss: 0.6885 - val_accuracy: 0.5810\n",
            "Epoch 7/350\n",
            "42/42 [==============================] - 0s 6ms/step - loss: 0.6894 - accuracy: 0.5658 - val_loss: 0.6878 - val_accuracy: 0.5810\n",
            "Epoch 8/350\n",
            "42/42 [==============================] - 0s 6ms/step - loss: 0.6886 - accuracy: 0.5658 - val_loss: 0.6871 - val_accuracy: 0.5810\n",
            "Epoch 9/350\n",
            "42/42 [==============================] - 0s 5ms/step - loss: 0.6879 - accuracy: 0.5658 - val_loss: 0.6863 - val_accuracy: 0.5810\n",
            "Epoch 10/350\n",
            "42/42 [==============================] - 0s 5ms/step - loss: 0.6880 - accuracy: 0.5658 - val_loss: 0.6857 - val_accuracy: 0.5810\n",
            "Epoch 11/350\n",
            "42/42 [==============================] - 0s 6ms/step - loss: 0.6869 - accuracy: 0.5658 - val_loss: 0.6851 - val_accuracy: 0.5810\n",
            "Epoch 12/350\n",
            "42/42 [==============================] - 0s 6ms/step - loss: 0.6868 - accuracy: 0.5658 - val_loss: 0.6845 - val_accuracy: 0.5810\n",
            "Epoch 13/350\n",
            "42/42 [==============================] - 0s 6ms/step - loss: 0.6861 - accuracy: 0.5658 - val_loss: 0.6839 - val_accuracy: 0.5810\n",
            "Epoch 14/350\n",
            "42/42 [==============================] - 0s 6ms/step - loss: 0.6859 - accuracy: 0.5658 - val_loss: 0.6833 - val_accuracy: 0.5810\n",
            "Epoch 15/350\n",
            "42/42 [==============================] - 0s 6ms/step - loss: 0.6860 - accuracy: 0.5658 - val_loss: 0.6828 - val_accuracy: 0.5810\n",
            "Epoch 16/350\n",
            "42/42 [==============================] - 0s 6ms/step - loss: 0.6851 - accuracy: 0.5658 - val_loss: 0.6823 - val_accuracy: 0.5810\n",
            "Epoch 17/350\n",
            "42/42 [==============================] - 0s 6ms/step - loss: 0.6838 - accuracy: 0.5658 - val_loss: 0.6817 - val_accuracy: 0.5810\n",
            "Epoch 18/350\n",
            "42/42 [==============================] - 0s 5ms/step - loss: 0.6844 - accuracy: 0.5658 - val_loss: 0.6813 - val_accuracy: 0.5810\n",
            "Epoch 19/350\n",
            "42/42 [==============================] - 0s 6ms/step - loss: 0.6839 - accuracy: 0.5658 - val_loss: 0.6808 - val_accuracy: 0.5810\n",
            "Epoch 20/350\n",
            "42/42 [==============================] - 0s 6ms/step - loss: 0.6835 - accuracy: 0.5658 - val_loss: 0.6803 - val_accuracy: 0.5810\n",
            "Epoch 21/350\n",
            "42/42 [==============================] - 0s 5ms/step - loss: 0.6830 - accuracy: 0.5658 - val_loss: 0.6799 - val_accuracy: 0.5810\n",
            "Epoch 22/350\n",
            "42/42 [==============================] - 0s 5ms/step - loss: 0.6835 - accuracy: 0.5658 - val_loss: 0.6795 - val_accuracy: 0.5810\n",
            "Epoch 23/350\n",
            "42/42 [==============================] - 0s 5ms/step - loss: 0.6824 - accuracy: 0.5658 - val_loss: 0.6791 - val_accuracy: 0.5810\n",
            "Epoch 24/350\n",
            "42/42 [==============================] - 0s 6ms/step - loss: 0.6827 - accuracy: 0.5658 - val_loss: 0.6788 - val_accuracy: 0.5810\n",
            "Epoch 25/350\n",
            "42/42 [==============================] - 0s 6ms/step - loss: 0.6824 - accuracy: 0.5658 - val_loss: 0.6784 - val_accuracy: 0.5810\n",
            "Epoch 26/350\n",
            "42/42 [==============================] - 0s 6ms/step - loss: 0.6821 - accuracy: 0.5658 - val_loss: 0.6780 - val_accuracy: 0.5810\n",
            "Epoch 27/350\n",
            "42/42 [==============================] - 0s 5ms/step - loss: 0.6818 - accuracy: 0.5658 - val_loss: 0.6776 - val_accuracy: 0.5810\n",
            "Epoch 28/350\n",
            "42/42 [==============================] - 0s 6ms/step - loss: 0.6804 - accuracy: 0.5658 - val_loss: 0.6771 - val_accuracy: 0.5810\n",
            "Epoch 29/350\n",
            "42/42 [==============================] - 0s 6ms/step - loss: 0.6805 - accuracy: 0.5658 - val_loss: 0.6767 - val_accuracy: 0.5810\n",
            "Epoch 30/350\n",
            "42/42 [==============================] - 0s 6ms/step - loss: 0.6793 - accuracy: 0.5658 - val_loss: 0.6762 - val_accuracy: 0.5810\n",
            "Epoch 31/350\n",
            "42/42 [==============================] - 0s 6ms/step - loss: 0.6808 - accuracy: 0.5658 - val_loss: 0.6759 - val_accuracy: 0.5810\n",
            "Epoch 32/350\n",
            "42/42 [==============================] - 0s 5ms/step - loss: 0.6800 - accuracy: 0.5658 - val_loss: 0.6753 - val_accuracy: 0.5810\n",
            "Epoch 33/350\n",
            "42/42 [==============================] - 0s 6ms/step - loss: 0.6782 - accuracy: 0.5658 - val_loss: 0.6748 - val_accuracy: 0.5810\n",
            "Epoch 34/350\n",
            "42/42 [==============================] - 0s 5ms/step - loss: 0.6781 - accuracy: 0.5658 - val_loss: 0.6743 - val_accuracy: 0.5810\n",
            "Epoch 35/350\n",
            "42/42 [==============================] - 0s 5ms/step - loss: 0.6774 - accuracy: 0.5658 - val_loss: 0.6737 - val_accuracy: 0.5810\n",
            "Epoch 36/350\n",
            "42/42 [==============================] - 0s 5ms/step - loss: 0.6771 - accuracy: 0.5658 - val_loss: 0.6732 - val_accuracy: 0.5810\n",
            "Epoch 37/350\n",
            "42/42 [==============================] - 0s 5ms/step - loss: 0.6765 - accuracy: 0.5658 - val_loss: 0.6725 - val_accuracy: 0.5810\n",
            "Epoch 38/350\n",
            "42/42 [==============================] - 0s 6ms/step - loss: 0.6755 - accuracy: 0.5658 - val_loss: 0.6719 - val_accuracy: 0.5810\n",
            "Epoch 39/350\n",
            "42/42 [==============================] - 0s 6ms/step - loss: 0.6749 - accuracy: 0.5658 - val_loss: 0.6713 - val_accuracy: 0.5810\n",
            "Epoch 40/350\n",
            "42/42 [==============================] - 0s 6ms/step - loss: 0.6740 - accuracy: 0.5658 - val_loss: 0.6705 - val_accuracy: 0.5810\n",
            "Epoch 41/350\n",
            "42/42 [==============================] - 0s 6ms/step - loss: 0.6737 - accuracy: 0.5658 - val_loss: 0.6698 - val_accuracy: 0.5810\n",
            "Epoch 42/350\n",
            "42/42 [==============================] - 0s 6ms/step - loss: 0.6723 - accuracy: 0.5658 - val_loss: 0.6689 - val_accuracy: 0.5810\n",
            "Epoch 43/350\n",
            "42/42 [==============================] - 0s 6ms/step - loss: 0.6726 - accuracy: 0.5658 - val_loss: 0.6680 - val_accuracy: 0.5810\n",
            "Epoch 44/350\n",
            "42/42 [==============================] - 0s 6ms/step - loss: 0.6710 - accuracy: 0.5658 - val_loss: 0.6668 - val_accuracy: 0.5810\n",
            "Epoch 45/350\n",
            "42/42 [==============================] - 0s 5ms/step - loss: 0.6703 - accuracy: 0.5658 - val_loss: 0.6657 - val_accuracy: 0.5810\n",
            "Epoch 46/350\n",
            "42/42 [==============================] - 0s 5ms/step - loss: 0.6679 - accuracy: 0.5660 - val_loss: 0.6646 - val_accuracy: 0.5810\n",
            "Epoch 47/350\n",
            "42/42 [==============================] - 0s 6ms/step - loss: 0.6669 - accuracy: 0.5665 - val_loss: 0.6632 - val_accuracy: 0.5810\n",
            "Epoch 48/350\n",
            "42/42 [==============================] - 0s 6ms/step - loss: 0.6662 - accuracy: 0.5690 - val_loss: 0.6612 - val_accuracy: 0.5810\n",
            "Epoch 49/350\n",
            "42/42 [==============================] - 0s 6ms/step - loss: 0.6631 - accuracy: 0.5763 - val_loss: 0.6583 - val_accuracy: 0.5823\n",
            "Epoch 50/350\n",
            "42/42 [==============================] - 0s 6ms/step - loss: 0.6641 - accuracy: 0.5934 - val_loss: 0.6561 - val_accuracy: 0.5902\n",
            "Epoch 51/350\n",
            "42/42 [==============================] - 0s 6ms/step - loss: 0.6607 - accuracy: 0.6033 - val_loss: 0.6540 - val_accuracy: 0.6051\n",
            "Epoch 52/350\n",
            "42/42 [==============================] - 0s 6ms/step - loss: 0.6589 - accuracy: 0.6065 - val_loss: 0.6520 - val_accuracy: 0.6182\n",
            "Epoch 53/350\n",
            "42/42 [==============================] - 0s 6ms/step - loss: 0.6559 - accuracy: 0.6151 - val_loss: 0.6500 - val_accuracy: 0.6265\n",
            "Epoch 54/350\n",
            "42/42 [==============================] - 0s 5ms/step - loss: 0.6561 - accuracy: 0.6254 - val_loss: 0.6481 - val_accuracy: 0.6322\n",
            "Epoch 55/350\n",
            "42/42 [==============================] - 0s 6ms/step - loss: 0.6508 - accuracy: 0.6354 - val_loss: 0.6461 - val_accuracy: 0.6440\n",
            "Epoch 56/350\n",
            "42/42 [==============================] - 0s 6ms/step - loss: 0.6499 - accuracy: 0.6343 - val_loss: 0.6440 - val_accuracy: 0.6528\n",
            "Epoch 57/350\n",
            "42/42 [==============================] - 0s 6ms/step - loss: 0.6481 - accuracy: 0.6459 - val_loss: 0.6421 - val_accuracy: 0.6616\n",
            "Epoch 58/350\n",
            "42/42 [==============================] - 0s 6ms/step - loss: 0.6471 - accuracy: 0.6435 - val_loss: 0.6399 - val_accuracy: 0.6637\n",
            "Epoch 59/350\n",
            "42/42 [==============================] - 0s 5ms/step - loss: 0.6451 - accuracy: 0.6568 - val_loss: 0.6380 - val_accuracy: 0.6694\n",
            "Epoch 60/350\n",
            "42/42 [==============================] - 0s 5ms/step - loss: 0.6410 - accuracy: 0.6615 - val_loss: 0.6357 - val_accuracy: 0.6764\n",
            "Epoch 61/350\n",
            "42/42 [==============================] - 0s 6ms/step - loss: 0.6409 - accuracy: 0.6560 - val_loss: 0.6336 - val_accuracy: 0.6843\n",
            "Epoch 62/350\n",
            "42/42 [==============================] - 0s 5ms/step - loss: 0.6409 - accuracy: 0.6611 - val_loss: 0.6320 - val_accuracy: 0.6931\n",
            "Epoch 63/350\n",
            "42/42 [==============================] - 0s 5ms/step - loss: 0.6372 - accuracy: 0.6697 - val_loss: 0.6297 - val_accuracy: 0.6970\n",
            "Epoch 64/350\n",
            "42/42 [==============================] - 0s 5ms/step - loss: 0.6349 - accuracy: 0.6712 - val_loss: 0.6276 - val_accuracy: 0.7005\n",
            "Epoch 65/350\n",
            "42/42 [==============================] - 0s 5ms/step - loss: 0.6335 - accuracy: 0.6771 - val_loss: 0.6255 - val_accuracy: 0.7062\n",
            "Epoch 66/350\n",
            "42/42 [==============================] - 0s 6ms/step - loss: 0.6277 - accuracy: 0.6786 - val_loss: 0.6229 - val_accuracy: 0.7014\n",
            "Epoch 67/350\n",
            "42/42 [==============================] - 0s 5ms/step - loss: 0.6275 - accuracy: 0.6936 - val_loss: 0.6206 - val_accuracy: 0.7088\n",
            "Epoch 68/350\n",
            "42/42 [==============================] - 0s 5ms/step - loss: 0.6262 - accuracy: 0.6911 - val_loss: 0.6185 - val_accuracy: 0.7088\n",
            "Epoch 69/350\n",
            "42/42 [==============================] - 0s 5ms/step - loss: 0.6229 - accuracy: 0.6941 - val_loss: 0.6167 - val_accuracy: 0.7176\n",
            "Epoch 70/350\n",
            "42/42 [==============================] - 0s 6ms/step - loss: 0.6212 - accuracy: 0.6936 - val_loss: 0.6141 - val_accuracy: 0.7176\n",
            "Epoch 71/350\n",
            "42/42 [==============================] - 0s 5ms/step - loss: 0.6199 - accuracy: 0.6941 - val_loss: 0.6119 - val_accuracy: 0.7198\n",
            "Epoch 72/350\n",
            "42/42 [==============================] - 0s 5ms/step - loss: 0.6190 - accuracy: 0.6887 - val_loss: 0.6097 - val_accuracy: 0.7189\n",
            "Epoch 73/350\n",
            "42/42 [==============================] - 0s 5ms/step - loss: 0.6181 - accuracy: 0.6938 - val_loss: 0.6076 - val_accuracy: 0.7202\n",
            "Epoch 74/350\n",
            "42/42 [==============================] - 0s 6ms/step - loss: 0.6152 - accuracy: 0.6971 - val_loss: 0.6055 - val_accuracy: 0.7233\n",
            "Epoch 75/350\n",
            "42/42 [==============================] - 0s 5ms/step - loss: 0.6098 - accuracy: 0.7076 - val_loss: 0.6035 - val_accuracy: 0.7277\n",
            "Epoch 76/350\n",
            "42/42 [==============================] - 0s 5ms/step - loss: 0.6082 - accuracy: 0.7026 - val_loss: 0.6011 - val_accuracy: 0.7281\n",
            "Epoch 77/350\n",
            "42/42 [==============================] - 0s 5ms/step - loss: 0.6086 - accuracy: 0.7005 - val_loss: 0.5990 - val_accuracy: 0.7281\n",
            "Epoch 78/350\n",
            "42/42 [==============================] - 0s 5ms/step - loss: 0.6076 - accuracy: 0.6953 - val_loss: 0.5976 - val_accuracy: 0.7242\n",
            "Epoch 79/350\n",
            "42/42 [==============================] - 0s 5ms/step - loss: 0.6024 - accuracy: 0.7101 - val_loss: 0.5950 - val_accuracy: 0.7259\n",
            "Epoch 80/350\n",
            "42/42 [==============================] - 0s 5ms/step - loss: 0.6024 - accuracy: 0.7101 - val_loss: 0.5933 - val_accuracy: 0.7281\n",
            "Epoch 81/350\n",
            "42/42 [==============================] - 0s 5ms/step - loss: 0.6007 - accuracy: 0.7041 - val_loss: 0.5909 - val_accuracy: 0.7268\n",
            "Epoch 82/350\n",
            "42/42 [==============================] - 0s 5ms/step - loss: 0.5989 - accuracy: 0.7086 - val_loss: 0.5889 - val_accuracy: 0.7277\n",
            "Epoch 83/350\n",
            "42/42 [==============================] - 0s 5ms/step - loss: 0.5987 - accuracy: 0.7026 - val_loss: 0.5867 - val_accuracy: 0.7272\n",
            "Epoch 84/350\n",
            "42/42 [==============================] - 0s 5ms/step - loss: 0.5935 - accuracy: 0.7148 - val_loss: 0.5850 - val_accuracy: 0.7334\n",
            "Epoch 85/350\n",
            "42/42 [==============================] - 0s 5ms/step - loss: 0.5945 - accuracy: 0.7110 - val_loss: 0.5832 - val_accuracy: 0.7320\n",
            "Epoch 86/350\n",
            "42/42 [==============================] - 0s 5ms/step - loss: 0.5900 - accuracy: 0.7196 - val_loss: 0.5815 - val_accuracy: 0.7338\n",
            "Epoch 87/350\n",
            "42/42 [==============================] - 0s 5ms/step - loss: 0.5916 - accuracy: 0.7065 - val_loss: 0.5791 - val_accuracy: 0.7338\n",
            "Epoch 88/350\n",
            "42/42 [==============================] - 0s 6ms/step - loss: 0.5876 - accuracy: 0.7129 - val_loss: 0.5771 - val_accuracy: 0.7360\n",
            "Epoch 89/350\n",
            "42/42 [==============================] - 0s 5ms/step - loss: 0.5864 - accuracy: 0.7172 - val_loss: 0.5754 - val_accuracy: 0.7360\n",
            "Epoch 90/350\n",
            "42/42 [==============================] - 0s 5ms/step - loss: 0.5845 - accuracy: 0.7105 - val_loss: 0.5734 - val_accuracy: 0.7364\n",
            "Epoch 91/350\n",
            "42/42 [==============================] - 0s 6ms/step - loss: 0.5794 - accuracy: 0.7195 - val_loss: 0.5714 - val_accuracy: 0.7369\n",
            "Epoch 92/350\n",
            "42/42 [==============================] - 0s 6ms/step - loss: 0.5795 - accuracy: 0.7249 - val_loss: 0.5702 - val_accuracy: 0.7395\n",
            "Epoch 93/350\n",
            "42/42 [==============================] - 0s 5ms/step - loss: 0.5749 - accuracy: 0.7260 - val_loss: 0.5676 - val_accuracy: 0.7417\n",
            "Epoch 94/350\n",
            "42/42 [==============================] - 0s 5ms/step - loss: 0.5761 - accuracy: 0.7210 - val_loss: 0.5657 - val_accuracy: 0.7421\n",
            "Epoch 95/350\n",
            "42/42 [==============================] - 0s 5ms/step - loss: 0.5745 - accuracy: 0.7272 - val_loss: 0.5639 - val_accuracy: 0.7412\n",
            "Epoch 96/350\n",
            "42/42 [==============================] - 0s 5ms/step - loss: 0.5696 - accuracy: 0.7296 - val_loss: 0.5617 - val_accuracy: 0.7430\n",
            "Epoch 97/350\n",
            "42/42 [==============================] - 0s 6ms/step - loss: 0.5689 - accuracy: 0.7296 - val_loss: 0.5602 - val_accuracy: 0.7443\n",
            "Epoch 98/350\n",
            "42/42 [==============================] - 0s 6ms/step - loss: 0.5714 - accuracy: 0.7287 - val_loss: 0.5581 - val_accuracy: 0.7430\n",
            "Epoch 99/350\n",
            "42/42 [==============================] - 0s 5ms/step - loss: 0.5649 - accuracy: 0.7315 - val_loss: 0.5570 - val_accuracy: 0.7491\n",
            "Epoch 100/350\n",
            "42/42 [==============================] - 0s 6ms/step - loss: 0.5662 - accuracy: 0.7281 - val_loss: 0.5553 - val_accuracy: 0.7500\n",
            "Epoch 101/350\n",
            "42/42 [==============================] - 0s 5ms/step - loss: 0.5613 - accuracy: 0.7332 - val_loss: 0.5533 - val_accuracy: 0.7500\n",
            "Epoch 102/350\n",
            "42/42 [==============================] - 0s 6ms/step - loss: 0.5621 - accuracy: 0.7322 - val_loss: 0.5515 - val_accuracy: 0.7500\n",
            "Epoch 103/350\n",
            "42/42 [==============================] - 0s 6ms/step - loss: 0.5611 - accuracy: 0.7358 - val_loss: 0.5495 - val_accuracy: 0.7513\n",
            "Epoch 104/350\n",
            "42/42 [==============================] - 0s 6ms/step - loss: 0.5581 - accuracy: 0.7307 - val_loss: 0.5480 - val_accuracy: 0.7518\n",
            "Epoch 105/350\n",
            "42/42 [==============================] - 0s 6ms/step - loss: 0.5569 - accuracy: 0.7377 - val_loss: 0.5463 - val_accuracy: 0.7518\n",
            "Epoch 106/350\n",
            "42/42 [==============================] - 0s 5ms/step - loss: 0.5489 - accuracy: 0.7422 - val_loss: 0.5442 - val_accuracy: 0.7544\n",
            "Epoch 107/350\n",
            "42/42 [==============================] - 0s 5ms/step - loss: 0.5529 - accuracy: 0.7394 - val_loss: 0.5424 - val_accuracy: 0.7561\n",
            "Epoch 108/350\n",
            "42/42 [==============================] - 0s 5ms/step - loss: 0.5524 - accuracy: 0.7332 - val_loss: 0.5410 - val_accuracy: 0.7544\n",
            "Epoch 109/350\n",
            "42/42 [==============================] - 0s 5ms/step - loss: 0.5498 - accuracy: 0.7377 - val_loss: 0.5398 - val_accuracy: 0.7566\n",
            "Epoch 110/350\n",
            "42/42 [==============================] - 0s 5ms/step - loss: 0.5497 - accuracy: 0.7452 - val_loss: 0.5379 - val_accuracy: 0.7566\n",
            "Epoch 111/350\n",
            "42/42 [==============================] - 0s 5ms/step - loss: 0.5464 - accuracy: 0.7427 - val_loss: 0.5363 - val_accuracy: 0.7579\n",
            "Epoch 112/350\n",
            "42/42 [==============================] - 0s 5ms/step - loss: 0.5448 - accuracy: 0.7431 - val_loss: 0.5341 - val_accuracy: 0.7588\n",
            "Epoch 113/350\n",
            "42/42 [==============================] - 0s 6ms/step - loss: 0.5409 - accuracy: 0.7485 - val_loss: 0.5323 - val_accuracy: 0.7596\n",
            "Epoch 114/350\n",
            "42/42 [==============================] - 0s 5ms/step - loss: 0.5386 - accuracy: 0.7450 - val_loss: 0.5307 - val_accuracy: 0.7609\n",
            "Epoch 115/350\n",
            "42/42 [==============================] - 0s 5ms/step - loss: 0.5408 - accuracy: 0.7431 - val_loss: 0.5292 - val_accuracy: 0.7623\n",
            "Epoch 116/350\n",
            "42/42 [==============================] - 0s 5ms/step - loss: 0.5369 - accuracy: 0.7442 - val_loss: 0.5276 - val_accuracy: 0.7653\n",
            "Epoch 117/350\n",
            "42/42 [==============================] - 0s 5ms/step - loss: 0.5377 - accuracy: 0.7527 - val_loss: 0.5260 - val_accuracy: 0.7671\n",
            "Epoch 118/350\n",
            "42/42 [==============================] - 0s 5ms/step - loss: 0.5304 - accuracy: 0.7523 - val_loss: 0.5244 - val_accuracy: 0.7666\n",
            "Epoch 119/350\n",
            "42/42 [==============================] - 0s 5ms/step - loss: 0.5290 - accuracy: 0.7502 - val_loss: 0.5222 - val_accuracy: 0.7666\n",
            "Epoch 120/350\n",
            "42/42 [==============================] - 0s 5ms/step - loss: 0.5309 - accuracy: 0.7470 - val_loss: 0.5204 - val_accuracy: 0.7697\n",
            "Epoch 121/350\n",
            "42/42 [==============================] - 0s 5ms/step - loss: 0.5332 - accuracy: 0.7532 - val_loss: 0.5198 - val_accuracy: 0.7701\n",
            "Epoch 122/350\n",
            "42/42 [==============================] - 0s 5ms/step - loss: 0.5244 - accuracy: 0.7617 - val_loss: 0.5177 - val_accuracy: 0.7697\n",
            "Epoch 123/350\n",
            "42/42 [==============================] - 0s 6ms/step - loss: 0.5242 - accuracy: 0.7591 - val_loss: 0.5164 - val_accuracy: 0.7715\n",
            "Epoch 124/350\n",
            "42/42 [==============================] - 0s 5ms/step - loss: 0.5210 - accuracy: 0.7564 - val_loss: 0.5151 - val_accuracy: 0.7715\n",
            "Epoch 125/350\n",
            "42/42 [==============================] - 0s 5ms/step - loss: 0.5198 - accuracy: 0.7698 - val_loss: 0.5137 - val_accuracy: 0.7741\n",
            "Epoch 126/350\n",
            "42/42 [==============================] - 0s 5ms/step - loss: 0.5212 - accuracy: 0.7587 - val_loss: 0.5117 - val_accuracy: 0.7776\n",
            "Epoch 127/350\n",
            "42/42 [==============================] - 0s 6ms/step - loss: 0.5167 - accuracy: 0.7621 - val_loss: 0.5104 - val_accuracy: 0.7767\n",
            "Epoch 128/350\n",
            "42/42 [==============================] - 0s 5ms/step - loss: 0.5191 - accuracy: 0.7596 - val_loss: 0.5090 - val_accuracy: 0.7785\n",
            "Epoch 129/350\n",
            "42/42 [==============================] - 0s 6ms/step - loss: 0.5170 - accuracy: 0.7622 - val_loss: 0.5077 - val_accuracy: 0.7798\n",
            "Epoch 130/350\n",
            "42/42 [==============================] - 0s 6ms/step - loss: 0.5163 - accuracy: 0.7677 - val_loss: 0.5065 - val_accuracy: 0.7785\n",
            "Epoch 131/350\n",
            "42/42 [==============================] - 0s 6ms/step - loss: 0.5142 - accuracy: 0.7617 - val_loss: 0.5054 - val_accuracy: 0.7793\n",
            "Epoch 132/350\n",
            "42/42 [==============================] - 0s 6ms/step - loss: 0.5070 - accuracy: 0.7675 - val_loss: 0.5036 - val_accuracy: 0.7824\n",
            "Epoch 133/350\n",
            "42/42 [==============================] - 0s 6ms/step - loss: 0.5090 - accuracy: 0.7641 - val_loss: 0.5024 - val_accuracy: 0.7828\n",
            "Epoch 134/350\n",
            "42/42 [==============================] - 0s 6ms/step - loss: 0.5060 - accuracy: 0.7652 - val_loss: 0.5014 - val_accuracy: 0.7833\n",
            "Epoch 135/350\n",
            "42/42 [==============================] - 0s 6ms/step - loss: 0.5049 - accuracy: 0.7645 - val_loss: 0.4997 - val_accuracy: 0.7846\n",
            "Epoch 136/350\n",
            "42/42 [==============================] - 0s 5ms/step - loss: 0.5022 - accuracy: 0.7705 - val_loss: 0.4984 - val_accuracy: 0.7863\n",
            "Epoch 137/350\n",
            "42/42 [==============================] - 0s 5ms/step - loss: 0.5052 - accuracy: 0.7707 - val_loss: 0.4974 - val_accuracy: 0.7863\n",
            "Epoch 138/350\n",
            "42/42 [==============================] - 0s 6ms/step - loss: 0.5049 - accuracy: 0.7641 - val_loss: 0.4962 - val_accuracy: 0.7890\n",
            "Epoch 139/350\n",
            "42/42 [==============================] - 0s 5ms/step - loss: 0.4955 - accuracy: 0.7769 - val_loss: 0.4952 - val_accuracy: 0.7877\n",
            "Epoch 140/350\n",
            "42/42 [==============================] - 0s 6ms/step - loss: 0.4993 - accuracy: 0.7744 - val_loss: 0.4936 - val_accuracy: 0.7894\n",
            "Epoch 141/350\n",
            "42/42 [==============================] - 0s 6ms/step - loss: 0.4940 - accuracy: 0.7791 - val_loss: 0.4932 - val_accuracy: 0.7903\n",
            "Epoch 142/350\n",
            "42/42 [==============================] - 0s 6ms/step - loss: 0.4907 - accuracy: 0.7773 - val_loss: 0.4919 - val_accuracy: 0.7894\n",
            "Epoch 143/350\n",
            "42/42 [==============================] - 0s 6ms/step - loss: 0.4982 - accuracy: 0.7748 - val_loss: 0.4904 - val_accuracy: 0.7920\n",
            "Epoch 144/350\n",
            "42/42 [==============================] - 0s 5ms/step - loss: 0.4911 - accuracy: 0.7810 - val_loss: 0.4892 - val_accuracy: 0.7920\n",
            "Epoch 145/350\n",
            "42/42 [==============================] - 0s 5ms/step - loss: 0.4896 - accuracy: 0.7788 - val_loss: 0.4881 - val_accuracy: 0.7925\n",
            "Epoch 146/350\n",
            "42/42 [==============================] - 0s 5ms/step - loss: 0.4908 - accuracy: 0.7818 - val_loss: 0.4886 - val_accuracy: 0.7955\n",
            "Epoch 147/350\n",
            "42/42 [==============================] - 0s 6ms/step - loss: 0.4900 - accuracy: 0.7743 - val_loss: 0.4864 - val_accuracy: 0.7938\n",
            "Epoch 148/350\n",
            "42/42 [==============================] - 0s 6ms/step - loss: 0.4914 - accuracy: 0.7748 - val_loss: 0.4855 - val_accuracy: 0.7955\n",
            "Epoch 149/350\n",
            "42/42 [==============================] - 0s 6ms/step - loss: 0.4850 - accuracy: 0.7838 - val_loss: 0.4842 - val_accuracy: 0.7951\n",
            "Epoch 150/350\n",
            "42/42 [==============================] - 0s 6ms/step - loss: 0.4878 - accuracy: 0.7821 - val_loss: 0.4837 - val_accuracy: 0.7977\n",
            "Epoch 151/350\n",
            "42/42 [==============================] - 0s 6ms/step - loss: 0.4895 - accuracy: 0.7799 - val_loss: 0.4823 - val_accuracy: 0.7964\n",
            "Epoch 152/350\n",
            "42/42 [==============================] - 0s 5ms/step - loss: 0.4816 - accuracy: 0.7850 - val_loss: 0.4824 - val_accuracy: 0.7955\n",
            "Epoch 153/350\n",
            "42/42 [==============================] - 0s 6ms/step - loss: 0.4772 - accuracy: 0.7880 - val_loss: 0.4809 - val_accuracy: 0.7986\n",
            "Epoch 154/350\n",
            "42/42 [==============================] - 0s 6ms/step - loss: 0.4834 - accuracy: 0.7863 - val_loss: 0.4801 - val_accuracy: 0.7964\n",
            "Epoch 155/350\n",
            "42/42 [==============================] - 0s 6ms/step - loss: 0.4822 - accuracy: 0.7782 - val_loss: 0.4796 - val_accuracy: 0.7977\n",
            "Epoch 156/350\n",
            "42/42 [==============================] - 0s 5ms/step - loss: 0.4790 - accuracy: 0.7842 - val_loss: 0.4796 - val_accuracy: 0.7977\n",
            "Epoch 157/350\n",
            "42/42 [==============================] - 0s 5ms/step - loss: 0.4724 - accuracy: 0.7908 - val_loss: 0.4776 - val_accuracy: 0.7986\n",
            "Epoch 158/350\n",
            "42/42 [==============================] - 0s 5ms/step - loss: 0.4770 - accuracy: 0.7891 - val_loss: 0.4766 - val_accuracy: 0.7990\n",
            "Epoch 159/350\n",
            "42/42 [==============================] - 0s 6ms/step - loss: 0.4800 - accuracy: 0.7880 - val_loss: 0.4759 - val_accuracy: 0.7995\n",
            "Epoch 160/350\n",
            "42/42 [==============================] - 0s 6ms/step - loss: 0.4754 - accuracy: 0.7823 - val_loss: 0.4748 - val_accuracy: 0.8030\n",
            "Epoch 161/350\n",
            "42/42 [==============================] - 0s 6ms/step - loss: 0.4702 - accuracy: 0.7915 - val_loss: 0.4750 - val_accuracy: 0.7977\n",
            "Epoch 162/350\n",
            "42/42 [==============================] - 0s 6ms/step - loss: 0.4712 - accuracy: 0.7821 - val_loss: 0.4736 - val_accuracy: 0.8004\n",
            "Epoch 163/350\n",
            "42/42 [==============================] - 0s 5ms/step - loss: 0.4769 - accuracy: 0.7842 - val_loss: 0.4731 - val_accuracy: 0.7999\n",
            "Epoch 164/350\n",
            "42/42 [==============================] - 0s 5ms/step - loss: 0.4742 - accuracy: 0.7876 - val_loss: 0.4727 - val_accuracy: 0.8004\n",
            "Epoch 165/350\n",
            "42/42 [==============================] - 0s 6ms/step - loss: 0.4680 - accuracy: 0.7941 - val_loss: 0.4716 - val_accuracy: 0.7995\n",
            "Epoch 166/350\n",
            "42/42 [==============================] - 0s 6ms/step - loss: 0.4646 - accuracy: 0.7900 - val_loss: 0.4711 - val_accuracy: 0.8004\n",
            "Epoch 167/350\n",
            "42/42 [==============================] - 0s 6ms/step - loss: 0.4701 - accuracy: 0.7872 - val_loss: 0.4702 - val_accuracy: 0.8012\n",
            "Epoch 168/350\n",
            "42/42 [==============================] - 0s 6ms/step - loss: 0.4673 - accuracy: 0.7880 - val_loss: 0.4694 - val_accuracy: 0.8025\n",
            "Epoch 169/350\n",
            "42/42 [==============================] - 0s 6ms/step - loss: 0.4659 - accuracy: 0.7910 - val_loss: 0.4696 - val_accuracy: 0.7990\n",
            "Epoch 170/350\n",
            "42/42 [==============================] - 0s 6ms/step - loss: 0.4662 - accuracy: 0.7973 - val_loss: 0.4679 - val_accuracy: 0.8034\n",
            "Epoch 171/350\n",
            "42/42 [==============================] - 0s 6ms/step - loss: 0.4614 - accuracy: 0.7934 - val_loss: 0.4671 - val_accuracy: 0.8039\n",
            "Epoch 172/350\n",
            "42/42 [==============================] - 0s 6ms/step - loss: 0.4618 - accuracy: 0.7951 - val_loss: 0.4667 - val_accuracy: 0.8039\n",
            "Epoch 173/350\n",
            "42/42 [==============================] - 0s 6ms/step - loss: 0.4554 - accuracy: 0.8030 - val_loss: 0.4663 - val_accuracy: 0.8034\n",
            "Epoch 174/350\n",
            "42/42 [==============================] - 0s 5ms/step - loss: 0.4612 - accuracy: 0.7945 - val_loss: 0.4652 - val_accuracy: 0.8039\n",
            "Epoch 175/350\n",
            "42/42 [==============================] - 0s 5ms/step - loss: 0.4573 - accuracy: 0.7962 - val_loss: 0.4653 - val_accuracy: 0.8025\n",
            "Epoch 176/350\n",
            "42/42 [==============================] - 0s 5ms/step - loss: 0.4579 - accuracy: 0.7994 - val_loss: 0.4646 - val_accuracy: 0.8034\n",
            "Epoch 177/350\n",
            "42/42 [==============================] - 0s 5ms/step - loss: 0.4593 - accuracy: 0.7977 - val_loss: 0.4637 - val_accuracy: 0.8060\n",
            "Epoch 178/350\n",
            "42/42 [==============================] - 0s 6ms/step - loss: 0.4544 - accuracy: 0.7962 - val_loss: 0.4635 - val_accuracy: 0.8039\n",
            "Epoch 179/350\n",
            "42/42 [==============================] - 0s 6ms/step - loss: 0.4555 - accuracy: 0.7934 - val_loss: 0.4629 - val_accuracy: 0.8060\n",
            "Epoch 180/350\n",
            "42/42 [==============================] - 0s 5ms/step - loss: 0.4601 - accuracy: 0.8015 - val_loss: 0.4621 - val_accuracy: 0.8052\n",
            "Epoch 181/350\n",
            "42/42 [==============================] - 0s 5ms/step - loss: 0.4523 - accuracy: 0.8009 - val_loss: 0.4620 - val_accuracy: 0.8082\n",
            "Epoch 182/350\n",
            "42/42 [==============================] - 0s 5ms/step - loss: 0.4480 - accuracy: 0.8050 - val_loss: 0.4613 - val_accuracy: 0.8087\n",
            "Epoch 183/350\n",
            "42/42 [==============================] - 0s 5ms/step - loss: 0.4532 - accuracy: 0.7968 - val_loss: 0.4610 - val_accuracy: 0.8091\n",
            "Epoch 184/350\n",
            "42/42 [==============================] - 0s 5ms/step - loss: 0.4495 - accuracy: 0.8005 - val_loss: 0.4607 - val_accuracy: 0.8087\n",
            "Epoch 185/350\n",
            "42/42 [==============================] - 0s 5ms/step - loss: 0.4514 - accuracy: 0.7949 - val_loss: 0.4598 - val_accuracy: 0.8082\n",
            "Epoch 186/350\n",
            "42/42 [==============================] - 0s 5ms/step - loss: 0.4543 - accuracy: 0.7960 - val_loss: 0.4596 - val_accuracy: 0.8113\n",
            "Epoch 187/350\n",
            "42/42 [==============================] - 0s 6ms/step - loss: 0.4527 - accuracy: 0.8032 - val_loss: 0.4601 - val_accuracy: 0.8078\n",
            "Epoch 188/350\n",
            "42/42 [==============================] - 0s 6ms/step - loss: 0.4447 - accuracy: 0.8032 - val_loss: 0.4587 - val_accuracy: 0.8126\n",
            "Epoch 189/350\n",
            "42/42 [==============================] - 0s 5ms/step - loss: 0.4501 - accuracy: 0.8022 - val_loss: 0.4584 - val_accuracy: 0.8113\n",
            "Epoch 190/350\n",
            "42/42 [==============================] - 0s 6ms/step - loss: 0.4442 - accuracy: 0.8080 - val_loss: 0.4579 - val_accuracy: 0.8126\n",
            "Epoch 191/350\n",
            "42/42 [==============================] - 0s 5ms/step - loss: 0.4470 - accuracy: 0.8009 - val_loss: 0.4575 - val_accuracy: 0.8126\n",
            "Epoch 192/350\n",
            "42/42 [==============================] - 0s 5ms/step - loss: 0.4466 - accuracy: 0.8065 - val_loss: 0.4569 - val_accuracy: 0.8126\n",
            "Epoch 193/350\n",
            "42/42 [==============================] - 0s 5ms/step - loss: 0.4436 - accuracy: 0.8052 - val_loss: 0.4561 - val_accuracy: 0.8095\n",
            "Epoch 194/350\n",
            "42/42 [==============================] - 0s 5ms/step - loss: 0.4421 - accuracy: 0.8071 - val_loss: 0.4565 - val_accuracy: 0.8113\n",
            "Epoch 195/350\n",
            "42/42 [==============================] - 0s 5ms/step - loss: 0.4452 - accuracy: 0.8075 - val_loss: 0.4557 - val_accuracy: 0.8117\n",
            "Epoch 196/350\n",
            "42/42 [==============================] - 0s 5ms/step - loss: 0.4423 - accuracy: 0.8073 - val_loss: 0.4557 - val_accuracy: 0.8113\n",
            "Epoch 197/350\n",
            "42/42 [==============================] - 0s 5ms/step - loss: 0.4429 - accuracy: 0.8082 - val_loss: 0.4551 - val_accuracy: 0.8104\n",
            "Epoch 198/350\n",
            "42/42 [==============================] - 0s 5ms/step - loss: 0.4397 - accuracy: 0.8071 - val_loss: 0.4550 - val_accuracy: 0.8100\n",
            "Epoch 199/350\n",
            "42/42 [==============================] - 0s 5ms/step - loss: 0.4357 - accuracy: 0.8097 - val_loss: 0.4542 - val_accuracy: 0.8104\n",
            "Epoch 200/350\n",
            "42/42 [==============================] - 0s 5ms/step - loss: 0.4436 - accuracy: 0.8048 - val_loss: 0.4548 - val_accuracy: 0.8095\n",
            "Epoch 201/350\n",
            "42/42 [==============================] - 0s 5ms/step - loss: 0.4388 - accuracy: 0.8067 - val_loss: 0.4541 - val_accuracy: 0.8087\n",
            "Epoch 202/350\n",
            "42/42 [==============================] - 0s 5ms/step - loss: 0.4383 - accuracy: 0.8065 - val_loss: 0.4533 - val_accuracy: 0.8095\n",
            "Epoch 203/350\n",
            "42/42 [==============================] - 0s 5ms/step - loss: 0.4340 - accuracy: 0.8135 - val_loss: 0.4546 - val_accuracy: 0.8100\n",
            "Epoch 204/350\n",
            "42/42 [==============================] - 0s 5ms/step - loss: 0.4335 - accuracy: 0.8088 - val_loss: 0.4530 - val_accuracy: 0.8082\n",
            "Epoch 205/350\n",
            "42/42 [==============================] - 0s 5ms/step - loss: 0.4356 - accuracy: 0.8041 - val_loss: 0.4524 - val_accuracy: 0.8091\n",
            "Epoch 206/350\n",
            "42/42 [==============================] - 0s 5ms/step - loss: 0.4321 - accuracy: 0.8114 - val_loss: 0.4526 - val_accuracy: 0.8087\n",
            "Epoch 207/350\n",
            "42/42 [==============================] - 0s 5ms/step - loss: 0.4335 - accuracy: 0.8105 - val_loss: 0.4523 - val_accuracy: 0.8091\n",
            "Epoch 208/350\n",
            "42/42 [==============================] - 0s 5ms/step - loss: 0.4354 - accuracy: 0.8142 - val_loss: 0.4519 - val_accuracy: 0.8087\n",
            "Epoch 209/350\n",
            "42/42 [==============================] - 0s 5ms/step - loss: 0.4376 - accuracy: 0.8099 - val_loss: 0.4524 - val_accuracy: 0.8095\n",
            "Epoch 210/350\n",
            "42/42 [==============================] - 0s 5ms/step - loss: 0.4333 - accuracy: 0.8120 - val_loss: 0.4515 - val_accuracy: 0.8091\n",
            "Epoch 211/350\n",
            "42/42 [==============================] - 0s 5ms/step - loss: 0.4346 - accuracy: 0.8112 - val_loss: 0.4516 - val_accuracy: 0.8087\n",
            "Epoch 212/350\n",
            "42/42 [==============================] - 0s 5ms/step - loss: 0.4325 - accuracy: 0.8093 - val_loss: 0.4511 - val_accuracy: 0.8087\n",
            "Epoch 213/350\n",
            "42/42 [==============================] - 0s 5ms/step - loss: 0.4315 - accuracy: 0.8169 - val_loss: 0.4509 - val_accuracy: 0.8087\n",
            "Epoch 214/350\n",
            "42/42 [==============================] - 0s 5ms/step - loss: 0.4307 - accuracy: 0.8153 - val_loss: 0.4503 - val_accuracy: 0.8109\n",
            "Epoch 215/350\n",
            "42/42 [==============================] - 0s 5ms/step - loss: 0.4319 - accuracy: 0.8137 - val_loss: 0.4505 - val_accuracy: 0.8091\n",
            "Epoch 216/350\n",
            "42/42 [==============================] - 0s 5ms/step - loss: 0.4291 - accuracy: 0.8123 - val_loss: 0.4499 - val_accuracy: 0.8104\n",
            "Epoch 217/350\n",
            "42/42 [==============================] - 0s 5ms/step - loss: 0.4266 - accuracy: 0.8153 - val_loss: 0.4504 - val_accuracy: 0.8082\n",
            "Epoch 218/350\n",
            "42/42 [==============================] - 0s 5ms/step - loss: 0.4301 - accuracy: 0.8127 - val_loss: 0.4516 - val_accuracy: 0.8109\n",
            "Epoch 219/350\n",
            "42/42 [==============================] - 0s 6ms/step - loss: 0.4306 - accuracy: 0.8108 - val_loss: 0.4494 - val_accuracy: 0.8109\n",
            "Epoch 220/350\n",
            "42/42 [==============================] - 0s 5ms/step - loss: 0.4291 - accuracy: 0.8114 - val_loss: 0.4490 - val_accuracy: 0.8122\n",
            "Epoch 221/350\n",
            "42/42 [==============================] - 0s 5ms/step - loss: 0.4308 - accuracy: 0.8122 - val_loss: 0.4496 - val_accuracy: 0.8095\n",
            "Epoch 222/350\n",
            "42/42 [==============================] - 0s 5ms/step - loss: 0.4255 - accuracy: 0.8146 - val_loss: 0.4480 - val_accuracy: 0.8104\n",
            "Epoch 223/350\n",
            "42/42 [==============================] - 0s 5ms/step - loss: 0.4321 - accuracy: 0.8107 - val_loss: 0.4482 - val_accuracy: 0.8113\n",
            "Epoch 224/350\n",
            "42/42 [==============================] - 0s 5ms/step - loss: 0.4269 - accuracy: 0.8202 - val_loss: 0.4491 - val_accuracy: 0.8095\n",
            "Epoch 225/350\n",
            "42/42 [==============================] - 0s 6ms/step - loss: 0.4292 - accuracy: 0.8159 - val_loss: 0.4480 - val_accuracy: 0.8122\n",
            "Epoch 226/350\n",
            "42/42 [==============================] - 0s 6ms/step - loss: 0.4262 - accuracy: 0.8178 - val_loss: 0.4481 - val_accuracy: 0.8113\n",
            "Epoch 227/350\n",
            "42/42 [==============================] - 0s 6ms/step - loss: 0.4246 - accuracy: 0.8195 - val_loss: 0.4481 - val_accuracy: 0.8117\n",
            "Epoch 228/350\n",
            "42/42 [==============================] - 0s 6ms/step - loss: 0.4213 - accuracy: 0.8223 - val_loss: 0.4480 - val_accuracy: 0.8117\n",
            "Epoch 229/350\n",
            "42/42 [==============================] - 0s 6ms/step - loss: 0.4220 - accuracy: 0.8189 - val_loss: 0.4475 - val_accuracy: 0.8113\n",
            "Epoch 230/350\n",
            "42/42 [==============================] - 0s 6ms/step - loss: 0.4198 - accuracy: 0.8167 - val_loss: 0.4471 - val_accuracy: 0.8113\n",
            "Epoch 231/350\n",
            "42/42 [==============================] - 0s 6ms/step - loss: 0.4158 - accuracy: 0.8221 - val_loss: 0.4480 - val_accuracy: 0.8100\n",
            "Epoch 232/350\n",
            "42/42 [==============================] - 0s 6ms/step - loss: 0.4180 - accuracy: 0.8182 - val_loss: 0.4476 - val_accuracy: 0.8109\n",
            "Epoch 233/350\n",
            "42/42 [==============================] - 0s 6ms/step - loss: 0.4200 - accuracy: 0.8182 - val_loss: 0.4467 - val_accuracy: 0.8109\n",
            "Epoch 234/350\n",
            "42/42 [==============================] - 0s 6ms/step - loss: 0.4197 - accuracy: 0.8184 - val_loss: 0.4469 - val_accuracy: 0.8126\n",
            "Epoch 235/350\n",
            "42/42 [==============================] - 0s 6ms/step - loss: 0.4232 - accuracy: 0.8146 - val_loss: 0.4462 - val_accuracy: 0.8113\n",
            "Epoch 236/350\n",
            "42/42 [==============================] - 0s 5ms/step - loss: 0.4161 - accuracy: 0.8178 - val_loss: 0.4470 - val_accuracy: 0.8104\n",
            "Epoch 237/350\n",
            "42/42 [==============================] - 0s 5ms/step - loss: 0.4177 - accuracy: 0.8169 - val_loss: 0.4474 - val_accuracy: 0.8095\n",
            "Epoch 238/350\n",
            "42/42 [==============================] - 0s 5ms/step - loss: 0.4226 - accuracy: 0.8236 - val_loss: 0.4468 - val_accuracy: 0.8104\n",
            "Epoch 239/350\n",
            "42/42 [==============================] - 0s 6ms/step - loss: 0.4151 - accuracy: 0.8242 - val_loss: 0.4473 - val_accuracy: 0.8117\n",
            "Epoch 240/350\n",
            "42/42 [==============================] - 0s 6ms/step - loss: 0.4214 - accuracy: 0.8125 - val_loss: 0.4489 - val_accuracy: 0.8087\n",
            "Epoch 241/350\n",
            "42/42 [==============================] - 0s 5ms/step - loss: 0.4150 - accuracy: 0.8225 - val_loss: 0.4467 - val_accuracy: 0.8104\n",
            "Epoch 242/350\n",
            "42/42 [==============================] - 0s 6ms/step - loss: 0.4171 - accuracy: 0.8227 - val_loss: 0.4459 - val_accuracy: 0.8113\n",
            "Epoch 243/350\n",
            "42/42 [==============================] - 0s 6ms/step - loss: 0.4161 - accuracy: 0.8247 - val_loss: 0.4463 - val_accuracy: 0.8104\n",
            "Epoch 244/350\n",
            "42/42 [==============================] - 0s 6ms/step - loss: 0.4126 - accuracy: 0.8244 - val_loss: 0.4462 - val_accuracy: 0.8100\n",
            "Epoch 245/350\n",
            "42/42 [==============================] - 0s 6ms/step - loss: 0.4145 - accuracy: 0.8214 - val_loss: 0.4464 - val_accuracy: 0.8095\n",
            "Epoch 246/350\n",
            "42/42 [==============================] - 0s 5ms/step - loss: 0.4177 - accuracy: 0.8212 - val_loss: 0.4454 - val_accuracy: 0.8109\n",
            "Epoch 247/350\n",
            "42/42 [==============================] - 0s 5ms/step - loss: 0.4161 - accuracy: 0.8215 - val_loss: 0.4483 - val_accuracy: 0.8100\n",
            "Epoch 248/350\n",
            "42/42 [==============================] - 0s 5ms/step - loss: 0.4108 - accuracy: 0.8247 - val_loss: 0.4470 - val_accuracy: 0.8113\n",
            "Epoch 249/350\n",
            "42/42 [==============================] - 0s 5ms/step - loss: 0.4181 - accuracy: 0.8202 - val_loss: 0.4459 - val_accuracy: 0.8091\n",
            "Epoch 250/350\n",
            "42/42 [==============================] - 0s 5ms/step - loss: 0.4103 - accuracy: 0.8230 - val_loss: 0.4482 - val_accuracy: 0.8100\n",
            "Epoch 251/350\n",
            "42/42 [==============================] - 0s 5ms/step - loss: 0.4134 - accuracy: 0.8253 - val_loss: 0.4453 - val_accuracy: 0.8095\n",
            "Epoch 252/350\n",
            "42/42 [==============================] - 0s 5ms/step - loss: 0.4088 - accuracy: 0.8289 - val_loss: 0.4474 - val_accuracy: 0.8104\n",
            "Epoch 253/350\n",
            "42/42 [==============================] - 0s 5ms/step - loss: 0.4100 - accuracy: 0.8206 - val_loss: 0.4482 - val_accuracy: 0.8095\n",
            "Epoch 254/350\n",
            "42/42 [==============================] - 0s 9ms/step - loss: 0.4189 - accuracy: 0.8262 - val_loss: 0.4450 - val_accuracy: 0.8109\n",
            "Epoch 255/350\n",
            "42/42 [==============================] - 0s 5ms/step - loss: 0.4122 - accuracy: 0.8225 - val_loss: 0.4463 - val_accuracy: 0.8104\n",
            "Epoch 256/350\n",
            "42/42 [==============================] - 0s 5ms/step - loss: 0.4144 - accuracy: 0.8191 - val_loss: 0.4476 - val_accuracy: 0.8100\n",
            "Epoch 257/350\n",
            "42/42 [==============================] - 0s 5ms/step - loss: 0.4107 - accuracy: 0.8259 - val_loss: 0.4458 - val_accuracy: 0.8087\n",
            "Epoch 258/350\n",
            "42/42 [==============================] - 0s 5ms/step - loss: 0.4149 - accuracy: 0.8227 - val_loss: 0.4455 - val_accuracy: 0.8074\n",
            "Epoch 259/350\n",
            "42/42 [==============================] - 0s 5ms/step - loss: 0.4102 - accuracy: 0.8232 - val_loss: 0.4460 - val_accuracy: 0.8100\n",
            "Epoch 260/350\n",
            "42/42 [==============================] - 0s 6ms/step - loss: 0.4094 - accuracy: 0.8251 - val_loss: 0.4465 - val_accuracy: 0.8104\n",
            "Epoch 261/350\n",
            "42/42 [==============================] - 0s 5ms/step - loss: 0.4072 - accuracy: 0.8259 - val_loss: 0.4486 - val_accuracy: 0.8095\n",
            "Epoch 262/350\n",
            "42/42 [==============================] - 0s 5ms/step - loss: 0.4077 - accuracy: 0.8275 - val_loss: 0.4462 - val_accuracy: 0.8100\n",
            "Epoch 263/350\n",
            "42/42 [==============================] - 0s 5ms/step - loss: 0.4116 - accuracy: 0.8219 - val_loss: 0.4455 - val_accuracy: 0.8091\n",
            "Epoch 264/350\n",
            "42/42 [==============================] - 0s 6ms/step - loss: 0.4108 - accuracy: 0.8255 - val_loss: 0.4450 - val_accuracy: 0.8095\n",
            "Epoch 265/350\n",
            "42/42 [==============================] - 0s 5ms/step - loss: 0.4081 - accuracy: 0.8275 - val_loss: 0.4453 - val_accuracy: 0.8095\n",
            "Epoch 266/350\n",
            "42/42 [==============================] - 0s 5ms/step - loss: 0.4097 - accuracy: 0.8244 - val_loss: 0.4454 - val_accuracy: 0.8104\n",
            "Epoch 267/350\n",
            "42/42 [==============================] - 0s 5ms/step - loss: 0.4090 - accuracy: 0.8274 - val_loss: 0.4462 - val_accuracy: 0.8095\n",
            "Epoch 268/350\n",
            "42/42 [==============================] - 0s 5ms/step - loss: 0.4088 - accuracy: 0.8257 - val_loss: 0.4470 - val_accuracy: 0.8104\n",
            "Epoch 269/350\n",
            "42/42 [==============================] - 0s 5ms/step - loss: 0.4057 - accuracy: 0.8234 - val_loss: 0.4451 - val_accuracy: 0.8100\n",
            "Epoch 270/350\n",
            "42/42 [==============================] - 0s 5ms/step - loss: 0.4029 - accuracy: 0.8307 - val_loss: 0.4473 - val_accuracy: 0.8095\n",
            "Epoch 271/350\n",
            "42/42 [==============================] - 0s 6ms/step - loss: 0.4040 - accuracy: 0.8232 - val_loss: 0.4454 - val_accuracy: 0.8104\n",
            "Epoch 272/350\n",
            "42/42 [==============================] - 0s 6ms/step - loss: 0.4035 - accuracy: 0.8260 - val_loss: 0.4486 - val_accuracy: 0.8104\n",
            "Epoch 273/350\n",
            "42/42 [==============================] - 0s 6ms/step - loss: 0.3996 - accuracy: 0.8281 - val_loss: 0.4454 - val_accuracy: 0.8113\n",
            "Epoch 274/350\n",
            "42/42 [==============================] - 0s 5ms/step - loss: 0.3998 - accuracy: 0.8305 - val_loss: 0.4483 - val_accuracy: 0.8104\n"
          ],
          "name": "stdout"
        }
      ]
    },
    {
      "cell_type": "code",
      "metadata": {
        "id": "tblUUemMjeGE",
        "colab_type": "code",
        "outputId": "16b980bc-216a-4a3f-89a4-66bd3db2f41a",
        "colab": {
          "base_uri": "https://localhost:8080/",
          "height": 279
        }
      },
      "source": [
        "\n",
        "plt.plot(modelo.history['loss'])\n",
        "plt.xlabel('Epochs')\n",
        "plt.ylabel('Loss')\n",
        "plt.show()"
      ],
      "execution_count": 16,
      "outputs": [
        {
          "output_type": "display_data",
          "data": {
            "image/png": "[encoded data removed]",
            "text/plain": [
              "<Figure size 432x288 with 1 Axes>"
            ]
          },
          "metadata": {
            "tags": [],
            "needs_background": "light"
          }
        }
      ]
    },
    {
      "cell_type": "code",
      "metadata": {
        "id": "oKj-Z5n4l3bG",
        "colab_type": "code",
        "outputId": "4623d75c-8275-49f3-80ba-2ca2679bdd4a",
        "colab": {
          "base_uri": "https://localhost:8080/",
          "height": 279
        }
      },
      "source": [
        "plt.plot(modelo.history['accuracy'])\n",
        "plt.xlabel('Accuracy')\n",
        "plt.ylabel('Epochs')\n",
        "plt.show()"
      ],
      "execution_count": 17,
      "outputs": [
        {
          "output_type": "display_data",
          "data": {
            "image/png": "[encoded data removed]",
            "text/plain": [
              "<Figure size 432x288 with 1 Axes>"
            ]
          },
          "metadata": {
            "tags": [],
            "needs_background": "light"
          }
        }
      ]
    },
    {
      "cell_type": "markdown",
      "metadata": {
        "id": "dlehgFneCpHg",
        "colab_type": "text"
      },
      "source": [
        "## **Making Predictions**"
      ]
    },
    {
      "cell_type": "code",
      "metadata": {
        "id": "D5BiCJhY77TX",
        "colab_type": "code",
        "colab": {
          "resources": {
            "http://localhost:8080/nbextensions/google.colab/files.js": {
              "data": "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",
              "ok": true,
              "headers": [
                [
                  "content-type",
                  "application/javascript"
                ]
              ],
              "status": 200,
              "status_text": ""
            }
          },
          "base_uri": "https://localhost:8080/",
          "height": 74
        },
        "outputId": "4892cabf-a2e1-4004-d523-2e463d3163dc"
      },
      "source": [
        "uploaded = files.upload()"
      ],
      "execution_count": 20,
      "outputs": [
        {
          "output_type": "display_data",
          "data": {
            "text/html": [
              "\n",
              "     <input type=\"file\" id=\"files-5c6dcbc2-db03-46f7-8ab9-ad2bb820c525\" name=\"files[]\" multiple disabled />\n",
              "     <output id=\"result-5c6dcbc2-db03-46f7-8ab9-ad2bb820c525\">\n",
              "      Upload widget is only available when the cell has been executed in the\n",
              "      current browser session. Please rerun this cell to enable.\n",
              "      </output>\n",
              "      <script src=\"/nbextensions/google.colab/files.js\"></script> "
            ],
            "text/plain": [
              "<IPython.core.display.HTML object>"
            ]
          },
          "metadata": {
            "tags": []
          }
        },
        {
          "output_type": "stream",
          "text": [
            "Saving test.csv to test.csv\n"
          ],
          "name": "stdout"
        }
      ]
    },
    {
      "cell_type": "code",
      "metadata": {
        "id": "8kd-otPVCuBZ",
        "colab_type": "code",
        "colab": {}
      },
      "source": [
        "data_test = pd.read_csv(io.BytesIO(uploaded['test.csv']))"
      ],
      "execution_count": 0,
      "outputs": []
    },
    {
      "cell_type": "code",
      "metadata": {
        "id": "cTGF88RUC2dj",
        "colab_type": "code",
        "colab": {
          "base_uri": "https://localhost:8080/",
          "height": 204
        },
        "outputId": "07548e92-1c20-44e5-c1a7-13939e58abe8"
      },
      "source": [
        "data_test.head()"
      ],
      "execution_count": 111,
      "outputs": [
        {
          "output_type": "execute_result",
          "data": {
            "text/html": [
              "<div>\n",
              "<style scoped>\n",
              "    .dataframe tbody tr th:only-of-type {\n",
              "        vertical-align: middle;\n",
              "    }\n",
              "\n",
              "    .dataframe tbody tr th {\n",
              "        vertical-align: top;\n",
              "    }\n",
              "\n",
              "    .dataframe thead th {\n",
              "        text-align: right;\n",
              "    }\n",
              "</style>\n",
              "<table border=\"1\" class=\"dataframe\">\n",
              "  <thead>\n",
              "    <tr style=\"text-align: right;\">\n",
              "      <th></th>\n",
              "      <th>id</th>\n",
              "      <th>keyword</th>\n",
              "      <th>location</th>\n",
              "      <th>text</th>\n",
              "    </tr>\n",
              "  </thead>\n",
              "  <tbody>\n",
              "    <tr>\n",
              "      <th>0</th>\n",
              "      <td>0</td>\n",
              "      <td>NaN</td>\n",
              "      <td>NaN</td>\n",
              "      <td>Just happened a terrible car crash</td>\n",
              "    </tr>\n",
              "    <tr>\n",
              "      <th>1</th>\n",
              "      <td>2</td>\n",
              "      <td>NaN</td>\n",
              "      <td>NaN</td>\n",
              "      <td>Heard about #earthquake is different cities, s...</td>\n",
              "    </tr>\n",
              "    <tr>\n",
              "      <th>2</th>\n",
              "      <td>3</td>\n",
              "      <td>NaN</td>\n",
              "      <td>NaN</td>\n",
              "      <td>there is a forest fire at spot pond, geese are...</td>\n",
              "    </tr>\n",
              "    <tr>\n",
              "      <th>3</th>\n",
              "      <td>9</td>\n",
              "      <td>NaN</td>\n",
              "      <td>NaN</td>\n",
              "      <td>Apocalypse lighting. #Spokane #wildfires</td>\n",
              "    </tr>\n",
              "    <tr>\n",
              "      <th>4</th>\n",
              "      <td>11</td>\n",
              "      <td>NaN</td>\n",
              "      <td>NaN</td>\n",
              "      <td>Typhoon Soudelor kills 28 in China and Taiwan</td>\n",
              "    </tr>\n",
              "  </tbody>\n",
              "</table>\n",
              "</div>"
            ],
            "text/plain": [
              "   id keyword location                                               text\n",
              "0   0     NaN      NaN                 Just happened a terrible car crash\n",
              "1   2     NaN      NaN  Heard about #earthquake is different cities, s...\n",
              "2   3     NaN      NaN  there is a forest fire at spot pond, geese are...\n",
              "3   9     NaN      NaN           Apocalypse lighting. #Spokane #wildfires\n",
              "4  11     NaN      NaN      Typhoon Soudelor kills 28 in China and Taiwan"
            ]
          },
          "metadata": {
            "tags": []
          },
          "execution_count": 111
        }
      ]
    },
    {
      "cell_type": "code",
      "metadata": {
        "id": "Io99UzWXC30z",
        "colab_type": "code",
        "colab": {}
      },
      "source": [
        "data_test.drop(columns=['keyword', 'location'], inplace=True)"
      ],
      "execution_count": 0,
      "outputs": []
    },
    {
      "cell_type": "code",
      "metadata": {
        "id": "oCmOypJBDKOQ",
        "colab_type": "code",
        "colab": {
          "base_uri": "https://localhost:8080/",
          "height": 419
        },
        "outputId": "cbb3d233-1438-474e-9099-090b78e85152"
      },
      "source": [
        "data_test"
      ],
      "execution_count": 113,
      "outputs": [
        {
          "output_type": "execute_result",
          "data": {
            "text/html": [
              "<div>\n",
              "<style scoped>\n",
              "    .dataframe tbody tr th:only-of-type {\n",
              "        vertical-align: middle;\n",
              "    }\n",
              "\n",
              "    .dataframe tbody tr th {\n",
              "        vertical-align: top;\n",
              "    }\n",
              "\n",
              "    .dataframe thead th {\n",
              "        text-align: right;\n",
              "    }\n",
              "</style>\n",
              "<table border=\"1\" class=\"dataframe\">\n",
              "  <thead>\n",
              "    <tr style=\"text-align: right;\">\n",
              "      <th></th>\n",
              "      <th>id</th>\n",
              "      <th>text</th>\n",
              "    </tr>\n",
              "  </thead>\n",
              "  <tbody>\n",
              "    <tr>\n",
              "      <th>0</th>\n",
              "      <td>0</td>\n",
              "      <td>Just happened a terrible car crash</td>\n",
              "    </tr>\n",
              "    <tr>\n",
              "      <th>1</th>\n",
              "      <td>2</td>\n",
              "      <td>Heard about #earthquake is different cities, s...</td>\n",
              "    </tr>\n",
              "    <tr>\n",
              "      <th>2</th>\n",
              "      <td>3</td>\n",
              "      <td>there is a forest fire at spot pond, geese are...</td>\n",
              "    </tr>\n",
              "    <tr>\n",
              "      <th>3</th>\n",
              "      <td>9</td>\n",
              "      <td>Apocalypse lighting. #Spokane #wildfires</td>\n",
              "    </tr>\n",
              "    <tr>\n",
              "      <th>4</th>\n",
              "      <td>11</td>\n",
              "      <td>Typhoon Soudelor kills 28 in China and Taiwan</td>\n",
              "    </tr>\n",
              "    <tr>\n",
              "      <th>...</th>\n",
              "      <td>...</td>\n",
              "      <td>...</td>\n",
              "    </tr>\n",
              "    <tr>\n",
              "      <th>3258</th>\n",
              "      <td>10861</td>\n",
              "      <td>EARTHQUAKE SAFETY LOS ANGELES ÛÒ SAFETY FASTE...</td>\n",
              "    </tr>\n",
              "    <tr>\n",
              "      <th>3259</th>\n",
              "      <td>10865</td>\n",
              "      <td>Storm in RI worse than last hurricane. My city...</td>\n",
              "    </tr>\n",
              "    <tr>\n",
              "      <th>3260</th>\n",
              "      <td>10868</td>\n",
              "      <td>Green Line derailment in Chicago http://t.co/U...</td>\n",
              "    </tr>\n",
              "    <tr>\n",
              "      <th>3261</th>\n",
              "      <td>10874</td>\n",
              "      <td>MEG issues Hazardous Weather Outlook (HWO) htt...</td>\n",
              "    </tr>\n",
              "    <tr>\n",
              "      <th>3262</th>\n",
              "      <td>10875</td>\n",
              "      <td>#CityofCalgary has activated its Municipal Eme...</td>\n",
              "    </tr>\n",
              "  </tbody>\n",
              "</table>\n",
              "<p>3263 rows × 2 columns</p>\n",
              "</div>"
            ],
            "text/plain": [
              "         id                                               text\n",
              "0         0                 Just happened a terrible car crash\n",
              "1         2  Heard about #earthquake is different cities, s...\n",
              "2         3  there is a forest fire at spot pond, geese are...\n",
              "3         9           Apocalypse lighting. #Spokane #wildfires\n",
              "4        11      Typhoon Soudelor kills 28 in China and Taiwan\n",
              "...     ...                                                ...\n",
              "3258  10861  EARTHQUAKE SAFETY LOS ANGELES ÛÒ SAFETY FASTE...\n",
              "3259  10865  Storm in RI worse than last hurricane. My city...\n",
              "3260  10868  Green Line derailment in Chicago http://t.co/U...\n",
              "3261  10874  MEG issues Hazardous Weather Outlook (HWO) htt...\n",
              "3262  10875  #CityofCalgary has activated its Municipal Eme...\n",
              "\n",
              "[3263 rows x 2 columns]"
            ]
          },
          "metadata": {
            "tags": []
          },
          "execution_count": 113
        }
      ]
    },
    {
      "cell_type": "code",
      "metadata": {
        "id": "KSgJmpaKC_Lv",
        "colab_type": "code",
        "colab": {}
      },
      "source": [
        "d_input = data_test.drop(columns=['id'])"
      ],
      "execution_count": 0,
      "outputs": []
    },
    {
      "cell_type": "code",
      "metadata": {
        "id": "JINLqesfDIWH",
        "colab_type": "code",
        "colab": {
          "base_uri": "https://localhost:8080/",
          "height": 419
        },
        "outputId": "0f5f3367-2f59-4167-828f-40ec55beff5b"
      },
      "source": [
        "d_input"
      ],
      "execution_count": 115,
      "outputs": [
        {
          "output_type": "execute_result",
          "data": {
            "text/html": [
              "<div>\n",
              "<style scoped>\n",
              "    .dataframe tbody tr th:only-of-type {\n",
              "        vertical-align: middle;\n",
              "    }\n",
              "\n",
              "    .dataframe tbody tr th {\n",
              "        vertical-align: top;\n",
              "    }\n",
              "\n",
              "    .dataframe thead th {\n",
              "        text-align: right;\n",
              "    }\n",
              "</style>\n",
              "<table border=\"1\" class=\"dataframe\">\n",
              "  <thead>\n",
              "    <tr style=\"text-align: right;\">\n",
              "      <th></th>\n",
              "      <th>text</th>\n",
              "    </tr>\n",
              "  </thead>\n",
              "  <tbody>\n",
              "    <tr>\n",
              "      <th>0</th>\n",
              "      <td>Just happened a terrible car crash</td>\n",
              "    </tr>\n",
              "    <tr>\n",
              "      <th>1</th>\n",
              "      <td>Heard about #earthquake is different cities, s...</td>\n",
              "    </tr>\n",
              "    <tr>\n",
              "      <th>2</th>\n",
              "      <td>there is a forest fire at spot pond, geese are...</td>\n",
              "    </tr>\n",
              "    <tr>\n",
              "      <th>3</th>\n",
              "      <td>Apocalypse lighting. #Spokane #wildfires</td>\n",
              "    </tr>\n",
              "    <tr>\n",
              "      <th>4</th>\n",
              "      <td>Typhoon Soudelor kills 28 in China and Taiwan</td>\n",
              "    </tr>\n",
              "    <tr>\n",
              "      <th>...</th>\n",
              "      <td>...</td>\n",
              "    </tr>\n",
              "    <tr>\n",
              "      <th>3258</th>\n",
              "      <td>EARTHQUAKE SAFETY LOS ANGELES ÛÒ SAFETY FASTE...</td>\n",
              "    </tr>\n",
              "    <tr>\n",
              "      <th>3259</th>\n",
              "      <td>Storm in RI worse than last hurricane. My city...</td>\n",
              "    </tr>\n",
              "    <tr>\n",
              "      <th>3260</th>\n",
              "      <td>Green Line derailment in Chicago http://t.co/U...</td>\n",
              "    </tr>\n",
              "    <tr>\n",
              "      <th>3261</th>\n",
              "      <td>MEG issues Hazardous Weather Outlook (HWO) htt...</td>\n",
              "    </tr>\n",
              "    <tr>\n",
              "      <th>3262</th>\n",
              "      <td>#CityofCalgary has activated its Municipal Eme...</td>\n",
              "    </tr>\n",
              "  </tbody>\n",
              "</table>\n",
              "<p>3263 rows × 1 columns</p>\n",
              "</div>"
            ],
            "text/plain": [
              "                                                   text\n",
              "0                    Just happened a terrible car crash\n",
              "1     Heard about #earthquake is different cities, s...\n",
              "2     there is a forest fire at spot pond, geese are...\n",
              "3              Apocalypse lighting. #Spokane #wildfires\n",
              "4         Typhoon Soudelor kills 28 in China and Taiwan\n",
              "...                                                 ...\n",
              "3258  EARTHQUAKE SAFETY LOS ANGELES ÛÒ SAFETY FASTE...\n",
              "3259  Storm in RI worse than last hurricane. My city...\n",
              "3260  Green Line derailment in Chicago http://t.co/U...\n",
              "3261  MEG issues Hazardous Weather Outlook (HWO) htt...\n",
              "3262  #CityofCalgary has activated its Municipal Eme...\n",
              "\n",
              "[3263 rows x 1 columns]"
            ]
          },
          "metadata": {
            "tags": []
          },
          "execution_count": 115
        }
      ]
    },
    {
      "cell_type": "code",
      "metadata": {
        "id": "fgW-35XaDNlt",
        "colab_type": "code",
        "colab": {}
      },
      "source": [
        "tokenizer = Tokenizer(num_words=vocab_size, oov_token=oov_tok)\n",
        "tokenizer.fit_on_texts(d_input['text'])\n",
        "word_index = tokenizer.word_index\n",
        "\n",
        "input_sequences = tokenizer.texts_to_sequences(d_input['text'])\n",
        "input_padded = pad_sequences(input_sequences, maxlen=max_length, padding=padding_type, truncating=trunc_type)\n"
      ],
      "execution_count": 0,
      "outputs": []
    },
    {
      "cell_type": "code",
      "metadata": {
        "id": "_gKIycvQDvNH",
        "colab_type": "code",
        "colab": {}
      },
      "source": [
        "# Predicting: \n",
        "\n",
        "pred = model.predict(input_padded)"
      ],
      "execution_count": 0,
      "outputs": []
    },
    {
      "cell_type": "code",
      "metadata": {
        "id": "PgPNdWQoE-B4",
        "colab_type": "code",
        "colab": {}
      },
      "source": [
        "pred = pd.DataFrame(pred, columns=['target'])"
      ],
      "execution_count": 0,
      "outputs": []
    },
    {
      "cell_type": "code",
      "metadata": {
        "id": "nzgGnkF9FaXb",
        "colab_type": "code",
        "colab": {
          "base_uri": "https://localhost:8080/",
          "height": 419
        },
        "outputId": "71bfce4d-bc5d-41ff-bc9d-96e531af5305"
      },
      "source": [
        "pred"
      ],
      "execution_count": 125,
      "outputs": [
        {
          "output_type": "execute_result",
          "data": {
            "text/html": [
              "<div>\n",
              "<style scoped>\n",
              "    .dataframe tbody tr th:only-of-type {\n",
              "        vertical-align: middle;\n",
              "    }\n",
              "\n",
              "    .dataframe tbody tr th {\n",
              "        vertical-align: top;\n",
              "    }\n",
              "\n",
              "    .dataframe thead th {\n",
              "        text-align: right;\n",
              "    }\n",
              "</style>\n",
              "<table border=\"1\" class=\"dataframe\">\n",
              "  <thead>\n",
              "    <tr style=\"text-align: right;\">\n",
              "      <th></th>\n",
              "      <th>target</th>\n",
              "    </tr>\n",
              "  </thead>\n",
              "  <tbody>\n",
              "    <tr>\n",
              "      <th>0</th>\n",
              "      <td>0.707317</td>\n",
              "    </tr>\n",
              "    <tr>\n",
              "      <th>1</th>\n",
              "      <td>0.191756</td>\n",
              "    </tr>\n",
              "    <tr>\n",
              "      <th>2</th>\n",
              "      <td>0.351981</td>\n",
              "    </tr>\n",
              "    <tr>\n",
              "      <th>3</th>\n",
              "      <td>0.132341</td>\n",
              "    </tr>\n",
              "    <tr>\n",
              "      <th>4</th>\n",
              "      <td>0.646898</td>\n",
              "    </tr>\n",
              "    <tr>\n",
              "      <th>...</th>\n",
              "      <td>...</td>\n",
              "    </tr>\n",
              "    <tr>\n",
              "      <th>3258</th>\n",
              "      <td>0.145602</td>\n",
              "    </tr>\n",
              "    <tr>\n",
              "      <th>3259</th>\n",
              "      <td>0.144462</td>\n",
              "    </tr>\n",
              "    <tr>\n",
              "      <th>3260</th>\n",
              "      <td>0.389004</td>\n",
              "    </tr>\n",
              "    <tr>\n",
              "      <th>3261</th>\n",
              "      <td>0.275127</td>\n",
              "    </tr>\n",
              "    <tr>\n",
              "      <th>3262</th>\n",
              "      <td>0.849419</td>\n",
              "    </tr>\n",
              "  </tbody>\n",
              "</table>\n",
              "<p>3263 rows × 1 columns</p>\n",
              "</div>"
            ],
            "text/plain": [
              "        target\n",
              "0     0.707317\n",
              "1     0.191756\n",
              "2     0.351981\n",
              "3     0.132341\n",
              "4     0.646898\n",
              "...        ...\n",
              "3258  0.145602\n",
              "3259  0.144462\n",
              "3260  0.389004\n",
              "3261  0.275127\n",
              "3262  0.849419\n",
              "\n",
              "[3263 rows x 1 columns]"
            ]
          },
          "metadata": {
            "tags": []
          },
          "execution_count": 125
        }
      ]
    },
    {
      "cell_type": "code",
      "metadata": {
        "id": "ZdQ5gEguFasH",
        "colab_type": "code",
        "colab": {}
      },
      "source": [
        "def reg_sig(cols):\n",
        "  predictions = cols[0]\n",
        "\n",
        "  if predictions > 0.5:\n",
        "    return 1\n",
        "  else:\n",
        "    return 0"
      ],
      "execution_count": 0,
      "outputs": []
    },
    {
      "cell_type": "code",
      "metadata": {
        "id": "pD_bj50aFwLi",
        "colab_type": "code",
        "colab": {}
      },
      "source": [
        "pred['target'] = pred[['target']].apply(reg_sig, axis=1)"
      ],
      "execution_count": 0,
      "outputs": []
    },
    {
      "cell_type": "code",
      "metadata": {
        "id": "3NJsRlkMFyz3",
        "colab_type": "code",
        "colab": {
          "base_uri": "https://localhost:8080/",
          "height": 419
        },
        "outputId": "12ed5c9e-2553-4dd5-e5cb-d70ad886835e"
      },
      "source": [
        "pred"
      ],
      "execution_count": 128,
      "outputs": [
        {
          "output_type": "execute_result",
          "data": {
            "text/html": [
              "<div>\n",
              "<style scoped>\n",
              "    .dataframe tbody tr th:only-of-type {\n",
              "        vertical-align: middle;\n",
              "    }\n",
              "\n",
              "    .dataframe tbody tr th {\n",
              "        vertical-align: top;\n",
              "    }\n",
              "\n",
              "    .dataframe thead th {\n",
              "        text-align: right;\n",
              "    }\n",
              "</style>\n",
              "<table border=\"1\" class=\"dataframe\">\n",
              "  <thead>\n",
              "    <tr style=\"text-align: right;\">\n",
              "      <th></th>\n",
              "      <th>target</th>\n",
              "    </tr>\n",
              "  </thead>\n",
              "  <tbody>\n",
              "    <tr>\n",
              "      <th>0</th>\n",
              "      <td>1</td>\n",
              "    </tr>\n",
              "    <tr>\n",
              "      <th>1</th>\n",
              "      <td>0</td>\n",
              "    </tr>\n",
              "    <tr>\n",
              "      <th>2</th>\n",
              "      <td>0</td>\n",
              "    </tr>\n",
              "    <tr>\n",
              "      <th>3</th>\n",
              "      <td>0</td>\n",
              "    </tr>\n",
              "    <tr>\n",
              "      <th>4</th>\n",
              "      <td>1</td>\n",
              "    </tr>\n",
              "    <tr>\n",
              "      <th>...</th>\n",
              "      <td>...</td>\n",
              "    </tr>\n",
              "    <tr>\n",
              "      <th>3258</th>\n",
              "      <td>0</td>\n",
              "    </tr>\n",
              "    <tr>\n",
              "      <th>3259</th>\n",
              "      <td>0</td>\n",
              "    </tr>\n",
              "    <tr>\n",
              "      <th>3260</th>\n",
              "      <td>0</td>\n",
              "    </tr>\n",
              "    <tr>\n",
              "      <th>3261</th>\n",
              "      <td>0</td>\n",
              "    </tr>\n",
              "    <tr>\n",
              "      <th>3262</th>\n",
              "      <td>1</td>\n",
              "    </tr>\n",
              "  </tbody>\n",
              "</table>\n",
              "<p>3263 rows × 1 columns</p>\n",
              "</div>"
            ],
            "text/plain": [
              "      target\n",
              "0          1\n",
              "1          0\n",
              "2          0\n",
              "3          0\n",
              "4          1\n",
              "...      ...\n",
              "3258       0\n",
              "3259       0\n",
              "3260       0\n",
              "3261       0\n",
              "3262       1\n",
              "\n",
              "[3263 rows x 1 columns]"
            ]
          },
          "metadata": {
            "tags": []
          },
          "execution_count": 128
        }
      ]
    },
    {
      "cell_type": "code",
      "metadata": {
        "id": "WgdCPzXnGqkR",
        "colab_type": "code",
        "colab": {}
      },
      "source": [
        "data_test.drop(columns=['text'], inplace=True)"
      ],
      "execution_count": 0,
      "outputs": []
    },
    {
      "cell_type": "code",
      "metadata": {
        "id": "63ryH8KnG99a",
        "colab_type": "code",
        "colab": {}
      },
      "source": [
        "data_test = pd.concat([data_test, pred], axis=1)"
      ],
      "execution_count": 0,
      "outputs": []
    },
    {
      "cell_type": "code",
      "metadata": {
        "id": "4rPQH0u_HKes",
        "colab_type": "code",
        "colab": {
          "base_uri": "https://localhost:8080/",
          "height": 419
        },
        "outputId": "60078728-81c1-4df9-c3f7-94c858a0b337"
      },
      "source": [
        "data_test"
      ],
      "execution_count": 131,
      "outputs": [
        {
          "output_type": "execute_result",
          "data": {
            "text/html": [
              "<div>\n",
              "<style scoped>\n",
              "    .dataframe tbody tr th:only-of-type {\n",
              "        vertical-align: middle;\n",
              "    }\n",
              "\n",
              "    .dataframe tbody tr th {\n",
              "        vertical-align: top;\n",
              "    }\n",
              "\n",
              "    .dataframe thead th {\n",
              "        text-align: right;\n",
              "    }\n",
              "</style>\n",
              "<table border=\"1\" class=\"dataframe\">\n",
              "  <thead>\n",
              "    <tr style=\"text-align: right;\">\n",
              "      <th></th>\n",
              "      <th>id</th>\n",
              "      <th>target</th>\n",
              "    </tr>\n",
              "  </thead>\n",
              "  <tbody>\n",
              "    <tr>\n",
              "      <th>0</th>\n",
              "      <td>0</td>\n",
              "      <td>1</td>\n",
              "    </tr>\n",
              "    <tr>\n",
              "      <th>1</th>\n",
              "      <td>2</td>\n",
              "      <td>0</td>\n",
              "    </tr>\n",
              "    <tr>\n",
              "      <th>2</th>\n",
              "      <td>3</td>\n",
              "      <td>0</td>\n",
              "    </tr>\n",
              "    <tr>\n",
              "      <th>3</th>\n",
              "      <td>9</td>\n",
              "      <td>0</td>\n",
              "    </tr>\n",
              "    <tr>\n",
              "      <th>4</th>\n",
              "      <td>11</td>\n",
              "      <td>1</td>\n",
              "    </tr>\n",
              "    <tr>\n",
              "      <th>...</th>\n",
              "      <td>...</td>\n",
              "      <td>...</td>\n",
              "    </tr>\n",
              "    <tr>\n",
              "      <th>3258</th>\n",
              "      <td>10861</td>\n",
              "      <td>0</td>\n",
              "    </tr>\n",
              "    <tr>\n",
              "      <th>3259</th>\n",
              "      <td>10865</td>\n",
              "      <td>0</td>\n",
              "    </tr>\n",
              "    <tr>\n",
              "      <th>3260</th>\n",
              "      <td>10868</td>\n",
              "      <td>0</td>\n",
              "    </tr>\n",
              "    <tr>\n",
              "      <th>3261</th>\n",
              "      <td>10874</td>\n",
              "      <td>0</td>\n",
              "    </tr>\n",
              "    <tr>\n",
              "      <th>3262</th>\n",
              "      <td>10875</td>\n",
              "      <td>1</td>\n",
              "    </tr>\n",
              "  </tbody>\n",
              "</table>\n",
              "<p>3263 rows × 2 columns</p>\n",
              "</div>"
            ],
            "text/plain": [
              "         id  target\n",
              "0         0       1\n",
              "1         2       0\n",
              "2         3       0\n",
              "3         9       0\n",
              "4        11       1\n",
              "...     ...     ...\n",
              "3258  10861       0\n",
              "3259  10865       0\n",
              "3260  10868       0\n",
              "3261  10874       0\n",
              "3262  10875       1\n",
              "\n",
              "[3263 rows x 2 columns]"
            ]
          },
          "metadata": {
            "tags": []
          },
          "execution_count": 131
        }
      ]
    },
    {
      "cell_type": "code",
      "metadata": {
        "id": "c53c-z_QHilD",
        "colab_type": "code",
        "colab": {}
      },
      "source": [
        "data_test.set_index('id', inplace=True)"
      ],
      "execution_count": 0,
      "outputs": []
    },
    {
      "cell_type": "code",
      "metadata": {
        "id": "y2zp3drIIZMg",
        "colab_type": "code",
        "colab": {
          "base_uri": "https://localhost:8080/",
          "height": 450
        },
        "outputId": "5faa6fb8-f28b-41ec-a973-ff4976d68941"
      },
      "source": [
        "data_test"
      ],
      "execution_count": 133,
      "outputs": [
        {
          "output_type": "execute_result",
          "data": {
            "text/html": [
              "<div>\n",
              "<style scoped>\n",
              "    .dataframe tbody tr th:only-of-type {\n",
              "        vertical-align: middle;\n",
              "    }\n",
              "\n",
              "    .dataframe tbody tr th {\n",
              "        vertical-align: top;\n",
              "    }\n",
              "\n",
              "    .dataframe thead th {\n",
              "        text-align: right;\n",
              "    }\n",
              "</style>\n",
              "<table border=\"1\" class=\"dataframe\">\n",
              "  <thead>\n",
              "    <tr style=\"text-align: right;\">\n",
              "      <th></th>\n",
              "      <th>target</th>\n",
              "    </tr>\n",
              "    <tr>\n",
              "      <th>id</th>\n",
              "      <th></th>\n",
              "    </tr>\n",
              "  </thead>\n",
              "  <tbody>\n",
              "    <tr>\n",
              "      <th>0</th>\n",
              "      <td>1</td>\n",
              "    </tr>\n",
              "    <tr>\n",
              "      <th>2</th>\n",
              "      <td>0</td>\n",
              "    </tr>\n",
              "    <tr>\n",
              "      <th>3</th>\n",
              "      <td>0</td>\n",
              "    </tr>\n",
              "    <tr>\n",
              "      <th>9</th>\n",
              "      <td>0</td>\n",
              "    </tr>\n",
              "    <tr>\n",
              "      <th>11</th>\n",
              "      <td>1</td>\n",
              "    </tr>\n",
              "    <tr>\n",
              "      <th>...</th>\n",
              "      <td>...</td>\n",
              "    </tr>\n",
              "    <tr>\n",
              "      <th>10861</th>\n",
              "      <td>0</td>\n",
              "    </tr>\n",
              "    <tr>\n",
              "      <th>10865</th>\n",
              "      <td>0</td>\n",
              "    </tr>\n",
              "    <tr>\n",
              "      <th>10868</th>\n",
              "      <td>0</td>\n",
              "    </tr>\n",
              "    <tr>\n",
              "      <th>10874</th>\n",
              "      <td>0</td>\n",
              "    </tr>\n",
              "    <tr>\n",
              "      <th>10875</th>\n",
              "      <td>1</td>\n",
              "    </tr>\n",
              "  </tbody>\n",
              "</table>\n",
              "<p>3263 rows × 1 columns</p>\n",
              "</div>"
            ],
            "text/plain": [
              "       target\n",
              "id           \n",
              "0           1\n",
              "2           0\n",
              "3           0\n",
              "9           0\n",
              "11          1\n",
              "...       ...\n",
              "10861       0\n",
              "10865       0\n",
              "10868       0\n",
              "10874       0\n",
              "10875       1\n",
              "\n",
              "[3263 rows x 1 columns]"
            ]
          },
          "metadata": {
            "tags": []
          },
          "execution_count": 133
        }
      ]
    },
    {
      "cell_type": "code",
      "metadata": {
        "id": "6jJUBUoAHjfL",
        "colab_type": "code",
        "colab": {}
      },
      "source": [
        "data_test.to_csv('predictions.csv')"
      ],
      "execution_count": 0,
      "outputs": []
    },
    {
      "cell_type": "code",
      "metadata": {
        "id": "tR4fLNkYIb0T",
        "colab_type": "code",
        "colab": {}
      },
      "source": [
        ""
      ],
      "execution_count": 0,
      "outputs": []
    }
  ]
}