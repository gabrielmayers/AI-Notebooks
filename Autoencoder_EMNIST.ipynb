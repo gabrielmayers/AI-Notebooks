{
  "nbformat": 4,
  "nbformat_minor": 0,
  "metadata": {
    "colab": {
      "name": "Autoencoder_EMNIST.ipynb",
      "provenance": [],
      "collapsed_sections": []
    },
    "kernelspec": {
      "name": "python3",
      "display_name": "Python 3"
    },
    "accelerator": "GPU"
  },
  "cells": [
    {
      "cell_type": "code",
      "metadata": {
        "id": "337cUMAf9LJ5",
        "colab_type": "code",
        "colab": {}
      },
      "source": [
        "import tensorflow as tf\n",
        "\n",
        "from tensorflow.keras.models import Sequential\n",
        "from tensorflow.keras.layers import Dense\n",
        "from tensorflow.keras import Model"
      ],
      "execution_count": 26,
      "outputs": []
    },
    {
      "cell_type": "code",
      "metadata": {
        "id": "XpA0I46QDqMp",
        "colab_type": "code",
        "colab": {
          "base_uri": "https://localhost:8080/",
          "height": 51
        },
        "outputId": "853382e0-1046-46d9-cdba-396ea4caf2b4"
      },
      "source": [
        "# Load Dataset:\n",
        "\n",
        "(x_train, y_train), (x_test, y_test) = tf.keras.datasets.mnist.load_data()"
      ],
      "execution_count": 7,
      "outputs": [
        {
          "output_type": "stream",
          "text": [
            "Downloading data from https://storage.googleapis.com/tensorflow/tf-keras-datasets/mnist.npz\n",
            "11493376/11490434 [==============================] - 1s 0us/step\n"
          ],
          "name": "stdout"
        }
      ]
    },
    {
      "cell_type": "code",
      "metadata": {
        "id": "trYw_J5_FPz5",
        "colab_type": "code",
        "colab": {
          "base_uri": "https://localhost:8080/",
          "height": 34
        },
        "outputId": "ea27eb77-1da6-4ccf-be2c-3af84ebd7ce3"
      },
      "source": [
        "x_test.shape"
      ],
      "execution_count": 9,
      "outputs": [
        {
          "output_type": "execute_result",
          "data": {
            "text/plain": [
              "(10000, 28, 28)"
            ]
          },
          "metadata": {
            "tags": []
          },
          "execution_count": 9
        }
      ]
    },
    {
      "cell_type": "code",
      "metadata": {
        "id": "-XFxmuqZETXm",
        "colab_type": "code",
        "colab": {}
      },
      "source": [
        "train = x_train.reshape(60000, 784) / 255\n",
        "val = x_test.reshape(10000, 784) / 255"
      ],
      "execution_count": 15,
      "outputs": []
    },
    {
      "cell_type": "code",
      "metadata": {
        "id": "PpyR5eiPF7m4",
        "colab_type": "code",
        "colab": {
          "base_uri": "https://localhost:8080/",
          "height": 34
        },
        "outputId": "7933ead5-87ae-46ab-dd01-51b6d0919505"
      },
      "source": [
        "train.shape"
      ],
      "execution_count": 17,
      "outputs": [
        {
          "output_type": "execute_result",
          "data": {
            "text/plain": [
              "(60000, 784)"
            ]
          },
          "metadata": {
            "tags": []
          },
          "execution_count": 17
        }
      ]
    },
    {
      "cell_type": "code",
      "metadata": {
        "id": "UkAOLF1IFgsE",
        "colab_type": "code",
        "colab": {}
      },
      "source": [
        "# Build AutoEncoder:\n",
        "\n",
        "autoencoder = Sequential()\n",
        "\n",
        "autoencoder.add(Dense(784, activation='elu', input_shape=(784, )))\n",
        "autoencoder.add(Dense(512, activation='elu'))\n",
        "autoencoder.add(Dense(128, activation='elu'))\n",
        "autoencoder.add(Dense(10, activation='linear', name='bottleneck'))\n",
        "autoencoder.add(Dense(128, activation='elu'))\n",
        "autoencoder.add(Dense(512, activation='elu'))\n",
        "autoencoder.add(Dense(784, activation='sigmoid'))"
      ],
      "execution_count": 38,
      "outputs": []
    },
    {
      "cell_type": "code",
      "metadata": {
        "id": "4YWboA5XGgGo",
        "colab_type": "code",
        "colab": {
          "base_uri": "https://localhost:8080/",
          "height": 391
        },
        "outputId": "e49f1672-a0bd-49be-dfb8-5f1ebbbd2436"
      },
      "source": [
        "autoencoder.summary()"
      ],
      "execution_count": 39,
      "outputs": [
        {
          "output_type": "stream",
          "text": [
            "Model: \"sequential_3\"\n",
            "_________________________________________________________________\n",
            "Layer (type)                 Output Shape              Param #   \n",
            "=================================================================\n",
            "dense_18 (Dense)             (None, 784)               615440    \n",
            "_________________________________________________________________\n",
            "dense_19 (Dense)             (None, 512)               401920    \n",
            "_________________________________________________________________\n",
            "dense_20 (Dense)             (None, 128)               65664     \n",
            "_________________________________________________________________\n",
            "bottleneck (Dense)           (None, 10)                1290      \n",
            "_________________________________________________________________\n",
            "dense_21 (Dense)             (None, 128)               1408      \n",
            "_________________________________________________________________\n",
            "dense_22 (Dense)             (None, 512)               66048     \n",
            "_________________________________________________________________\n",
            "dense_23 (Dense)             (None, 784)               402192    \n",
            "=================================================================\n",
            "Total params: 1,553,962\n",
            "Trainable params: 1,553,962\n",
            "Non-trainable params: 0\n",
            "_________________________________________________________________\n"
          ],
          "name": "stdout"
        }
      ]
    },
    {
      "cell_type": "code",
      "metadata": {
        "id": "I9rzsm4gGhJW",
        "colab_type": "code",
        "colab": {}
      },
      "source": [
        "# Compile:\n",
        "\n",
        "autoencoder.compile(loss='mean_squared_error', optimizer='adam')"
      ],
      "execution_count": 40,
      "outputs": []
    },
    {
      "cell_type": "code",
      "metadata": {
        "id": "MY6O_MJCGoYO",
        "colab_type": "code",
        "colab": {
          "base_uri": "https://localhost:8080/",
          "height": 527
        },
        "outputId": "97867c49-593d-41d0-e566-5c3e3304248c"
      },
      "source": [
        "# Train:\n",
        "\n",
        "trained_model = autoencoder.fit(train, train, epochs=15, batch_size=1024)"
      ],
      "execution_count": 41,
      "outputs": [
        {
          "output_type": "stream",
          "text": [
            "Epoch 1/15\n",
            "59/59 [==============================] - 0s 8ms/step - loss: 0.0730\n",
            "Epoch 2/15\n",
            "59/59 [==============================] - 0s 7ms/step - loss: 0.0406\n",
            "Epoch 3/15\n",
            "59/59 [==============================] - 0s 7ms/step - loss: 0.0308\n",
            "Epoch 4/15\n",
            "59/59 [==============================] - 0s 7ms/step - loss: 0.0266\n",
            "Epoch 5/15\n",
            "59/59 [==============================] - 0s 6ms/step - loss: 0.0243\n",
            "Epoch 6/15\n",
            "59/59 [==============================] - 0s 6ms/step - loss: 0.0228\n",
            "Epoch 7/15\n",
            "59/59 [==============================] - 0s 7ms/step - loss: 0.0215\n",
            "Epoch 8/15\n",
            "59/59 [==============================] - 0s 7ms/step - loss: 0.0206\n",
            "Epoch 9/15\n",
            "59/59 [==============================] - 0s 7ms/step - loss: 0.0198\n",
            "Epoch 10/15\n",
            "59/59 [==============================] - 0s 7ms/step - loss: 0.0191\n",
            "Epoch 11/15\n",
            "59/59 [==============================] - 0s 7ms/step - loss: 0.0185\n",
            "Epoch 12/15\n",
            "59/59 [==============================] - 0s 7ms/step - loss: 0.0180\n",
            "Epoch 13/15\n",
            "59/59 [==============================] - 0s 7ms/step - loss: 0.0175\n",
            "Epoch 14/15\n",
            "59/59 [==============================] - 0s 7ms/step - loss: 0.0171\n",
            "Epoch 15/15\n",
            "59/59 [==============================] - 0s 7ms/step - loss: 0.0167\n"
          ],
          "name": "stdout"
        }
      ]
    },
    {
      "cell_type": "code",
      "metadata": {
        "id": "sIIc-MwOG1eu",
        "colab_type": "code",
        "colab": {}
      },
      "source": [
        "encoder = Model(autoencoder.input, autoencoder.get_layer('bottleneck').output)"
      ],
      "execution_count": 42,
      "outputs": []
    },
    {
      "cell_type": "code",
      "metadata": {
        "id": "Sd-CKS8jHTBW",
        "colab_type": "code",
        "colab": {}
      },
      "source": [
        "encoded_data = encoder.predict(train) # Bottleneck representation"
      ],
      "execution_count": 43,
      "outputs": []
    },
    {
      "cell_type": "code",
      "metadata": {
        "id": "WUN2SFfoHXgu",
        "colab_type": "code",
        "colab": {}
      },
      "source": [
        "decoded_output = autoencoder.predict(train) # Reconstruction"
      ],
      "execution_count": 44,
      "outputs": []
    },
    {
      "cell_type": "code",
      "metadata": {
        "id": "zGm87uepHxMX",
        "colab_type": "code",
        "colab": {
          "base_uri": "https://localhost:8080/",
          "height": 51
        },
        "outputId": "5d61e1b0-3f3e-44af-8315-957cf805cd50"
      },
      "source": [
        "eval = autoencoder.evaluate(val)\n",
        "print('Reconstruction Loss: ', eval)"
      ],
      "execution_count": 45,
      "outputs": [
        {
          "output_type": "stream",
          "text": [
            "313/313 [==============================] - 0s 995us/step - loss: 0.0000e+00\n",
            "Reconstruction Loss:  0.0\n"
          ],
          "name": "stdout"
        }
      ]
    },
    {
      "cell_type": "markdown",
      "metadata": {
        "id": "KeURQ2gbIdEg",
        "colab_type": "text"
      },
      "source": [
        "Credits: https://towardsdatascience.com/auto-encoder-what-is-it-and-what-is-it-used-for-part-1-3e5c6f017726\n",
        "\n",
        "Thank you for the amazing explanation, Bro!"
      ]
    },
    {
      "cell_type": "code",
      "metadata": {
        "id": "mxErMwLHIisu",
        "colab_type": "code",
        "colab": {}
      },
      "source": [
        ""
      ],
      "execution_count": null,
      "outputs": []
    }
  ]
}