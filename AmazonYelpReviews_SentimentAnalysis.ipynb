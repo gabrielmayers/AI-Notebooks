{
  "nbformat": 4,
  "nbformat_minor": 0,
  "metadata": {
    "colab": {
      "name": "AmazonYelpReviews-SentimentAnalysis.ipynb",
      "provenance": []
    },
    "kernelspec": {
      "name": "python3",
      "display_name": "Python 3"
    },
    "accelerator": "GPU"
  },
  "cells": [
    {
      "cell_type": "code",
      "metadata": {
        "id": "NqQiu0zYwFxA",
        "colab_type": "code",
        "colab": {}
      },
      "source": [
        "import tensorflow as tf\n",
        "import numpy as np\n",
        "import pandas as pd\n",
        "import matplotlib.pyplot as plt\n",
        "\n",
        "from tensorflow.keras.preprocessing.text import Tokenizer\n",
        "from tensorflow.keras.preprocessing.sequence import pad_sequences"
      ],
      "execution_count": 0,
      "outputs": []
    },
    {
      "cell_type": "code",
      "metadata": {
        "id": "LM8m70oGxNYs",
        "colab_type": "code",
        "colab": {
          "base_uri": "https://localhost:8080/",
          "height": 68
        },
        "outputId": "daeab181-b539-4e55-861e-9dbf2fd45703"
      },
      "source": [
        "path = tf.keras.utils.get_file('reviews.csv', \n",
        "                               'https://drive.google.com/uc?id=13ySLC_ue6Umt9RJYSeM2t-V0kCv-4C-P')\n",
        "print (path)"
      ],
      "execution_count": 2,
      "outputs": [
        {
          "output_type": "stream",
          "text": [
            "Downloading data from https://drive.google.com/uc?id=13ySLC_ue6Umt9RJYSeM2t-V0kCv-4C-P\n",
            "131072/127831 [==============================] - 0s 0us/step\n",
            "/root/.keras/datasets/reviews.csv\n"
          ],
          "name": "stdout"
        }
      ]
    },
    {
      "cell_type": "code",
      "metadata": {
        "id": "5aI3yKp8xQV9",
        "colab_type": "code",
        "colab": {
          "base_uri": "https://localhost:8080/",
          "height": 204
        },
        "outputId": "25944376-e81d-4b8a-cc78-ae0fe4de9891"
      },
      "source": [
        "# Take a look\n",
        "\n",
        "dataset = pd.read_csv(path)\n",
        "\n",
        "dataset.head()"
      ],
      "execution_count": 3,
      "outputs": [
        {
          "output_type": "execute_result",
          "data": {
            "text/html": [
              "<div>\n",
              "<style scoped>\n",
              "    .dataframe tbody tr th:only-of-type {\n",
              "        vertical-align: middle;\n",
              "    }\n",
              "\n",
              "    .dataframe tbody tr th {\n",
              "        vertical-align: top;\n",
              "    }\n",
              "\n",
              "    .dataframe thead th {\n",
              "        text-align: right;\n",
              "    }\n",
              "</style>\n",
              "<table border=\"1\" class=\"dataframe\">\n",
              "  <thead>\n",
              "    <tr style=\"text-align: right;\">\n",
              "      <th></th>\n",
              "      <th>Unnamed: 0</th>\n",
              "      <th>text</th>\n",
              "      <th>sentiment</th>\n",
              "    </tr>\n",
              "  </thead>\n",
              "  <tbody>\n",
              "    <tr>\n",
              "      <th>0</th>\n",
              "      <td>0</td>\n",
              "      <td>So there is no way for me to plug it in here i...</td>\n",
              "      <td>0</td>\n",
              "    </tr>\n",
              "    <tr>\n",
              "      <th>1</th>\n",
              "      <td>1</td>\n",
              "      <td>Good case Excellent value.</td>\n",
              "      <td>1</td>\n",
              "    </tr>\n",
              "    <tr>\n",
              "      <th>2</th>\n",
              "      <td>2</td>\n",
              "      <td>Great for the jawbone.</td>\n",
              "      <td>1</td>\n",
              "    </tr>\n",
              "    <tr>\n",
              "      <th>3</th>\n",
              "      <td>3</td>\n",
              "      <td>Tied to charger for conversations lasting more...</td>\n",
              "      <td>0</td>\n",
              "    </tr>\n",
              "    <tr>\n",
              "      <th>4</th>\n",
              "      <td>4</td>\n",
              "      <td>The mic is great.</td>\n",
              "      <td>1</td>\n",
              "    </tr>\n",
              "  </tbody>\n",
              "</table>\n",
              "</div>"
            ],
            "text/plain": [
              "   Unnamed: 0                                               text  sentiment\n",
              "0           0  So there is no way for me to plug it in here i...          0\n",
              "1           1                         Good case Excellent value.          1\n",
              "2           2                             Great for the jawbone.          1\n",
              "3           3  Tied to charger for conversations lasting more...          0\n",
              "4           4                                  The mic is great.          1"
            ]
          },
          "metadata": {
            "tags": []
          },
          "execution_count": 3
        }
      ]
    },
    {
      "cell_type": "code",
      "metadata": {
        "id": "_Pl_W6iFxhBn",
        "colab_type": "code",
        "colab": {
          "base_uri": "https://localhost:8080/",
          "height": 255
        },
        "outputId": "cf4f0d9d-b45f-4467-d434-bcf8daed0732"
      },
      "source": [
        "dataset.info"
      ],
      "execution_count": 4,
      "outputs": [
        {
          "output_type": "execute_result",
          "data": {
            "text/plain": [
              "<bound method DataFrame.info of       Unnamed: 0                                               text  sentiment\n",
              "0              0  So there is no way for me to plug it in here i...          0\n",
              "1              1                         Good case Excellent value.          1\n",
              "2              2                             Great for the jawbone.          1\n",
              "3              3  Tied to charger for conversations lasting more...          0\n",
              "4              4                                  The mic is great.          1\n",
              "...          ...                                                ...        ...\n",
              "1987        1987  I think food should have flavor and texture an...          0\n",
              "1988        1988                           Appetite instantly gone.          0\n",
              "1989        1989  Overall I was not impressed and would not go b...          0\n",
              "1990        1990  The whole experience was underwhelming and I t...          0\n",
              "1991        1991  Then as if I hadn't wasted enough of my life t...          0\n",
              "\n",
              "[1992 rows x 3 columns]>"
            ]
          },
          "metadata": {
            "tags": []
          },
          "execution_count": 4
        }
      ]
    },
    {
      "cell_type": "markdown",
      "metadata": {
        "id": "9NI0lwysxskd",
        "colab_type": "text"
      },
      "source": [
        "## Formatting Data"
      ]
    },
    {
      "cell_type": "code",
      "metadata": {
        "id": "3nmm5umCxl2d",
        "colab_type": "code",
        "colab": {}
      },
      "source": [
        "# Put into lists:\n",
        "\n",
        "sentences = dataset['text'].tolist()\n",
        "labels = dataset['sentiment'].tolist()\n",
        "\n",
        "# Split into train and text:\n",
        "\n",
        "training_size = int(len(sentences) * 0.8)\n",
        "\n",
        "training_sentences = sentences[0 : training_size]\n",
        "testing_sentences = sentences[training_size : ]\n",
        "training_labels = labels[0: training_size]\n",
        "testing_labels = labels[training_size : ]\n",
        "\n",
        "# Put labels into array:\n",
        "\n",
        "training_labels_final = np.array(training_labels)\n",
        "testing_labels_final = np.array(testing_labels)"
      ],
      "execution_count": 0,
      "outputs": []
    },
    {
      "cell_type": "markdown",
      "metadata": {
        "id": "K3v_btTXy-hh",
        "colab_type": "text"
      },
      "source": [
        "## Preparing Data"
      ]
    },
    {
      "cell_type": "code",
      "metadata": {
        "id": "Y30qTvoAytvN",
        "colab_type": "code",
        "colab": {}
      },
      "source": [
        "vocab_size = 500\n",
        "embedding_dim = 16\n",
        "max_length = 50\n",
        "trunc_type = 'post'\n",
        "padding_type = 'post'\n",
        "oov_tok = '<OOV>'"
      ],
      "execution_count": 0,
      "outputs": []
    },
    {
      "cell_type": "code",
      "metadata": {
        "id": "SkixACJxzRB8",
        "colab_type": "code",
        "colab": {}
      },
      "source": [
        "tokenizer = Tokenizer(num_words=vocab_size, oov_token=oov_tok)\n",
        "tokenizer.fit_on_texts(training_sentences)\n",
        "word_index = tokenizer.word_index\n",
        "\n",
        "training_sequences = tokenizer.texts_to_sequences(training_sentences)\n",
        "training_padded = pad_sequences(training_sequences, maxlen=max_length, padding=padding_type, truncating=trunc_type)\n",
        "\n",
        "testing_sequences = tokenizer.texts_to_sequences(testing_sentences)\n",
        "testing_padded = pad_sequences(testing_sequences, maxlen=max_length, padding=padding_type, truncating=trunc_type)"
      ],
      "execution_count": 0,
      "outputs": []
    },
    {
      "cell_type": "markdown",
      "metadata": {
        "id": "EJkMSzHU0NnQ",
        "colab_type": "text"
      },
      "source": [
        "## Building the Model"
      ]
    },
    {
      "cell_type": "code",
      "metadata": {
        "id": "i7hAoIZ30AZy",
        "colab_type": "code",
        "colab": {
          "base_uri": "https://localhost:8080/",
          "height": 289
        },
        "outputId": "e315393f-cf3b-4de7-a4b8-c1653203357b"
      },
      "source": [
        "model = tf.keras.models.Sequential()\n",
        "\n",
        "model.add(tf.keras.layers.Embedding(vocab_size, embedding_dim, input_length=max_length))\n",
        "model.add(tf.keras.layers.GlobalAveragePooling1D())\n",
        "model.add(tf.keras.layers.Dense(6, activation='relu'))\n",
        "model.add(tf.keras.layers.Dense(1, activation='sigmoid'))\n",
        "\n",
        "model.summary()"
      ],
      "execution_count": 15,
      "outputs": [
        {
          "output_type": "stream",
          "text": [
            "Model: \"sequential_2\"\n",
            "_________________________________________________________________\n",
            "Layer (type)                 Output Shape              Param #   \n",
            "=================================================================\n",
            "embedding_2 (Embedding)      (None, 50, 16)            8000      \n",
            "_________________________________________________________________\n",
            "global_average_pooling1d_2 ( (None, 16)                0         \n",
            "_________________________________________________________________\n",
            "dense_4 (Dense)              (None, 6)                 102       \n",
            "_________________________________________________________________\n",
            "dense_5 (Dense)              (None, 1)                 7         \n",
            "=================================================================\n",
            "Total params: 8,109\n",
            "Trainable params: 8,109\n",
            "Non-trainable params: 0\n",
            "_________________________________________________________________\n"
          ],
          "name": "stdout"
        }
      ]
    },
    {
      "cell_type": "code",
      "metadata": {
        "id": "UxEdXcGf0tqW",
        "colab_type": "code",
        "colab": {}
      },
      "source": [
        "model.compile(loss=tf.keras.losses.BinaryCrossentropy(from_logits=False),\n",
        "              optimizer='adam',\n",
        "              metrics=['accuracy'])"
      ],
      "execution_count": 0,
      "outputs": []
    },
    {
      "cell_type": "code",
      "metadata": {
        "id": "li2j7yCM0559",
        "colab_type": "code",
        "colab": {
          "base_uri": "https://localhost:8080/",
          "height": 1000
        },
        "outputId": "198c9b61-1fcf-4029-8d03-a6786e2dc44c"
      },
      "source": [
        "num_epochs = 100\n",
        "\n",
        "modelo = model.fit(training_padded, training_labels_final, epochs=num_epochs, validation_data=(testing_padded, testing_labels_final))"
      ],
      "execution_count": 17,
      "outputs": [
        {
          "output_type": "stream",
          "text": [
            "Epoch 1/100\n",
            "50/50 [==============================] - 0s 5ms/step - loss: 0.6916 - accuracy: 0.5223 - val_loss: 0.6996 - val_accuracy: 0.4110\n",
            "Epoch 2/100\n",
            "50/50 [==============================] - 0s 4ms/step - loss: 0.6892 - accuracy: 0.5223 - val_loss: 0.6994 - val_accuracy: 0.4185\n",
            "Epoch 3/100\n",
            "50/50 [==============================] - 0s 4ms/step - loss: 0.6859 - accuracy: 0.5292 - val_loss: 0.6937 - val_accuracy: 0.4687\n",
            "Epoch 4/100\n",
            "50/50 [==============================] - 0s 4ms/step - loss: 0.6812 - accuracy: 0.5637 - val_loss: 0.6920 - val_accuracy: 0.4787\n",
            "Epoch 5/100\n",
            "50/50 [==============================] - 0s 4ms/step - loss: 0.6745 - accuracy: 0.5782 - val_loss: 0.6866 - val_accuracy: 0.5063\n",
            "Epoch 6/100\n",
            "50/50 [==============================] - 0s 4ms/step - loss: 0.6651 - accuracy: 0.6102 - val_loss: 0.6770 - val_accuracy: 0.5439\n",
            "Epoch 7/100\n",
            "50/50 [==============================] - 0s 4ms/step - loss: 0.6519 - accuracy: 0.6711 - val_loss: 0.6704 - val_accuracy: 0.5514\n",
            "Epoch 8/100\n",
            "50/50 [==============================] - 0s 4ms/step - loss: 0.6335 - accuracy: 0.7175 - val_loss: 0.6626 - val_accuracy: 0.5564\n",
            "Epoch 9/100\n",
            "50/50 [==============================] - 0s 4ms/step - loss: 0.6119 - accuracy: 0.7094 - val_loss: 0.6362 - val_accuracy: 0.6391\n",
            "Epoch 10/100\n",
            "50/50 [==============================] - 0s 4ms/step - loss: 0.5857 - accuracy: 0.7790 - val_loss: 0.6275 - val_accuracy: 0.6266\n",
            "Epoch 11/100\n",
            "50/50 [==============================] - 0s 4ms/step - loss: 0.5571 - accuracy: 0.7891 - val_loss: 0.5986 - val_accuracy: 0.7018\n",
            "Epoch 12/100\n",
            "50/50 [==============================] - 0s 4ms/step - loss: 0.5277 - accuracy: 0.8198 - val_loss: 0.5816 - val_accuracy: 0.7218\n",
            "Epoch 13/100\n",
            "50/50 [==============================] - 0s 4ms/step - loss: 0.4977 - accuracy: 0.8274 - val_loss: 0.5570 - val_accuracy: 0.7619\n",
            "Epoch 14/100\n",
            "50/50 [==============================] - 0s 4ms/step - loss: 0.4705 - accuracy: 0.8406 - val_loss: 0.5488 - val_accuracy: 0.7343\n",
            "Epoch 15/100\n",
            "50/50 [==============================] - 0s 4ms/step - loss: 0.4464 - accuracy: 0.8431 - val_loss: 0.5435 - val_accuracy: 0.7243\n",
            "Epoch 16/100\n",
            "50/50 [==============================] - 0s 4ms/step - loss: 0.4214 - accuracy: 0.8550 - val_loss: 0.5009 - val_accuracy: 0.7870\n",
            "Epoch 17/100\n",
            "50/50 [==============================] - 0s 4ms/step - loss: 0.4059 - accuracy: 0.8456 - val_loss: 0.5182 - val_accuracy: 0.7393\n",
            "Epoch 18/100\n",
            "50/50 [==============================] - 0s 4ms/step - loss: 0.3818 - accuracy: 0.8675 - val_loss: 0.5073 - val_accuracy: 0.7544\n",
            "Epoch 19/100\n",
            "50/50 [==============================] - 0s 4ms/step - loss: 0.3660 - accuracy: 0.8688 - val_loss: 0.4949 - val_accuracy: 0.7644\n",
            "Epoch 20/100\n",
            "50/50 [==============================] - 0s 4ms/step - loss: 0.3495 - accuracy: 0.8726 - val_loss: 0.4912 - val_accuracy: 0.7669\n",
            "Epoch 21/100\n",
            "50/50 [==============================] - 0s 4ms/step - loss: 0.3354 - accuracy: 0.8757 - val_loss: 0.4750 - val_accuracy: 0.7895\n",
            "Epoch 22/100\n",
            "50/50 [==============================] - 0s 4ms/step - loss: 0.3233 - accuracy: 0.8757 - val_loss: 0.4979 - val_accuracy: 0.7393\n",
            "Epoch 23/100\n",
            "50/50 [==============================] - 0s 4ms/step - loss: 0.3118 - accuracy: 0.8883 - val_loss: 0.4830 - val_accuracy: 0.7594\n",
            "Epoch 24/100\n",
            "50/50 [==============================] - 0s 4ms/step - loss: 0.3014 - accuracy: 0.8889 - val_loss: 0.4746 - val_accuracy: 0.7744\n",
            "Epoch 25/100\n",
            "50/50 [==============================] - 0s 4ms/step - loss: 0.2929 - accuracy: 0.8851 - val_loss: 0.4794 - val_accuracy: 0.7619\n",
            "Epoch 26/100\n",
            "50/50 [==============================] - 0s 4ms/step - loss: 0.2853 - accuracy: 0.8914 - val_loss: 0.5071 - val_accuracy: 0.7343\n",
            "Epoch 27/100\n",
            "50/50 [==============================] - 0s 4ms/step - loss: 0.2764 - accuracy: 0.8876 - val_loss: 0.4748 - val_accuracy: 0.7669\n",
            "Epoch 28/100\n",
            "50/50 [==============================] - 0s 4ms/step - loss: 0.2692 - accuracy: 0.8927 - val_loss: 0.4676 - val_accuracy: 0.7794\n",
            "Epoch 29/100\n",
            "50/50 [==============================] - 0s 4ms/step - loss: 0.2625 - accuracy: 0.8983 - val_loss: 0.4953 - val_accuracy: 0.7419\n",
            "Epoch 30/100\n",
            "50/50 [==============================] - 0s 4ms/step - loss: 0.2567 - accuracy: 0.8996 - val_loss: 0.4594 - val_accuracy: 0.8020\n",
            "Epoch 31/100\n",
            "50/50 [==============================] - 0s 4ms/step - loss: 0.2524 - accuracy: 0.9027 - val_loss: 0.4859 - val_accuracy: 0.7519\n",
            "Epoch 32/100\n",
            "50/50 [==============================] - 0s 4ms/step - loss: 0.2456 - accuracy: 0.9014 - val_loss: 0.5033 - val_accuracy: 0.7419\n",
            "Epoch 33/100\n",
            "50/50 [==============================] - 0s 4ms/step - loss: 0.2403 - accuracy: 0.9077 - val_loss: 0.4986 - val_accuracy: 0.7519\n",
            "Epoch 34/100\n",
            "50/50 [==============================] - 0s 4ms/step - loss: 0.2338 - accuracy: 0.9083 - val_loss: 0.5039 - val_accuracy: 0.7469\n",
            "Epoch 35/100\n",
            "50/50 [==============================] - 0s 4ms/step - loss: 0.2306 - accuracy: 0.9115 - val_loss: 0.4703 - val_accuracy: 0.7995\n",
            "Epoch 36/100\n",
            "50/50 [==============================] - 0s 4ms/step - loss: 0.2275 - accuracy: 0.9102 - val_loss: 0.5256 - val_accuracy: 0.7393\n",
            "Epoch 37/100\n",
            "50/50 [==============================] - 0s 4ms/step - loss: 0.2229 - accuracy: 0.9090 - val_loss: 0.5134 - val_accuracy: 0.7494\n",
            "Epoch 38/100\n",
            "50/50 [==============================] - 0s 4ms/step - loss: 0.2193 - accuracy: 0.9134 - val_loss: 0.5293 - val_accuracy: 0.7444\n",
            "Epoch 39/100\n",
            "50/50 [==============================] - 0s 4ms/step - loss: 0.2157 - accuracy: 0.9165 - val_loss: 0.5284 - val_accuracy: 0.7444\n",
            "Epoch 40/100\n",
            "50/50 [==============================] - 0s 4ms/step - loss: 0.2107 - accuracy: 0.9146 - val_loss: 0.5387 - val_accuracy: 0.7419\n",
            "Epoch 41/100\n",
            "50/50 [==============================] - 0s 4ms/step - loss: 0.2081 - accuracy: 0.9140 - val_loss: 0.5198 - val_accuracy: 0.7544\n",
            "Epoch 42/100\n",
            "50/50 [==============================] - 0s 4ms/step - loss: 0.2046 - accuracy: 0.9171 - val_loss: 0.5063 - val_accuracy: 0.7594\n",
            "Epoch 43/100\n",
            "50/50 [==============================] - 0s 4ms/step - loss: 0.2029 - accuracy: 0.9153 - val_loss: 0.5391 - val_accuracy: 0.7419\n",
            "Epoch 44/100\n",
            "50/50 [==============================] - 0s 4ms/step - loss: 0.1987 - accuracy: 0.9228 - val_loss: 0.5518 - val_accuracy: 0.7469\n",
            "Epoch 45/100\n",
            "50/50 [==============================] - 0s 4ms/step - loss: 0.1946 - accuracy: 0.9215 - val_loss: 0.5264 - val_accuracy: 0.7519\n",
            "Epoch 46/100\n",
            "50/50 [==============================] - 0s 4ms/step - loss: 0.1956 - accuracy: 0.9234 - val_loss: 0.6024 - val_accuracy: 0.7093\n",
            "Epoch 47/100\n",
            "50/50 [==============================] - 0s 4ms/step - loss: 0.1904 - accuracy: 0.9209 - val_loss: 0.5825 - val_accuracy: 0.7243\n",
            "Epoch 48/100\n",
            "50/50 [==============================] - 0s 4ms/step - loss: 0.1880 - accuracy: 0.9309 - val_loss: 0.6354 - val_accuracy: 0.7043\n",
            "Epoch 49/100\n",
            "50/50 [==============================] - 0s 4ms/step - loss: 0.1941 - accuracy: 0.9222 - val_loss: 0.5899 - val_accuracy: 0.7218\n",
            "Epoch 50/100\n",
            "50/50 [==============================] - 0s 4ms/step - loss: 0.1840 - accuracy: 0.9291 - val_loss: 0.5487 - val_accuracy: 0.7569\n",
            "Epoch 51/100\n",
            "50/50 [==============================] - 0s 4ms/step - loss: 0.1821 - accuracy: 0.9347 - val_loss: 0.5794 - val_accuracy: 0.7368\n",
            "Epoch 52/100\n",
            "50/50 [==============================] - 0s 4ms/step - loss: 0.1789 - accuracy: 0.9259 - val_loss: 0.5864 - val_accuracy: 0.7343\n",
            "Epoch 53/100\n",
            "50/50 [==============================] - 0s 4ms/step - loss: 0.1768 - accuracy: 0.9303 - val_loss: 0.5733 - val_accuracy: 0.7419\n",
            "Epoch 54/100\n",
            "50/50 [==============================] - 0s 4ms/step - loss: 0.1793 - accuracy: 0.9284 - val_loss: 0.6149 - val_accuracy: 0.7168\n",
            "Epoch 55/100\n",
            "50/50 [==============================] - 0s 4ms/step - loss: 0.1738 - accuracy: 0.9316 - val_loss: 0.5953 - val_accuracy: 0.7393\n",
            "Epoch 56/100\n",
            "50/50 [==============================] - 0s 4ms/step - loss: 0.1721 - accuracy: 0.9335 - val_loss: 0.6189 - val_accuracy: 0.7268\n",
            "Epoch 57/100\n",
            "50/50 [==============================] - 0s 4ms/step - loss: 0.1722 - accuracy: 0.9328 - val_loss: 0.6300 - val_accuracy: 0.7168\n",
            "Epoch 58/100\n",
            "50/50 [==============================] - 0s 4ms/step - loss: 0.1698 - accuracy: 0.9341 - val_loss: 0.6009 - val_accuracy: 0.7444\n",
            "Epoch 59/100\n",
            "50/50 [==============================] - 0s 4ms/step - loss: 0.1681 - accuracy: 0.9322 - val_loss: 0.5850 - val_accuracy: 0.7494\n",
            "Epoch 60/100\n",
            "50/50 [==============================] - 0s 4ms/step - loss: 0.1666 - accuracy: 0.9379 - val_loss: 0.5824 - val_accuracy: 0.7519\n",
            "Epoch 61/100\n",
            "50/50 [==============================] - 0s 4ms/step - loss: 0.1639 - accuracy: 0.9303 - val_loss: 0.6120 - val_accuracy: 0.7469\n",
            "Epoch 62/100\n",
            "50/50 [==============================] - 0s 4ms/step - loss: 0.1610 - accuracy: 0.9416 - val_loss: 0.6351 - val_accuracy: 0.7293\n",
            "Epoch 63/100\n",
            "50/50 [==============================] - 0s 4ms/step - loss: 0.1614 - accuracy: 0.9353 - val_loss: 0.6630 - val_accuracy: 0.7218\n",
            "Epoch 64/100\n",
            "50/50 [==============================] - 0s 4ms/step - loss: 0.1587 - accuracy: 0.9404 - val_loss: 0.6764 - val_accuracy: 0.7218\n",
            "Epoch 65/100\n",
            "50/50 [==============================] - 0s 4ms/step - loss: 0.1582 - accuracy: 0.9366 - val_loss: 0.6778 - val_accuracy: 0.7243\n",
            "Epoch 66/100\n",
            "50/50 [==============================] - 0s 4ms/step - loss: 0.1561 - accuracy: 0.9372 - val_loss: 0.6367 - val_accuracy: 0.7343\n",
            "Epoch 67/100\n",
            "50/50 [==============================] - 0s 4ms/step - loss: 0.1541 - accuracy: 0.9441 - val_loss: 0.6847 - val_accuracy: 0.7293\n",
            "Epoch 68/100\n",
            "50/50 [==============================] - 0s 4ms/step - loss: 0.1524 - accuracy: 0.9410 - val_loss: 0.7367 - val_accuracy: 0.6967\n",
            "Epoch 69/100\n",
            "50/50 [==============================] - 0s 4ms/step - loss: 0.1555 - accuracy: 0.9429 - val_loss: 0.6409 - val_accuracy: 0.7393\n",
            "Epoch 70/100\n",
            "50/50 [==============================] - 0s 4ms/step - loss: 0.1512 - accuracy: 0.9429 - val_loss: 0.6808 - val_accuracy: 0.7343\n",
            "Epoch 71/100\n",
            "50/50 [==============================] - 0s 4ms/step - loss: 0.1489 - accuracy: 0.9448 - val_loss: 0.6791 - val_accuracy: 0.7343\n",
            "Epoch 72/100\n",
            "50/50 [==============================] - 0s 4ms/step - loss: 0.1476 - accuracy: 0.9448 - val_loss: 0.7180 - val_accuracy: 0.7293\n",
            "Epoch 73/100\n",
            "50/50 [==============================] - 0s 4ms/step - loss: 0.1468 - accuracy: 0.9441 - val_loss: 0.7605 - val_accuracy: 0.7018\n",
            "Epoch 74/100\n",
            "50/50 [==============================] - 0s 4ms/step - loss: 0.1478 - accuracy: 0.9473 - val_loss: 0.6640 - val_accuracy: 0.7469\n",
            "Epoch 75/100\n",
            "50/50 [==============================] - 0s 4ms/step - loss: 0.1488 - accuracy: 0.9404 - val_loss: 0.7943 - val_accuracy: 0.7043\n",
            "Epoch 76/100\n",
            "50/50 [==============================] - 0s 4ms/step - loss: 0.1436 - accuracy: 0.9479 - val_loss: 0.6847 - val_accuracy: 0.7318\n",
            "Epoch 77/100\n",
            "50/50 [==============================] - 0s 4ms/step - loss: 0.1430 - accuracy: 0.9460 - val_loss: 0.7176 - val_accuracy: 0.7343\n",
            "Epoch 78/100\n",
            "50/50 [==============================] - 0s 4ms/step - loss: 0.1410 - accuracy: 0.9485 - val_loss: 0.7412 - val_accuracy: 0.7293\n",
            "Epoch 79/100\n",
            "50/50 [==============================] - 0s 4ms/step - loss: 0.1405 - accuracy: 0.9441 - val_loss: 0.8267 - val_accuracy: 0.6967\n",
            "Epoch 80/100\n",
            "50/50 [==============================] - 0s 4ms/step - loss: 0.1423 - accuracy: 0.9492 - val_loss: 0.7430 - val_accuracy: 0.7343\n",
            "Epoch 81/100\n",
            "50/50 [==============================] - 0s 4ms/step - loss: 0.1383 - accuracy: 0.9473 - val_loss: 0.7431 - val_accuracy: 0.7318\n",
            "Epoch 82/100\n",
            "50/50 [==============================] - 0s 4ms/step - loss: 0.1373 - accuracy: 0.9466 - val_loss: 0.7968 - val_accuracy: 0.7218\n",
            "Epoch 83/100\n",
            "50/50 [==============================] - 0s 4ms/step - loss: 0.1386 - accuracy: 0.9473 - val_loss: 0.7699 - val_accuracy: 0.7293\n",
            "Epoch 84/100\n",
            "50/50 [==============================] - 0s 4ms/step - loss: 0.1381 - accuracy: 0.9492 - val_loss: 0.7354 - val_accuracy: 0.7368\n",
            "Epoch 85/100\n",
            "50/50 [==============================] - 0s 4ms/step - loss: 0.1362 - accuracy: 0.9535 - val_loss: 0.7625 - val_accuracy: 0.7318\n",
            "Epoch 86/100\n",
            "50/50 [==============================] - 0s 4ms/step - loss: 0.1337 - accuracy: 0.9523 - val_loss: 0.7899 - val_accuracy: 0.7318\n",
            "Epoch 87/100\n",
            "50/50 [==============================] - 0s 4ms/step - loss: 0.1340 - accuracy: 0.9492 - val_loss: 0.8284 - val_accuracy: 0.7193\n",
            "Epoch 88/100\n",
            "50/50 [==============================] - 0s 4ms/step - loss: 0.1328 - accuracy: 0.9510 - val_loss: 0.7696 - val_accuracy: 0.7343\n",
            "Epoch 89/100\n",
            "50/50 [==============================] - 0s 4ms/step - loss: 0.1311 - accuracy: 0.9535 - val_loss: 0.8278 - val_accuracy: 0.7218\n",
            "Epoch 90/100\n",
            "50/50 [==============================] - 0s 4ms/step - loss: 0.1317 - accuracy: 0.9529 - val_loss: 0.7988 - val_accuracy: 0.7368\n",
            "Epoch 91/100\n",
            "50/50 [==============================] - 0s 4ms/step - loss: 0.1336 - accuracy: 0.9535 - val_loss: 0.8079 - val_accuracy: 0.7318\n",
            "Epoch 92/100\n",
            "50/50 [==============================] - 0s 4ms/step - loss: 0.1288 - accuracy: 0.9523 - val_loss: 0.7895 - val_accuracy: 0.7343\n",
            "Epoch 93/100\n",
            "50/50 [==============================] - 0s 4ms/step - loss: 0.1279 - accuracy: 0.9529 - val_loss: 0.8655 - val_accuracy: 0.7168\n",
            "Epoch 94/100\n",
            "50/50 [==============================] - 0s 4ms/step - loss: 0.1267 - accuracy: 0.9548 - val_loss: 0.8415 - val_accuracy: 0.7268\n",
            "Epoch 95/100\n",
            "50/50 [==============================] - 0s 4ms/step - loss: 0.1303 - accuracy: 0.9517 - val_loss: 0.8340 - val_accuracy: 0.7343\n",
            "Epoch 96/100\n",
            "50/50 [==============================] - 0s 4ms/step - loss: 0.1257 - accuracy: 0.9529 - val_loss: 0.8324 - val_accuracy: 0.7343\n",
            "Epoch 97/100\n",
            "50/50 [==============================] - 0s 4ms/step - loss: 0.1239 - accuracy: 0.9554 - val_loss: 0.8890 - val_accuracy: 0.7168\n",
            "Epoch 98/100\n",
            "50/50 [==============================] - 0s 4ms/step - loss: 0.1238 - accuracy: 0.9529 - val_loss: 0.8228 - val_accuracy: 0.7444\n",
            "Epoch 99/100\n",
            "50/50 [==============================] - 0s 4ms/step - loss: 0.1238 - accuracy: 0.9535 - val_loss: 0.8871 - val_accuracy: 0.7218\n",
            "Epoch 100/100\n",
            "50/50 [==============================] - 0s 4ms/step - loss: 0.1236 - accuracy: 0.9535 - val_loss: 0.8614 - val_accuracy: 0.7343\n"
          ],
          "name": "stdout"
        }
      ]
    },
    {
      "cell_type": "markdown",
      "metadata": {
        "id": "P2FkEX8G1lDT",
        "colab_type": "text"
      },
      "source": [
        "## Exploring results"
      ]
    },
    {
      "cell_type": "code",
      "metadata": {
        "id": "SHsl_fUh1LLK",
        "colab_type": "code",
        "colab": {
          "base_uri": "https://localhost:8080/",
          "height": 282
        },
        "outputId": "7f875ec6-1009-44a4-feeb-330272c3b4b3"
      },
      "source": [
        "plt.plot(modelo.history['accuracy'])"
      ],
      "execution_count": 18,
      "outputs": [
        {
          "output_type": "execute_result",
          "data": {
            "text/plain": [
              "[<matplotlib.lines.Line2D at 0x7f8e0d2a6828>]"
            ]
          },
          "metadata": {
            "tags": []
          },
          "execution_count": 18
        },
        {
          "output_type": "display_data",
          "data": {
            "image/png": "[encoded data removed]",
            "text/plain": [
              "<Figure size 432x288 with 1 Axes>"
            ]
          },
          "metadata": {
            "tags": [],
            "needs_background": "light"
          }
        }
      ]
    },
    {
      "cell_type": "code",
      "metadata": {
        "id": "IRS7-9jI1tUt",
        "colab_type": "code",
        "colab": {
          "base_uri": "https://localhost:8080/",
          "height": 282
        },
        "outputId": "c5e05367-5dff-44ed-dcc1-2c6b43fb9486"
      },
      "source": [
        "plt.plot(modelo.history['loss'])"
      ],
      "execution_count": 19,
      "outputs": [
        {
          "output_type": "execute_result",
          "data": {
            "text/plain": [
              "[<matplotlib.lines.Line2D at 0x7f8e0d38fe10>]"
            ]
          },
          "metadata": {
            "tags": []
          },
          "execution_count": 19
        },
        {
          "output_type": "display_data",
          "data": {
            "image/png": "[encoded data removed]",
            "text/plain": [
              "<Figure size 432x288 with 1 Axes>"
            ]
          },
          "metadata": {
            "tags": [],
            "needs_background": "light"
          }
        }
      ]
    },
    {
      "cell_type": "code",
      "metadata": {
        "id": "eP0JuNOD3MOq",
        "colab_type": "code",
        "colab": {
          "base_uri": "https://localhost:8080/",
          "height": 282
        },
        "outputId": "812ba2a6-c27a-4fca-9568-8cc70554022b"
      },
      "source": [
        "plt.plot(modelo.history['val_accuracy'])"
      ],
      "execution_count": 20,
      "outputs": [
        {
          "output_type": "execute_result",
          "data": {
            "text/plain": [
              "[<matplotlib.lines.Line2D at 0x7f8e243de908>]"
            ]
          },
          "metadata": {
            "tags": []
          },
          "execution_count": 20
        },
        {
          "output_type": "display_data",
          "data": {
            "image/png": "[encoded data removed]",
            "text/plain": [
              "<Figure size 432x288 with 1 Axes>"
            ]
          },
          "metadata": {
            "tags": [],
            "needs_background": "light"
          }
        }
      ]
    },
    {
      "cell_type": "code",
      "metadata": {
        "id": "EsGe4fRB3Q0_",
        "colab_type": "code",
        "colab": {
          "base_uri": "https://localhost:8080/",
          "height": 282
        },
        "outputId": "6f965953-0303-41a0-aade-4d862230cf52"
      },
      "source": [
        "plt.plot(modelo.history['val_loss'])"
      ],
      "execution_count": 21,
      "outputs": [
        {
          "output_type": "execute_result",
          "data": {
            "text/plain": [
              "[<matplotlib.lines.Line2D at 0x7f8e244ec748>]"
            ]
          },
          "metadata": {
            "tags": []
          },
          "execution_count": 21
        },
        {
          "output_type": "display_data",
          "data": {
            "image/png": "[encoded data removed]",
            "text/plain": [
              "<Figure size 432x288 with 1 Axes>"
            ]
          },
          "metadata": {
            "tags": [],
            "needs_background": "light"
          }
        }
      ]
    },
    {
      "cell_type": "code",
      "metadata": {
        "id": "9ZeNo1vW3S_v",
        "colab_type": "code",
        "colab": {}
      },
      "source": [
        ""
      ],
      "execution_count": 0,
      "outputs": []
    }
  ]
}